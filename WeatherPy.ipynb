{
 "cells": [
  {
   "cell_type": "markdown",
   "metadata": {},
   "source": [
    "# WeatherPy\n",
    "----\n",
    "\n",
    "#### Note\n",
    "* Instructions have been included for each segment. You do not have to follow them exactly, but they are included to help you think through the steps."
   ]
  },
  {
   "cell_type": "code",
   "execution_count": 1,
   "metadata": {
    "scrolled": true
   },
   "outputs": [],
   "source": [
    "# Dependencies and Setup\n",
    "import matplotlib.pyplot as plt\n",
    "import pandas as pd\n",
    "import numpy as np\n",
    "import requests\n",
    "import time\n",
    "import citipy\n",
    "from scipy.stats import linregress\n",
    "import json\n",
    "\n",
    "\n",
    "# Import API key\n",
    "from api_keys import weather_api_key\n",
    "\n",
    "# Incorporated citipy to determine city based on latitude and longitude\n",
    "from citipy import citipy\n",
    "\n",
    "# Output File (CSV)\n",
    "output_data_file = \"output_data/cities.csv\"\n",
    "\n",
    "# Range of latitudes and longitudes\n",
    "lat_range = (-90, 90)\n",
    "lng_range = (-180, 180)"
   ]
  },
  {
   "cell_type": "markdown",
   "metadata": {},
   "source": [
    "## Generate Cities List"
   ]
  },
  {
   "cell_type": "code",
   "execution_count": 2,
   "metadata": {},
   "outputs": [
    {
     "data": {
      "text/plain": [
       "['sao filipe', 'rikitea', 'berlevag', 'new norfolk', 'whittlesea']"
      ]
     },
     "execution_count": 2,
     "metadata": {},
     "output_type": "execute_result"
    }
   ],
   "source": [
    "# List for holding lat_lngs and cities\n",
    "lat_lngs = []\n",
    "cities = []\n",
    "\n",
    "# Create a set of random lat and lng combinations\n",
    "lats = np.random.uniform(lat_range[0], lat_range[1], size=1500)\n",
    "lngs = np.random.uniform(lng_range[0], lng_range[1], size=1500)\n",
    "lat_lngs = zip(lats, lngs)\n",
    "\n",
    "# Identify nearest city for each lat, lng combination\n",
    "for lat_lng in lat_lngs:\n",
    "    city = citipy.nearest_city(lat_lng[0], lat_lng[1]).city_name\n",
    "    \n",
    "    # If the city is unique, then add it to a our cities list\n",
    "    if city not in cities:\n",
    "        cities.append(city)\n",
    "\n",
    "# Print the city count to confirm sufficient count\n",
    "cities[0:5]"
   ]
  },
  {
   "cell_type": "code",
   "execution_count": 3,
   "metadata": {},
   "outputs": [
    {
     "data": {
      "text/plain": [
       "622"
      ]
     },
     "execution_count": 3,
     "metadata": {},
     "output_type": "execute_result"
    }
   ],
   "source": [
    "len(cities)"
   ]
  },
  {
   "cell_type": "markdown",
   "metadata": {},
   "source": [
    "### Perform API Calls\n",
    "* Perform a weather check on each city using a series of successive API calls.\n",
    "* Include a print log of each city as it'sbeing processed (with the city number and city name).\n"
   ]
  },
  {
   "cell_type": "code",
   "execution_count": 4,
   "metadata": {
    "scrolled": false
   },
   "outputs": [
    {
     "name": "stdout",
     "output_type": "stream",
     "text": [
      "Making API call\n",
      "1 Getting data for sao filipe\n",
      "https://api.openweathermap.org/data/2.5/weather?appid=0845fadc8ba8cc650f9af2c9b78478de&q=sao filipe&units=metric\n",
      "2 Getting data for rikitea\n",
      "https://api.openweathermap.org/data/2.5/weather?appid=0845fadc8ba8cc650f9af2c9b78478de&q=rikitea&units=metric\n",
      "3 Getting data for berlevag\n",
      "https://api.openweathermap.org/data/2.5/weather?appid=0845fadc8ba8cc650f9af2c9b78478de&q=berlevag&units=metric\n",
      "4 Getting data for new norfolk\n",
      "https://api.openweathermap.org/data/2.5/weather?appid=0845fadc8ba8cc650f9af2c9b78478de&q=new norfolk&units=metric\n",
      "5 Getting data for whittlesea\n",
      "https://api.openweathermap.org/data/2.5/weather?appid=0845fadc8ba8cc650f9af2c9b78478de&q=whittlesea&units=metric\n",
      "6 Getting data for saint george\n",
      "https://api.openweathermap.org/data/2.5/weather?appid=0845fadc8ba8cc650f9af2c9b78478de&q=saint george&units=metric\n",
      "7 Getting data for alice springs\n",
      "https://api.openweathermap.org/data/2.5/weather?appid=0845fadc8ba8cc650f9af2c9b78478de&q=alice springs&units=metric\n",
      "8 Getting data for kruisfontein\n",
      "https://api.openweathermap.org/data/2.5/weather?appid=0845fadc8ba8cc650f9af2c9b78478de&q=kruisfontein&units=metric\n",
      "9 Getting data for hobart\n",
      "https://api.openweathermap.org/data/2.5/weather?appid=0845fadc8ba8cc650f9af2c9b78478de&q=hobart&units=metric\n",
      "10 Getting data for leningradskiy\n",
      "https://api.openweathermap.org/data/2.5/weather?appid=0845fadc8ba8cc650f9af2c9b78478de&q=leningradskiy&units=metric\n",
      "11 Getting data for akyab\n",
      "https://api.openweathermap.org/data/2.5/weather?appid=0845fadc8ba8cc650f9af2c9b78478de&q=akyab&units=metric\n",
      "12 Getting data for mys shmidta\n",
      "https://api.openweathermap.org/data/2.5/weather?appid=0845fadc8ba8cc650f9af2c9b78478de&q=mys shmidta&units=metric\n",
      "13 Getting data for vaini\n",
      "https://api.openweathermap.org/data/2.5/weather?appid=0845fadc8ba8cc650f9af2c9b78478de&q=vaini&units=metric\n",
      "14 Getting data for busselton\n",
      "https://api.openweathermap.org/data/2.5/weather?appid=0845fadc8ba8cc650f9af2c9b78478de&q=busselton&units=metric\n",
      "15 Getting data for provideniya\n",
      "https://api.openweathermap.org/data/2.5/weather?appid=0845fadc8ba8cc650f9af2c9b78478de&q=provideniya&units=metric\n",
      "16 Getting data for joaima\n",
      "https://api.openweathermap.org/data/2.5/weather?appid=0845fadc8ba8cc650f9af2c9b78478de&q=joaima&units=metric\n",
      "17 Getting data for kapaa\n",
      "https://api.openweathermap.org/data/2.5/weather?appid=0845fadc8ba8cc650f9af2c9b78478de&q=kapaa&units=metric\n",
      "18 Getting data for bredasdorp\n",
      "https://api.openweathermap.org/data/2.5/weather?appid=0845fadc8ba8cc650f9af2c9b78478de&q=bredasdorp&units=metric\n",
      "19 Getting data for sitka\n",
      "https://api.openweathermap.org/data/2.5/weather?appid=0845fadc8ba8cc650f9af2c9b78478de&q=sitka&units=metric\n",
      "20 Getting data for hermanus\n",
      "https://api.openweathermap.org/data/2.5/weather?appid=0845fadc8ba8cc650f9af2c9b78478de&q=hermanus&units=metric\n",
      "21 Getting data for mataura\n",
      "https://api.openweathermap.org/data/2.5/weather?appid=0845fadc8ba8cc650f9af2c9b78478de&q=mataura&units=metric\n",
      "22 Getting data for entre rios\n",
      "https://api.openweathermap.org/data/2.5/weather?appid=0845fadc8ba8cc650f9af2c9b78478de&q=entre rios&units=metric\n",
      "23 Getting data for east london\n",
      "https://api.openweathermap.org/data/2.5/weather?appid=0845fadc8ba8cc650f9af2c9b78478de&q=east london&units=metric\n",
      "24 Getting data for kahului\n",
      "https://api.openweathermap.org/data/2.5/weather?appid=0845fadc8ba8cc650f9af2c9b78478de&q=kahului&units=metric\n",
      "25 Getting data for guerrero negro\n",
      "https://api.openweathermap.org/data/2.5/weather?appid=0845fadc8ba8cc650f9af2c9b78478de&q=guerrero negro&units=metric\n",
      "26 Getting data for qaanaaq\n",
      "https://api.openweathermap.org/data/2.5/weather?appid=0845fadc8ba8cc650f9af2c9b78478de&q=qaanaaq&units=metric\n",
      "27 Getting data for jamestown\n",
      "https://api.openweathermap.org/data/2.5/weather?appid=0845fadc8ba8cc650f9af2c9b78478de&q=jamestown&units=metric\n",
      "28 Getting data for mackenzie\n",
      "https://api.openweathermap.org/data/2.5/weather?appid=0845fadc8ba8cc650f9af2c9b78478de&q=mackenzie&units=metric\n",
      "29 Getting data for tautira\n",
      "https://api.openweathermap.org/data/2.5/weather?appid=0845fadc8ba8cc650f9af2c9b78478de&q=tautira&units=metric\n",
      "30 Getting data for zhigansk\n",
      "https://api.openweathermap.org/data/2.5/weather?appid=0845fadc8ba8cc650f9af2c9b78478de&q=zhigansk&units=metric\n",
      "31 Getting data for dikson\n",
      "https://api.openweathermap.org/data/2.5/weather?appid=0845fadc8ba8cc650f9af2c9b78478de&q=dikson&units=metric\n",
      "32 Getting data for quesnel\n",
      "https://api.openweathermap.org/data/2.5/weather?appid=0845fadc8ba8cc650f9af2c9b78478de&q=quesnel&units=metric\n",
      "33 Getting data for fort myers beach\n",
      "https://api.openweathermap.org/data/2.5/weather?appid=0845fadc8ba8cc650f9af2c9b78478de&q=fort myers beach&units=metric\n",
      "34 Getting data for puerto ayora\n",
      "https://api.openweathermap.org/data/2.5/weather?appid=0845fadc8ba8cc650f9af2c9b78478de&q=puerto ayora&units=metric\n",
      "35 Getting data for saint-philippe\n",
      "https://api.openweathermap.org/data/2.5/weather?appid=0845fadc8ba8cc650f9af2c9b78478de&q=saint-philippe&units=metric\n",
      "36 Getting data for malakal\n",
      "https://api.openweathermap.org/data/2.5/weather?appid=0845fadc8ba8cc650f9af2c9b78478de&q=malakal&units=metric\n",
      "37 Getting data for ribeira grande\n",
      "https://api.openweathermap.org/data/2.5/weather?appid=0845fadc8ba8cc650f9af2c9b78478de&q=ribeira grande&units=metric\n",
      "38 Getting data for lebu\n",
      "https://api.openweathermap.org/data/2.5/weather?appid=0845fadc8ba8cc650f9af2c9b78478de&q=lebu&units=metric\n",
      "39 Getting data for belaya gora\n",
      "https://api.openweathermap.org/data/2.5/weather?appid=0845fadc8ba8cc650f9af2c9b78478de&q=belaya gora&units=metric\n",
      "40 Getting data for ushuaia\n",
      "https://api.openweathermap.org/data/2.5/weather?appid=0845fadc8ba8cc650f9af2c9b78478de&q=ushuaia&units=metric\n",
      "41 Getting data for avarua\n",
      "https://api.openweathermap.org/data/2.5/weather?appid=0845fadc8ba8cc650f9af2c9b78478de&q=avarua&units=metric\n",
      "42 Getting data for ancud\n",
      "https://api.openweathermap.org/data/2.5/weather?appid=0845fadc8ba8cc650f9af2c9b78478de&q=ancud&units=metric\n",
      "43 Getting data for port alfred\n",
      "https://api.openweathermap.org/data/2.5/weather?appid=0845fadc8ba8cc650f9af2c9b78478de&q=port alfred&units=metric\n",
      "44 Getting data for acajutla\n",
      "https://api.openweathermap.org/data/2.5/weather?appid=0845fadc8ba8cc650f9af2c9b78478de&q=acajutla&units=metric\n",
      "45 Getting data for fairbanks\n",
      "https://api.openweathermap.org/data/2.5/weather?appid=0845fadc8ba8cc650f9af2c9b78478de&q=fairbanks&units=metric\n",
      "46 Getting data for hamilton\n",
      "https://api.openweathermap.org/data/2.5/weather?appid=0845fadc8ba8cc650f9af2c9b78478de&q=hamilton&units=metric\n",
      "47 Getting data for tromso\n",
      "https://api.openweathermap.org/data/2.5/weather?appid=0845fadc8ba8cc650f9af2c9b78478de&q=tromso&units=metric\n",
      "48 Getting data for richards bay\n",
      "https://api.openweathermap.org/data/2.5/weather?appid=0845fadc8ba8cc650f9af2c9b78478de&q=richards bay&units=metric\n",
      "49 Getting data for punta arenas\n",
      "https://api.openweathermap.org/data/2.5/weather?appid=0845fadc8ba8cc650f9af2c9b78478de&q=punta arenas&units=metric\n",
      "50 Getting data for rundu\n",
      "https://api.openweathermap.org/data/2.5/weather?appid=0845fadc8ba8cc650f9af2c9b78478de&q=rundu&units=metric\n",
      "51 Getting data for half moon bay\n",
      "https://api.openweathermap.org/data/2.5/weather?appid=0845fadc8ba8cc650f9af2c9b78478de&q=half moon bay&units=metric\n",
      "52 Getting data for butaritari\n",
      "https://api.openweathermap.org/data/2.5/weather?appid=0845fadc8ba8cc650f9af2c9b78478de&q=butaritari&units=metric\n",
      "53 Getting data for thompson\n",
      "https://api.openweathermap.org/data/2.5/weather?appid=0845fadc8ba8cc650f9af2c9b78478de&q=thompson&units=metric\n",
      "54 Getting data for airai\n",
      "https://api.openweathermap.org/data/2.5/weather?appid=0845fadc8ba8cc650f9af2c9b78478de&q=airai&units=metric\n",
      "55 Getting data for arraial do cabo\n",
      "https://api.openweathermap.org/data/2.5/weather?appid=0845fadc8ba8cc650f9af2c9b78478de&q=arraial do cabo&units=metric\n",
      "56 Getting data for nikolskoye\n",
      "https://api.openweathermap.org/data/2.5/weather?appid=0845fadc8ba8cc650f9af2c9b78478de&q=nikolskoye&units=metric\n",
      "57 Getting data for ipu\n",
      "https://api.openweathermap.org/data/2.5/weather?appid=0845fadc8ba8cc650f9af2c9b78478de&q=ipu&units=metric\n",
      "58 Getting data for norman wells\n",
      "https://api.openweathermap.org/data/2.5/weather?appid=0845fadc8ba8cc650f9af2c9b78478de&q=norman wells&units=metric\n"
     ]
    },
    {
     "name": "stdout",
     "output_type": "stream",
     "text": [
      "59 Getting data for port hardy\n",
      "https://api.openweathermap.org/data/2.5/weather?appid=0845fadc8ba8cc650f9af2c9b78478de&q=port hardy&units=metric\n",
      "60 Getting data for faanui\n",
      "https://api.openweathermap.org/data/2.5/weather?appid=0845fadc8ba8cc650f9af2c9b78478de&q=faanui&units=metric\n",
      "61 Getting data for doctor pedro p. pena\n",
      "https://api.openweathermap.org/data/2.5/weather?appid=0845fadc8ba8cc650f9af2c9b78478de&q=doctor pedro p. pena&units=metric\n",
      "62 Getting data for taolanaro\n",
      "https://api.openweathermap.org/data/2.5/weather?appid=0845fadc8ba8cc650f9af2c9b78478de&q=taolanaro&units=metric\n",
      "63 Getting data for hilo\n",
      "https://api.openweathermap.org/data/2.5/weather?appid=0845fadc8ba8cc650f9af2c9b78478de&q=hilo&units=metric\n",
      "64 Getting data for iqaluit\n",
      "https://api.openweathermap.org/data/2.5/weather?appid=0845fadc8ba8cc650f9af2c9b78478de&q=iqaluit&units=metric\n",
      "65 Getting data for yellowknife\n",
      "https://api.openweathermap.org/data/2.5/weather?appid=0845fadc8ba8cc650f9af2c9b78478de&q=yellowknife&units=metric\n",
      "66 Getting data for do gonbadan\n",
      "https://api.openweathermap.org/data/2.5/weather?appid=0845fadc8ba8cc650f9af2c9b78478de&q=do gonbadan&units=metric\n",
      "67 Getting data for oktyabrskiy\n",
      "https://api.openweathermap.org/data/2.5/weather?appid=0845fadc8ba8cc650f9af2c9b78478de&q=oktyabrskiy&units=metric\n",
      "68 Getting data for kloulklubed\n",
      "https://api.openweathermap.org/data/2.5/weather?appid=0845fadc8ba8cc650f9af2c9b78478de&q=kloulklubed&units=metric\n",
      "69 Getting data for mount gambier\n",
      "https://api.openweathermap.org/data/2.5/weather?appid=0845fadc8ba8cc650f9af2c9b78478de&q=mount gambier&units=metric\n",
      "70 Getting data for ahuimanu\n",
      "https://api.openweathermap.org/data/2.5/weather?appid=0845fadc8ba8cc650f9af2c9b78478de&q=ahuimanu&units=metric\n",
      "71 Getting data for olafsvik\n",
      "https://api.openweathermap.org/data/2.5/weather?appid=0845fadc8ba8cc650f9af2c9b78478de&q=olafsvik&units=metric\n",
      "72 Getting data for constantine\n",
      "https://api.openweathermap.org/data/2.5/weather?appid=0845fadc8ba8cc650f9af2c9b78478de&q=constantine&units=metric\n",
      "73 Getting data for coquimbo\n",
      "https://api.openweathermap.org/data/2.5/weather?appid=0845fadc8ba8cc650f9af2c9b78478de&q=coquimbo&units=metric\n",
      "74 Getting data for chokurdakh\n",
      "https://api.openweathermap.org/data/2.5/weather?appid=0845fadc8ba8cc650f9af2c9b78478de&q=chokurdakh&units=metric\n",
      "75 Getting data for atuona\n",
      "https://api.openweathermap.org/data/2.5/weather?appid=0845fadc8ba8cc650f9af2c9b78478de&q=atuona&units=metric\n",
      "76 Getting data for srednekolymsk\n",
      "https://api.openweathermap.org/data/2.5/weather?appid=0845fadc8ba8cc650f9af2c9b78478de&q=srednekolymsk&units=metric\n",
      "77 Getting data for albany\n",
      "https://api.openweathermap.org/data/2.5/weather?appid=0845fadc8ba8cc650f9af2c9b78478de&q=albany&units=metric\n",
      "78 Getting data for grand gaube\n",
      "https://api.openweathermap.org/data/2.5/weather?appid=0845fadc8ba8cc650f9af2c9b78478de&q=grand gaube&units=metric\n",
      "79 Getting data for attawapiskat\n",
      "https://api.openweathermap.org/data/2.5/weather?appid=0845fadc8ba8cc650f9af2c9b78478de&q=attawapiskat&units=metric\n",
      "80 Getting data for vila franca do campo\n",
      "https://api.openweathermap.org/data/2.5/weather?appid=0845fadc8ba8cc650f9af2c9b78478de&q=vila franca do campo&units=metric\n",
      "81 Getting data for saldanha\n",
      "https://api.openweathermap.org/data/2.5/weather?appid=0845fadc8ba8cc650f9af2c9b78478de&q=saldanha&units=metric\n",
      "82 Getting data for walvis bay\n",
      "https://api.openweathermap.org/data/2.5/weather?appid=0845fadc8ba8cc650f9af2c9b78478de&q=walvis bay&units=metric\n",
      "83 Getting data for nouadhibou\n",
      "https://api.openweathermap.org/data/2.5/weather?appid=0845fadc8ba8cc650f9af2c9b78478de&q=nouadhibou&units=metric\n",
      "84 Getting data for hambantota\n",
      "https://api.openweathermap.org/data/2.5/weather?appid=0845fadc8ba8cc650f9af2c9b78478de&q=hambantota&units=metric\n",
      "85 Getting data for bobonong\n",
      "https://api.openweathermap.org/data/2.5/weather?appid=0845fadc8ba8cc650f9af2c9b78478de&q=bobonong&units=metric\n",
      "86 Getting data for ust-nera\n",
      "https://api.openweathermap.org/data/2.5/weather?appid=0845fadc8ba8cc650f9af2c9b78478de&q=ust-nera&units=metric\n",
      "87 Getting data for abeokuta\n",
      "https://api.openweathermap.org/data/2.5/weather?appid=0845fadc8ba8cc650f9af2c9b78478de&q=abeokuta&units=metric\n",
      "88 Getting data for tiarei\n",
      "https://api.openweathermap.org/data/2.5/weather?appid=0845fadc8ba8cc650f9af2c9b78478de&q=tiarei&units=metric\n",
      "89 Getting data for bozeman\n",
      "https://api.openweathermap.org/data/2.5/weather?appid=0845fadc8ba8cc650f9af2c9b78478de&q=bozeman&units=metric\n",
      "90 Getting data for port elizabeth\n",
      "https://api.openweathermap.org/data/2.5/weather?appid=0845fadc8ba8cc650f9af2c9b78478de&q=port elizabeth&units=metric\n",
      "91 Getting data for esperance\n",
      "https://api.openweathermap.org/data/2.5/weather?appid=0845fadc8ba8cc650f9af2c9b78478de&q=esperance&units=metric\n",
      "92 Getting data for paamiut\n",
      "https://api.openweathermap.org/data/2.5/weather?appid=0845fadc8ba8cc650f9af2c9b78478de&q=paamiut&units=metric\n",
      "93 Getting data for teguise\n",
      "https://api.openweathermap.org/data/2.5/weather?appid=0845fadc8ba8cc650f9af2c9b78478de&q=teguise&units=metric\n",
      "94 Getting data for prescott\n",
      "https://api.openweathermap.org/data/2.5/weather?appid=0845fadc8ba8cc650f9af2c9b78478de&q=prescott&units=metric\n",
      "95 Getting data for illoqqortoormiut\n",
      "https://api.openweathermap.org/data/2.5/weather?appid=0845fadc8ba8cc650f9af2c9b78478de&q=illoqqortoormiut&units=metric\n",
      "96 Getting data for vaitupu\n",
      "https://api.openweathermap.org/data/2.5/weather?appid=0845fadc8ba8cc650f9af2c9b78478de&q=vaitupu&units=metric\n",
      "97 Getting data for sangar\n",
      "https://api.openweathermap.org/data/2.5/weather?appid=0845fadc8ba8cc650f9af2c9b78478de&q=sangar&units=metric\n",
      "98 Getting data for sorong\n",
      "https://api.openweathermap.org/data/2.5/weather?appid=0845fadc8ba8cc650f9af2c9b78478de&q=sorong&units=metric\n",
      "99 Getting data for vila\n",
      "https://api.openweathermap.org/data/2.5/weather?appid=0845fadc8ba8cc650f9af2c9b78478de&q=vila&units=metric\n",
      "100 Getting data for kavaratti\n",
      "https://api.openweathermap.org/data/2.5/weather?appid=0845fadc8ba8cc650f9af2c9b78478de&q=kavaratti&units=metric\n",
      "101 Getting data for cherskiy\n",
      "https://api.openweathermap.org/data/2.5/weather?appid=0845fadc8ba8cc650f9af2c9b78478de&q=cherskiy&units=metric\n",
      "102 Getting data for bathsheba\n",
      "https://api.openweathermap.org/data/2.5/weather?appid=0845fadc8ba8cc650f9af2c9b78478de&q=bathsheba&units=metric\n",
      "103 Getting data for sovetskiy\n",
      "https://api.openweathermap.org/data/2.5/weather?appid=0845fadc8ba8cc650f9af2c9b78478de&q=sovetskiy&units=metric\n",
      "104 Getting data for deputatskiy\n",
      "https://api.openweathermap.org/data/2.5/weather?appid=0845fadc8ba8cc650f9af2c9b78478de&q=deputatskiy&units=metric\n",
      "105 Getting data for barentsburg\n",
      "https://api.openweathermap.org/data/2.5/weather?appid=0845fadc8ba8cc650f9af2c9b78478de&q=barentsburg&units=metric\n",
      "106 Getting data for baykit\n",
      "https://api.openweathermap.org/data/2.5/weather?appid=0845fadc8ba8cc650f9af2c9b78478de&q=baykit&units=metric\n",
      "107 Getting data for marshalltown\n",
      "https://api.openweathermap.org/data/2.5/weather?appid=0845fadc8ba8cc650f9af2c9b78478de&q=marshalltown&units=metric\n",
      "108 Getting data for qeshm\n",
      "https://api.openweathermap.org/data/2.5/weather?appid=0845fadc8ba8cc650f9af2c9b78478de&q=qeshm&units=metric\n",
      "109 Getting data for souillac\n",
      "https://api.openweathermap.org/data/2.5/weather?appid=0845fadc8ba8cc650f9af2c9b78478de&q=souillac&units=metric\n",
      "110 Getting data for eskasem\n",
      "https://api.openweathermap.org/data/2.5/weather?appid=0845fadc8ba8cc650f9af2c9b78478de&q=eskasem&units=metric\n",
      "111 Getting data for bengkulu\n",
      "https://api.openweathermap.org/data/2.5/weather?appid=0845fadc8ba8cc650f9af2c9b78478de&q=bengkulu&units=metric\n",
      "112 Getting data for bargal\n",
      "https://api.openweathermap.org/data/2.5/weather?appid=0845fadc8ba8cc650f9af2c9b78478de&q=bargal&units=metric\n",
      "113 Getting data for tasiilaq\n",
      "https://api.openweathermap.org/data/2.5/weather?appid=0845fadc8ba8cc650f9af2c9b78478de&q=tasiilaq&units=metric\n",
      "114 Getting data for mahon\n",
      "https://api.openweathermap.org/data/2.5/weather?appid=0845fadc8ba8cc650f9af2c9b78478de&q=mahon&units=metric\n",
      "115 Getting data for kodiak\n",
      "https://api.openweathermap.org/data/2.5/weather?appid=0845fadc8ba8cc650f9af2c9b78478de&q=kodiak&units=metric\n",
      "116 Getting data for hithadhoo\n",
      "https://api.openweathermap.org/data/2.5/weather?appid=0845fadc8ba8cc650f9af2c9b78478de&q=hithadhoo&units=metric\n"
     ]
    },
    {
     "name": "stdout",
     "output_type": "stream",
     "text": [
      "117 Getting data for pevek\n",
      "https://api.openweathermap.org/data/2.5/weather?appid=0845fadc8ba8cc650f9af2c9b78478de&q=pevek&units=metric\n",
      "118 Getting data for camapua\n",
      "https://api.openweathermap.org/data/2.5/weather?appid=0845fadc8ba8cc650f9af2c9b78478de&q=camapua&units=metric\n",
      "119 Getting data for oranjemund\n",
      "https://api.openweathermap.org/data/2.5/weather?appid=0845fadc8ba8cc650f9af2c9b78478de&q=oranjemund&units=metric\n",
      "120 Getting data for kampot\n",
      "https://api.openweathermap.org/data/2.5/weather?appid=0845fadc8ba8cc650f9af2c9b78478de&q=kampot&units=metric\n",
      "121 Getting data for shaunavon\n",
      "https://api.openweathermap.org/data/2.5/weather?appid=0845fadc8ba8cc650f9af2c9b78478de&q=shaunavon&units=metric\n",
      "122 Getting data for kahta\n",
      "https://api.openweathermap.org/data/2.5/weather?appid=0845fadc8ba8cc650f9af2c9b78478de&q=kahta&units=metric\n",
      "123 Getting data for lompoc\n",
      "https://api.openweathermap.org/data/2.5/weather?appid=0845fadc8ba8cc650f9af2c9b78478de&q=lompoc&units=metric\n",
      "124 Getting data for dmytrivka\n",
      "https://api.openweathermap.org/data/2.5/weather?appid=0845fadc8ba8cc650f9af2c9b78478de&q=dmytrivka&units=metric\n",
      "125 Getting data for margate\n",
      "https://api.openweathermap.org/data/2.5/weather?appid=0845fadc8ba8cc650f9af2c9b78478de&q=margate&units=metric\n",
      "126 Getting data for warqla\n",
      "https://api.openweathermap.org/data/2.5/weather?appid=0845fadc8ba8cc650f9af2c9b78478de&q=warqla&units=metric\n",
      "127 Getting data for tamale\n",
      "https://api.openweathermap.org/data/2.5/weather?appid=0845fadc8ba8cc650f9af2c9b78478de&q=tamale&units=metric\n",
      "128 Getting data for ponta do sol\n",
      "https://api.openweathermap.org/data/2.5/weather?appid=0845fadc8ba8cc650f9af2c9b78478de&q=ponta do sol&units=metric\n",
      "129 Getting data for sinnamary\n",
      "https://api.openweathermap.org/data/2.5/weather?appid=0845fadc8ba8cc650f9af2c9b78478de&q=sinnamary&units=metric\n",
      "130 Getting data for leshukonskoye\n",
      "https://api.openweathermap.org/data/2.5/weather?appid=0845fadc8ba8cc650f9af2c9b78478de&q=leshukonskoye&units=metric\n",
      "131 Getting data for meulaboh\n",
      "https://api.openweathermap.org/data/2.5/weather?appid=0845fadc8ba8cc650f9af2c9b78478de&q=meulaboh&units=metric\n",
      "132 Getting data for bluff\n",
      "https://api.openweathermap.org/data/2.5/weather?appid=0845fadc8ba8cc650f9af2c9b78478de&q=bluff&units=metric\n",
      "133 Getting data for victoria\n",
      "https://api.openweathermap.org/data/2.5/weather?appid=0845fadc8ba8cc650f9af2c9b78478de&q=victoria&units=metric\n",
      "134 Getting data for barrow\n",
      "https://api.openweathermap.org/data/2.5/weather?appid=0845fadc8ba8cc650f9af2c9b78478de&q=barrow&units=metric\n",
      "135 Getting data for inhambane\n",
      "https://api.openweathermap.org/data/2.5/weather?appid=0845fadc8ba8cc650f9af2c9b78478de&q=inhambane&units=metric\n",
      "136 Getting data for pryyutivka\n",
      "https://api.openweathermap.org/data/2.5/weather?appid=0845fadc8ba8cc650f9af2c9b78478de&q=pryyutivka&units=metric\n",
      "137 Getting data for togur\n",
      "https://api.openweathermap.org/data/2.5/weather?appid=0845fadc8ba8cc650f9af2c9b78478de&q=togur&units=metric\n",
      "138 Getting data for moura\n",
      "https://api.openweathermap.org/data/2.5/weather?appid=0845fadc8ba8cc650f9af2c9b78478de&q=moura&units=metric\n",
      "139 Getting data for mar del plata\n",
      "https://api.openweathermap.org/data/2.5/weather?appid=0845fadc8ba8cc650f9af2c9b78478de&q=mar del plata&units=metric\n",
      "140 Getting data for ixtapa\n",
      "https://api.openweathermap.org/data/2.5/weather?appid=0845fadc8ba8cc650f9af2c9b78478de&q=ixtapa&units=metric\n",
      "141 Getting data for nyurba\n",
      "https://api.openweathermap.org/data/2.5/weather?appid=0845fadc8ba8cc650f9af2c9b78478de&q=nyurba&units=metric\n",
      "142 Getting data for darhan\n",
      "https://api.openweathermap.org/data/2.5/weather?appid=0845fadc8ba8cc650f9af2c9b78478de&q=darhan&units=metric\n",
      "143 Getting data for hofn\n",
      "https://api.openweathermap.org/data/2.5/weather?appid=0845fadc8ba8cc650f9af2c9b78478de&q=hofn&units=metric\n",
      "144 Getting data for dzhusaly\n",
      "https://api.openweathermap.org/data/2.5/weather?appid=0845fadc8ba8cc650f9af2c9b78478de&q=dzhusaly&units=metric\n",
      "145 Getting data for vrede\n",
      "https://api.openweathermap.org/data/2.5/weather?appid=0845fadc8ba8cc650f9af2c9b78478de&q=vrede&units=metric\n",
      "146 Getting data for qasigiannguit\n",
      "https://api.openweathermap.org/data/2.5/weather?appid=0845fadc8ba8cc650f9af2c9b78478de&q=qasigiannguit&units=metric\n",
      "147 Getting data for nandu\n",
      "https://api.openweathermap.org/data/2.5/weather?appid=0845fadc8ba8cc650f9af2c9b78478de&q=nandu&units=metric\n",
      "148 Getting data for vershino-darasunskiy\n",
      "https://api.openweathermap.org/data/2.5/weather?appid=0845fadc8ba8cc650f9af2c9b78478de&q=vershino-darasunskiy&units=metric\n",
      "149 Getting data for khash\n",
      "https://api.openweathermap.org/data/2.5/weather?appid=0845fadc8ba8cc650f9af2c9b78478de&q=khash&units=metric\n",
      "150 Getting data for jos\n",
      "https://api.openweathermap.org/data/2.5/weather?appid=0845fadc8ba8cc650f9af2c9b78478de&q=jos&units=metric\n",
      "151 Getting data for lagoa\n",
      "https://api.openweathermap.org/data/2.5/weather?appid=0845fadc8ba8cc650f9af2c9b78478de&q=lagoa&units=metric\n",
      "152 Getting data for antofagasta\n",
      "https://api.openweathermap.org/data/2.5/weather?appid=0845fadc8ba8cc650f9af2c9b78478de&q=antofagasta&units=metric\n",
      "153 Getting data for castro\n",
      "https://api.openweathermap.org/data/2.5/weather?appid=0845fadc8ba8cc650f9af2c9b78478de&q=castro&units=metric\n",
      "154 Getting data for labutta\n",
      "https://api.openweathermap.org/data/2.5/weather?appid=0845fadc8ba8cc650f9af2c9b78478de&q=labutta&units=metric\n",
      "155 Getting data for boddam\n",
      "https://api.openweathermap.org/data/2.5/weather?appid=0845fadc8ba8cc650f9af2c9b78478de&q=boddam&units=metric\n",
      "156 Getting data for yar-sale\n",
      "https://api.openweathermap.org/data/2.5/weather?appid=0845fadc8ba8cc650f9af2c9b78478de&q=yar-sale&units=metric\n",
      "157 Getting data for alekseyevsk\n",
      "https://api.openweathermap.org/data/2.5/weather?appid=0845fadc8ba8cc650f9af2c9b78478de&q=alekseyevsk&units=metric\n",
      "158 Getting data for codrington\n",
      "https://api.openweathermap.org/data/2.5/weather?appid=0845fadc8ba8cc650f9af2c9b78478de&q=codrington&units=metric\n",
      "159 Getting data for kaitangata\n",
      "https://api.openweathermap.org/data/2.5/weather?appid=0845fadc8ba8cc650f9af2c9b78478de&q=kaitangata&units=metric\n",
      "160 Getting data for abu kamal\n",
      "https://api.openweathermap.org/data/2.5/weather?appid=0845fadc8ba8cc650f9af2c9b78478de&q=abu kamal&units=metric\n",
      "161 Getting data for te anau\n",
      "https://api.openweathermap.org/data/2.5/weather?appid=0845fadc8ba8cc650f9af2c9b78478de&q=te anau&units=metric\n",
      "162 Getting data for mutsamudu\n",
      "https://api.openweathermap.org/data/2.5/weather?appid=0845fadc8ba8cc650f9af2c9b78478de&q=mutsamudu&units=metric\n",
      "163 Getting data for klaksvik\n",
      "https://api.openweathermap.org/data/2.5/weather?appid=0845fadc8ba8cc650f9af2c9b78478de&q=klaksvik&units=metric\n",
      "164 Getting data for constitucion\n",
      "https://api.openweathermap.org/data/2.5/weather?appid=0845fadc8ba8cc650f9af2c9b78478de&q=constitucion&units=metric\n",
      "165 Getting data for basco\n",
      "https://api.openweathermap.org/data/2.5/weather?appid=0845fadc8ba8cc650f9af2c9b78478de&q=basco&units=metric\n",
      "166 Getting data for dolbeau\n",
      "https://api.openweathermap.org/data/2.5/weather?appid=0845fadc8ba8cc650f9af2c9b78478de&q=dolbeau&units=metric\n",
      "167 Getting data for sao joao da barra\n",
      "https://api.openweathermap.org/data/2.5/weather?appid=0845fadc8ba8cc650f9af2c9b78478de&q=sao joao da barra&units=metric\n",
      "168 Getting data for cape town\n",
      "https://api.openweathermap.org/data/2.5/weather?appid=0845fadc8ba8cc650f9af2c9b78478de&q=cape town&units=metric\n",
      "169 Getting data for werda\n",
      "https://api.openweathermap.org/data/2.5/weather?appid=0845fadc8ba8cc650f9af2c9b78478de&q=werda&units=metric\n",
      "170 Getting data for valparaiso\n",
      "https://api.openweathermap.org/data/2.5/weather?appid=0845fadc8ba8cc650f9af2c9b78478de&q=valparaiso&units=metric\n",
      "171 Getting data for dagana\n",
      "https://api.openweathermap.org/data/2.5/weather?appid=0845fadc8ba8cc650f9af2c9b78478de&q=dagana&units=metric\n",
      "172 Getting data for chulumani\n",
      "https://api.openweathermap.org/data/2.5/weather?appid=0845fadc8ba8cc650f9af2c9b78478de&q=chulumani&units=metric\n",
      "173 Getting data for cururupu\n",
      "https://api.openweathermap.org/data/2.5/weather?appid=0845fadc8ba8cc650f9af2c9b78478de&q=cururupu&units=metric\n",
      "174 Getting data for vitry-le-francois\n",
      "https://api.openweathermap.org/data/2.5/weather?appid=0845fadc8ba8cc650f9af2c9b78478de&q=vitry-le-francois&units=metric\n"
     ]
    },
    {
     "name": "stdout",
     "output_type": "stream",
     "text": [
      "175 Getting data for belushya guba\n",
      "https://api.openweathermap.org/data/2.5/weather?appid=0845fadc8ba8cc650f9af2c9b78478de&q=belushya guba&units=metric\n",
      "176 Getting data for okhotsk\n",
      "https://api.openweathermap.org/data/2.5/weather?appid=0845fadc8ba8cc650f9af2c9b78478de&q=okhotsk&units=metric\n",
      "177 Getting data for padang\n",
      "https://api.openweathermap.org/data/2.5/weather?appid=0845fadc8ba8cc650f9af2c9b78478de&q=padang&units=metric\n",
      "178 Getting data for tyrma\n",
      "https://api.openweathermap.org/data/2.5/weather?appid=0845fadc8ba8cc650f9af2c9b78478de&q=tyrma&units=metric\n",
      "179 Getting data for andenes\n",
      "https://api.openweathermap.org/data/2.5/weather?appid=0845fadc8ba8cc650f9af2c9b78478de&q=andenes&units=metric\n",
      "180 Getting data for lata\n",
      "https://api.openweathermap.org/data/2.5/weather?appid=0845fadc8ba8cc650f9af2c9b78478de&q=lata&units=metric\n",
      "181 Getting data for bilma\n",
      "https://api.openweathermap.org/data/2.5/weather?appid=0845fadc8ba8cc650f9af2c9b78478de&q=bilma&units=metric\n",
      "182 Getting data for husavik\n",
      "https://api.openweathermap.org/data/2.5/weather?appid=0845fadc8ba8cc650f9af2c9b78478de&q=husavik&units=metric\n",
      "183 Getting data for huercal-overa\n",
      "https://api.openweathermap.org/data/2.5/weather?appid=0845fadc8ba8cc650f9af2c9b78478de&q=huercal-overa&units=metric\n",
      "184 Getting data for camana\n",
      "https://api.openweathermap.org/data/2.5/weather?appid=0845fadc8ba8cc650f9af2c9b78478de&q=camana&units=metric\n",
      "185 Getting data for fortuna\n",
      "https://api.openweathermap.org/data/2.5/weather?appid=0845fadc8ba8cc650f9af2c9b78478de&q=fortuna&units=metric\n",
      "186 Getting data for upernavik\n",
      "https://api.openweathermap.org/data/2.5/weather?appid=0845fadc8ba8cc650f9af2c9b78478de&q=upernavik&units=metric\n",
      "187 Getting data for xining\n",
      "https://api.openweathermap.org/data/2.5/weather?appid=0845fadc8ba8cc650f9af2c9b78478de&q=xining&units=metric\n",
      "188 Getting data for seydi\n",
      "https://api.openweathermap.org/data/2.5/weather?appid=0845fadc8ba8cc650f9af2c9b78478de&q=seydi&units=metric\n",
      "189 Getting data for cabo san lucas\n",
      "https://api.openweathermap.org/data/2.5/weather?appid=0845fadc8ba8cc650f9af2c9b78478de&q=cabo san lucas&units=metric\n",
      "190 Getting data for tiksi\n",
      "https://api.openweathermap.org/data/2.5/weather?appid=0845fadc8ba8cc650f9af2c9b78478de&q=tiksi&units=metric\n",
      "191 Getting data for yarada\n",
      "https://api.openweathermap.org/data/2.5/weather?appid=0845fadc8ba8cc650f9af2c9b78478de&q=yarada&units=metric\n",
      "192 Getting data for aklavik\n",
      "https://api.openweathermap.org/data/2.5/weather?appid=0845fadc8ba8cc650f9af2c9b78478de&q=aklavik&units=metric\n",
      "193 Getting data for hobyo\n",
      "https://api.openweathermap.org/data/2.5/weather?appid=0845fadc8ba8cc650f9af2c9b78478de&q=hobyo&units=metric\n",
      "194 Getting data for lorengau\n",
      "https://api.openweathermap.org/data/2.5/weather?appid=0845fadc8ba8cc650f9af2c9b78478de&q=lorengau&units=metric\n",
      "195 Getting data for ismailia\n",
      "https://api.openweathermap.org/data/2.5/weather?appid=0845fadc8ba8cc650f9af2c9b78478de&q=ismailia&units=metric\n",
      "196 Getting data for nassau\n",
      "https://api.openweathermap.org/data/2.5/weather?appid=0845fadc8ba8cc650f9af2c9b78478de&q=nassau&units=metric\n",
      "197 Getting data for amderma\n",
      "https://api.openweathermap.org/data/2.5/weather?appid=0845fadc8ba8cc650f9af2c9b78478de&q=amderma&units=metric\n",
      "198 Getting data for miramar\n",
      "https://api.openweathermap.org/data/2.5/weather?appid=0845fadc8ba8cc650f9af2c9b78478de&q=miramar&units=metric\n",
      "199 Getting data for macomb\n",
      "https://api.openweathermap.org/data/2.5/weather?appid=0845fadc8ba8cc650f9af2c9b78478de&q=macomb&units=metric\n",
      "200 Getting data for san patricio\n",
      "https://api.openweathermap.org/data/2.5/weather?appid=0845fadc8ba8cc650f9af2c9b78478de&q=san patricio&units=metric\n",
      "201 Getting data for kalmunai\n",
      "https://api.openweathermap.org/data/2.5/weather?appid=0845fadc8ba8cc650f9af2c9b78478de&q=kalmunai&units=metric\n",
      "202 Getting data for amuntai\n",
      "https://api.openweathermap.org/data/2.5/weather?appid=0845fadc8ba8cc650f9af2c9b78478de&q=amuntai&units=metric\n",
      "203 Getting data for caravelas\n",
      "https://api.openweathermap.org/data/2.5/weather?appid=0845fadc8ba8cc650f9af2c9b78478de&q=caravelas&units=metric\n",
      "204 Getting data for vostok\n",
      "https://api.openweathermap.org/data/2.5/weather?appid=0845fadc8ba8cc650f9af2c9b78478de&q=vostok&units=metric\n",
      "205 Getting data for bad hofgastein\n",
      "https://api.openweathermap.org/data/2.5/weather?appid=0845fadc8ba8cc650f9af2c9b78478de&q=bad hofgastein&units=metric\n",
      "206 Getting data for lasa\n",
      "https://api.openweathermap.org/data/2.5/weather?appid=0845fadc8ba8cc650f9af2c9b78478de&q=lasa&units=metric\n",
      "207 Getting data for khatanga\n",
      "https://api.openweathermap.org/data/2.5/weather?appid=0845fadc8ba8cc650f9af2c9b78478de&q=khatanga&units=metric\n",
      "208 Getting data for gejiu\n",
      "https://api.openweathermap.org/data/2.5/weather?appid=0845fadc8ba8cc650f9af2c9b78478de&q=gejiu&units=metric\n",
      "209 Getting data for quatre cocos\n",
      "https://api.openweathermap.org/data/2.5/weather?appid=0845fadc8ba8cc650f9af2c9b78478de&q=quatre cocos&units=metric\n",
      "210 Getting data for ketchikan\n",
      "https://api.openweathermap.org/data/2.5/weather?appid=0845fadc8ba8cc650f9af2c9b78478de&q=ketchikan&units=metric\n",
      "211 Getting data for apastovo\n",
      "https://api.openweathermap.org/data/2.5/weather?appid=0845fadc8ba8cc650f9af2c9b78478de&q=apastovo&units=metric\n",
      "212 Getting data for ngukurr\n",
      "https://api.openweathermap.org/data/2.5/weather?appid=0845fadc8ba8cc650f9af2c9b78478de&q=ngukurr&units=metric\n",
      "213 Getting data for saskylakh\n",
      "https://api.openweathermap.org/data/2.5/weather?appid=0845fadc8ba8cc650f9af2c9b78478de&q=saskylakh&units=metric\n",
      "214 Getting data for torbay\n",
      "https://api.openweathermap.org/data/2.5/weather?appid=0845fadc8ba8cc650f9af2c9b78478de&q=torbay&units=metric\n",
      "215 Getting data for georgetown\n",
      "https://api.openweathermap.org/data/2.5/weather?appid=0845fadc8ba8cc650f9af2c9b78478de&q=georgetown&units=metric\n",
      "216 Getting data for tasbuget\n",
      "https://api.openweathermap.org/data/2.5/weather?appid=0845fadc8ba8cc650f9af2c9b78478de&q=tasbuget&units=metric\n",
      "217 Getting data for darnah\n",
      "https://api.openweathermap.org/data/2.5/weather?appid=0845fadc8ba8cc650f9af2c9b78478de&q=darnah&units=metric\n",
      "218 Getting data for lodwar\n",
      "https://api.openweathermap.org/data/2.5/weather?appid=0845fadc8ba8cc650f9af2c9b78478de&q=lodwar&units=metric\n",
      "219 Getting data for yumen\n",
      "https://api.openweathermap.org/data/2.5/weather?appid=0845fadc8ba8cc650f9af2c9b78478de&q=yumen&units=metric\n",
      "220 Getting data for bonthe\n",
      "https://api.openweathermap.org/data/2.5/weather?appid=0845fadc8ba8cc650f9af2c9b78478de&q=bonthe&units=metric\n",
      "221 Getting data for houma\n",
      "https://api.openweathermap.org/data/2.5/weather?appid=0845fadc8ba8cc650f9af2c9b78478de&q=houma&units=metric\n",
      "222 Getting data for komagane\n",
      "https://api.openweathermap.org/data/2.5/weather?appid=0845fadc8ba8cc650f9af2c9b78478de&q=komagane&units=metric\n",
      "223 Getting data for maldonado\n",
      "https://api.openweathermap.org/data/2.5/weather?appid=0845fadc8ba8cc650f9af2c9b78478de&q=maldonado&units=metric\n",
      "224 Getting data for palauig\n",
      "https://api.openweathermap.org/data/2.5/weather?appid=0845fadc8ba8cc650f9af2c9b78478de&q=palauig&units=metric\n",
      "225 Getting data for pedernales\n",
      "https://api.openweathermap.org/data/2.5/weather?appid=0845fadc8ba8cc650f9af2c9b78478de&q=pedernales&units=metric\n",
      "226 Getting data for byron bay\n",
      "https://api.openweathermap.org/data/2.5/weather?appid=0845fadc8ba8cc650f9af2c9b78478de&q=byron bay&units=metric\n",
      "227 Getting data for shimoda\n",
      "https://api.openweathermap.org/data/2.5/weather?appid=0845fadc8ba8cc650f9af2c9b78478de&q=shimoda&units=metric\n",
      "228 Getting data for lavrentiya\n",
      "https://api.openweathermap.org/data/2.5/weather?appid=0845fadc8ba8cc650f9af2c9b78478de&q=lavrentiya&units=metric\n",
      "229 Getting data for pisco\n",
      "https://api.openweathermap.org/data/2.5/weather?appid=0845fadc8ba8cc650f9af2c9b78478de&q=pisco&units=metric\n",
      "230 Getting data for bethel\n",
      "https://api.openweathermap.org/data/2.5/weather?appid=0845fadc8ba8cc650f9af2c9b78478de&q=bethel&units=metric\n",
      "231 Getting data for redmond\n",
      "https://api.openweathermap.org/data/2.5/weather?appid=0845fadc8ba8cc650f9af2c9b78478de&q=redmond&units=metric\n",
      "232 Getting data for mildura\n",
      "https://api.openweathermap.org/data/2.5/weather?appid=0845fadc8ba8cc650f9af2c9b78478de&q=mildura&units=metric\n",
      "233 Getting data for itupiranga\n",
      "https://api.openweathermap.org/data/2.5/weather?appid=0845fadc8ba8cc650f9af2c9b78478de&q=itupiranga&units=metric\n"
     ]
    },
    {
     "name": "stdout",
     "output_type": "stream",
     "text": [
      "234 Getting data for saint anthony\n",
      "https://api.openweathermap.org/data/2.5/weather?appid=0845fadc8ba8cc650f9af2c9b78478de&q=saint anthony&units=metric\n",
      "235 Getting data for marsh harbour\n",
      "https://api.openweathermap.org/data/2.5/weather?appid=0845fadc8ba8cc650f9af2c9b78478de&q=marsh harbour&units=metric\n",
      "236 Getting data for charleston\n",
      "https://api.openweathermap.org/data/2.5/weather?appid=0845fadc8ba8cc650f9af2c9b78478de&q=charleston&units=metric\n",
      "237 Getting data for westport\n",
      "https://api.openweathermap.org/data/2.5/weather?appid=0845fadc8ba8cc650f9af2c9b78478de&q=westport&units=metric\n",
      "238 Getting data for isangel\n",
      "https://api.openweathermap.org/data/2.5/weather?appid=0845fadc8ba8cc650f9af2c9b78478de&q=isangel&units=metric\n",
      "239 Getting data for ostrovnoy\n",
      "https://api.openweathermap.org/data/2.5/weather?appid=0845fadc8ba8cc650f9af2c9b78478de&q=ostrovnoy&units=metric\n",
      "240 Getting data for barmer\n",
      "https://api.openweathermap.org/data/2.5/weather?appid=0845fadc8ba8cc650f9af2c9b78478de&q=barmer&units=metric\n",
      "241 Getting data for saint-augustin\n",
      "https://api.openweathermap.org/data/2.5/weather?appid=0845fadc8ba8cc650f9af2c9b78478de&q=saint-augustin&units=metric\n",
      "242 Getting data for mahebourg\n",
      "https://api.openweathermap.org/data/2.5/weather?appid=0845fadc8ba8cc650f9af2c9b78478de&q=mahebourg&units=metric\n",
      "243 Getting data for sabya\n",
      "https://api.openweathermap.org/data/2.5/weather?appid=0845fadc8ba8cc650f9af2c9b78478de&q=sabya&units=metric\n",
      "244 Getting data for touros\n",
      "https://api.openweathermap.org/data/2.5/weather?appid=0845fadc8ba8cc650f9af2c9b78478de&q=touros&units=metric\n",
      "245 Getting data for mentok\n",
      "https://api.openweathermap.org/data/2.5/weather?appid=0845fadc8ba8cc650f9af2c9b78478de&q=mentok&units=metric\n",
      "246 Getting data for cockburn town\n",
      "https://api.openweathermap.org/data/2.5/weather?appid=0845fadc8ba8cc650f9af2c9b78478de&q=cockburn town&units=metric\n",
      "247 Getting data for severo-kurilsk\n",
      "https://api.openweathermap.org/data/2.5/weather?appid=0845fadc8ba8cc650f9af2c9b78478de&q=severo-kurilsk&units=metric\n",
      "248 Getting data for sayat\n",
      "https://api.openweathermap.org/data/2.5/weather?appid=0845fadc8ba8cc650f9af2c9b78478de&q=sayat&units=metric\n",
      "249 Getting data for mugur-aksy\n",
      "https://api.openweathermap.org/data/2.5/weather?appid=0845fadc8ba8cc650f9af2c9b78478de&q=mugur-aksy&units=metric\n",
      "250 Getting data for benguela\n",
      "https://api.openweathermap.org/data/2.5/weather?appid=0845fadc8ba8cc650f9af2c9b78478de&q=benguela&units=metric\n",
      "251 Getting data for biltine\n",
      "https://api.openweathermap.org/data/2.5/weather?appid=0845fadc8ba8cc650f9af2c9b78478de&q=biltine&units=metric\n",
      "252 Getting data for namwala\n",
      "https://api.openweathermap.org/data/2.5/weather?appid=0845fadc8ba8cc650f9af2c9b78478de&q=namwala&units=metric\n",
      "253 Getting data for amahai\n",
      "https://api.openweathermap.org/data/2.5/weather?appid=0845fadc8ba8cc650f9af2c9b78478de&q=amahai&units=metric\n",
      "254 Getting data for lander\n",
      "https://api.openweathermap.org/data/2.5/weather?appid=0845fadc8ba8cc650f9af2c9b78478de&q=lander&units=metric\n",
      "255 Getting data for tateyama\n",
      "https://api.openweathermap.org/data/2.5/weather?appid=0845fadc8ba8cc650f9af2c9b78478de&q=tateyama&units=metric\n",
      "256 Getting data for coracora\n",
      "https://api.openweathermap.org/data/2.5/weather?appid=0845fadc8ba8cc650f9af2c9b78478de&q=coracora&units=metric\n",
      "257 Getting data for los llanos de aridane\n",
      "https://api.openweathermap.org/data/2.5/weather?appid=0845fadc8ba8cc650f9af2c9b78478de&q=los llanos de aridane&units=metric\n",
      "258 Getting data for ilulissat\n",
      "https://api.openweathermap.org/data/2.5/weather?appid=0845fadc8ba8cc650f9af2c9b78478de&q=ilulissat&units=metric\n",
      "259 Getting data for savinka\n",
      "https://api.openweathermap.org/data/2.5/weather?appid=0845fadc8ba8cc650f9af2c9b78478de&q=savinka&units=metric\n",
      "260 Getting data for waipawa\n",
      "https://api.openweathermap.org/data/2.5/weather?appid=0845fadc8ba8cc650f9af2c9b78478de&q=waipawa&units=metric\n",
      "261 Getting data for chuy\n",
      "https://api.openweathermap.org/data/2.5/weather?appid=0845fadc8ba8cc650f9af2c9b78478de&q=chuy&units=metric\n",
      "262 Getting data for pangoa\n",
      "https://api.openweathermap.org/data/2.5/weather?appid=0845fadc8ba8cc650f9af2c9b78478de&q=pangoa&units=metric\n",
      "263 Getting data for sainte-maxime\n",
      "https://api.openweathermap.org/data/2.5/weather?appid=0845fadc8ba8cc650f9af2c9b78478de&q=sainte-maxime&units=metric\n",
      "264 Getting data for ryde\n",
      "https://api.openweathermap.org/data/2.5/weather?appid=0845fadc8ba8cc650f9af2c9b78478de&q=ryde&units=metric\n",
      "265 Getting data for araxa\n",
      "https://api.openweathermap.org/data/2.5/weather?appid=0845fadc8ba8cc650f9af2c9b78478de&q=araxa&units=metric\n",
      "266 Getting data for azanka\n",
      "https://api.openweathermap.org/data/2.5/weather?appid=0845fadc8ba8cc650f9af2c9b78478de&q=azanka&units=metric\n",
      "267 Getting data for koslan\n",
      "https://api.openweathermap.org/data/2.5/weather?appid=0845fadc8ba8cc650f9af2c9b78478de&q=koslan&units=metric\n",
      "268 Getting data for bontang\n",
      "https://api.openweathermap.org/data/2.5/weather?appid=0845fadc8ba8cc650f9af2c9b78478de&q=bontang&units=metric\n",
      "269 Getting data for kazalinsk\n",
      "https://api.openweathermap.org/data/2.5/weather?appid=0845fadc8ba8cc650f9af2c9b78478de&q=kazalinsk&units=metric\n",
      "270 Getting data for batemans bay\n",
      "https://api.openweathermap.org/data/2.5/weather?appid=0845fadc8ba8cc650f9af2c9b78478de&q=batemans bay&units=metric\n",
      "271 Getting data for kashi\n",
      "https://api.openweathermap.org/data/2.5/weather?appid=0845fadc8ba8cc650f9af2c9b78478de&q=kashi&units=metric\n",
      "272 Getting data for hoima\n",
      "https://api.openweathermap.org/data/2.5/weather?appid=0845fadc8ba8cc650f9af2c9b78478de&q=hoima&units=metric\n",
      "273 Getting data for kangaba\n",
      "https://api.openweathermap.org/data/2.5/weather?appid=0845fadc8ba8cc650f9af2c9b78478de&q=kangaba&units=metric\n",
      "274 Getting data for tuggurt\n",
      "https://api.openweathermap.org/data/2.5/weather?appid=0845fadc8ba8cc650f9af2c9b78478de&q=tuggurt&units=metric\n",
      "275 Getting data for jacareacanga\n",
      "https://api.openweathermap.org/data/2.5/weather?appid=0845fadc8ba8cc650f9af2c9b78478de&q=jacareacanga&units=metric\n",
      "276 Getting data for tsihombe\n",
      "https://api.openweathermap.org/data/2.5/weather?appid=0845fadc8ba8cc650f9af2c9b78478de&q=tsihombe&units=metric\n",
      "277 Getting data for broken hill\n",
      "https://api.openweathermap.org/data/2.5/weather?appid=0845fadc8ba8cc650f9af2c9b78478de&q=broken hill&units=metric\n",
      "278 Getting data for grindavik\n",
      "https://api.openweathermap.org/data/2.5/weather?appid=0845fadc8ba8cc650f9af2c9b78478de&q=grindavik&units=metric\n",
      "279 Getting data for faya\n",
      "https://api.openweathermap.org/data/2.5/weather?appid=0845fadc8ba8cc650f9af2c9b78478de&q=faya&units=metric\n",
      "280 Getting data for lewisporte\n",
      "https://api.openweathermap.org/data/2.5/weather?appid=0845fadc8ba8cc650f9af2c9b78478de&q=lewisporte&units=metric\n",
      "281 Getting data for zhanakorgan\n",
      "https://api.openweathermap.org/data/2.5/weather?appid=0845fadc8ba8cc650f9af2c9b78478de&q=zhanakorgan&units=metric\n",
      "282 Getting data for goma\n",
      "https://api.openweathermap.org/data/2.5/weather?appid=0845fadc8ba8cc650f9af2c9b78478de&q=goma&units=metric\n",
      "283 Getting data for nome\n",
      "https://api.openweathermap.org/data/2.5/weather?appid=0845fadc8ba8cc650f9af2c9b78478de&q=nome&units=metric\n",
      "284 Getting data for eureka\n",
      "https://api.openweathermap.org/data/2.5/weather?appid=0845fadc8ba8cc650f9af2c9b78478de&q=eureka&units=metric\n",
      "285 Getting data for santiago del estero\n",
      "https://api.openweathermap.org/data/2.5/weather?appid=0845fadc8ba8cc650f9af2c9b78478de&q=santiago del estero&units=metric\n",
      "286 Getting data for katsuura\n",
      "https://api.openweathermap.org/data/2.5/weather?appid=0845fadc8ba8cc650f9af2c9b78478de&q=katsuura&units=metric\n",
      "287 Getting data for saint-pierre\n",
      "https://api.openweathermap.org/data/2.5/weather?appid=0845fadc8ba8cc650f9af2c9b78478de&q=saint-pierre&units=metric\n",
      "288 Getting data for boma\n",
      "https://api.openweathermap.org/data/2.5/weather?appid=0845fadc8ba8cc650f9af2c9b78478de&q=boma&units=metric\n",
      "289 Getting data for bambous virieux\n",
      "https://api.openweathermap.org/data/2.5/weather?appid=0845fadc8ba8cc650f9af2c9b78478de&q=bambous virieux&units=metric\n",
      "290 Getting data for erhlin\n",
      "https://api.openweathermap.org/data/2.5/weather?appid=0845fadc8ba8cc650f9af2c9b78478de&q=erhlin&units=metric\n",
      "291 Getting data for campbell river\n",
      "https://api.openweathermap.org/data/2.5/weather?appid=0845fadc8ba8cc650f9af2c9b78478de&q=campbell river&units=metric\n"
     ]
    },
    {
     "name": "stdout",
     "output_type": "stream",
     "text": [
      "292 Getting data for jesup\n",
      "https://api.openweathermap.org/data/2.5/weather?appid=0845fadc8ba8cc650f9af2c9b78478de&q=jesup&units=metric\n",
      "293 Getting data for inuvik\n",
      "https://api.openweathermap.org/data/2.5/weather?appid=0845fadc8ba8cc650f9af2c9b78478de&q=inuvik&units=metric\n",
      "294 Getting data for lakatoro\n",
      "https://api.openweathermap.org/data/2.5/weather?appid=0845fadc8ba8cc650f9af2c9b78478de&q=lakatoro&units=metric\n",
      "295 Getting data for ligayan\n",
      "https://api.openweathermap.org/data/2.5/weather?appid=0845fadc8ba8cc650f9af2c9b78478de&q=ligayan&units=metric\n",
      "296 Getting data for burgersdorp\n",
      "https://api.openweathermap.org/data/2.5/weather?appid=0845fadc8ba8cc650f9af2c9b78478de&q=burgersdorp&units=metric\n",
      "297 Getting data for rawson\n",
      "https://api.openweathermap.org/data/2.5/weather?appid=0845fadc8ba8cc650f9af2c9b78478de&q=rawson&units=metric\n",
      "298 Getting data for ulkan\n",
      "https://api.openweathermap.org/data/2.5/weather?appid=0845fadc8ba8cc650f9af2c9b78478de&q=ulkan&units=metric\n",
      "299 Getting data for artyk\n",
      "https://api.openweathermap.org/data/2.5/weather?appid=0845fadc8ba8cc650f9af2c9b78478de&q=artyk&units=metric\n",
      "300 Getting data for vila do maio\n",
      "https://api.openweathermap.org/data/2.5/weather?appid=0845fadc8ba8cc650f9af2c9b78478de&q=vila do maio&units=metric\n",
      "301 Getting data for joao pinheiro\n",
      "https://api.openweathermap.org/data/2.5/weather?appid=0845fadc8ba8cc650f9af2c9b78478de&q=joao pinheiro&units=metric\n",
      "302 Getting data for chlorakas\n",
      "https://api.openweathermap.org/data/2.5/weather?appid=0845fadc8ba8cc650f9af2c9b78478de&q=chlorakas&units=metric\n",
      "303 Getting data for autopan\n",
      "https://api.openweathermap.org/data/2.5/weather?appid=0845fadc8ba8cc650f9af2c9b78478de&q=autopan&units=metric\n",
      "304 Getting data for chara\n",
      "https://api.openweathermap.org/data/2.5/weather?appid=0845fadc8ba8cc650f9af2c9b78478de&q=chara&units=metric\n",
      "305 Getting data for muros\n",
      "https://api.openweathermap.org/data/2.5/weather?appid=0845fadc8ba8cc650f9af2c9b78478de&q=muros&units=metric\n",
      "306 Getting data for vila velha\n",
      "https://api.openweathermap.org/data/2.5/weather?appid=0845fadc8ba8cc650f9af2c9b78478de&q=vila velha&units=metric\n",
      "307 Getting data for sainte-marie\n",
      "https://api.openweathermap.org/data/2.5/weather?appid=0845fadc8ba8cc650f9af2c9b78478de&q=sainte-marie&units=metric\n",
      "308 Getting data for riviere-au-renard\n",
      "https://api.openweathermap.org/data/2.5/weather?appid=0845fadc8ba8cc650f9af2c9b78478de&q=riviere-au-renard&units=metric\n",
      "309 Getting data for liku\n",
      "https://api.openweathermap.org/data/2.5/weather?appid=0845fadc8ba8cc650f9af2c9b78478de&q=liku&units=metric\n",
      "310 Getting data for hudson\n",
      "https://api.openweathermap.org/data/2.5/weather?appid=0845fadc8ba8cc650f9af2c9b78478de&q=hudson&units=metric\n",
      "311 Getting data for port lincoln\n",
      "https://api.openweathermap.org/data/2.5/weather?appid=0845fadc8ba8cc650f9af2c9b78478de&q=port lincoln&units=metric\n",
      "312 Getting data for ossora\n",
      "https://api.openweathermap.org/data/2.5/weather?appid=0845fadc8ba8cc650f9af2c9b78478de&q=ossora&units=metric\n",
      "313 Getting data for plaster rock\n",
      "https://api.openweathermap.org/data/2.5/weather?appid=0845fadc8ba8cc650f9af2c9b78478de&q=plaster rock&units=metric\n",
      "314 Getting data for harper\n",
      "https://api.openweathermap.org/data/2.5/weather?appid=0845fadc8ba8cc650f9af2c9b78478de&q=harper&units=metric\n",
      "315 Getting data for poum\n",
      "https://api.openweathermap.org/data/2.5/weather?appid=0845fadc8ba8cc650f9af2c9b78478de&q=poum&units=metric\n",
      "316 Getting data for kununurra\n",
      "https://api.openweathermap.org/data/2.5/weather?appid=0845fadc8ba8cc650f9af2c9b78478de&q=kununurra&units=metric\n",
      "317 Getting data for ocos\n",
      "https://api.openweathermap.org/data/2.5/weather?appid=0845fadc8ba8cc650f9af2c9b78478de&q=ocos&units=metric\n",
      "318 Getting data for pervomayskoye\n",
      "https://api.openweathermap.org/data/2.5/weather?appid=0845fadc8ba8cc650f9af2c9b78478de&q=pervomayskoye&units=metric\n",
      "319 Getting data for kintampo\n",
      "https://api.openweathermap.org/data/2.5/weather?appid=0845fadc8ba8cc650f9af2c9b78478de&q=kintampo&units=metric\n",
      "320 Getting data for nioro\n",
      "https://api.openweathermap.org/data/2.5/weather?appid=0845fadc8ba8cc650f9af2c9b78478de&q=nioro&units=metric\n",
      "321 Getting data for college\n",
      "https://api.openweathermap.org/data/2.5/weather?appid=0845fadc8ba8cc650f9af2c9b78478de&q=college&units=metric\n",
      "322 Getting data for cidreira\n",
      "https://api.openweathermap.org/data/2.5/weather?appid=0845fadc8ba8cc650f9af2c9b78478de&q=cidreira&units=metric\n",
      "323 Getting data for klyuchi\n",
      "https://api.openweathermap.org/data/2.5/weather?appid=0845fadc8ba8cc650f9af2c9b78478de&q=klyuchi&units=metric\n",
      "324 Getting data for hanmer springs\n",
      "https://api.openweathermap.org/data/2.5/weather?appid=0845fadc8ba8cc650f9af2c9b78478de&q=hanmer springs&units=metric\n",
      "325 Getting data for san pedro\n",
      "https://api.openweathermap.org/data/2.5/weather?appid=0845fadc8ba8cc650f9af2c9b78478de&q=san pedro&units=metric\n",
      "326 Getting data for santa maria\n",
      "https://api.openweathermap.org/data/2.5/weather?appid=0845fadc8ba8cc650f9af2c9b78478de&q=santa maria&units=metric\n",
      "327 Getting data for naze\n",
      "https://api.openweathermap.org/data/2.5/weather?appid=0845fadc8ba8cc650f9af2c9b78478de&q=naze&units=metric\n",
      "328 Getting data for ciudad bolivar\n",
      "https://api.openweathermap.org/data/2.5/weather?appid=0845fadc8ba8cc650f9af2c9b78478de&q=ciudad bolivar&units=metric\n",
      "329 Getting data for necochea\n",
      "https://api.openweathermap.org/data/2.5/weather?appid=0845fadc8ba8cc650f9af2c9b78478de&q=necochea&units=metric\n",
      "330 Getting data for komsomolskiy\n",
      "https://api.openweathermap.org/data/2.5/weather?appid=0845fadc8ba8cc650f9af2c9b78478de&q=komsomolskiy&units=metric\n",
      "331 Getting data for oriximina\n",
      "https://api.openweathermap.org/data/2.5/weather?appid=0845fadc8ba8cc650f9af2c9b78478de&q=oriximina&units=metric\n",
      "332 Getting data for chontalpa\n",
      "https://api.openweathermap.org/data/2.5/weather?appid=0845fadc8ba8cc650f9af2c9b78478de&q=chontalpa&units=metric\n",
      "333 Getting data for umm durman\n",
      "https://api.openweathermap.org/data/2.5/weather?appid=0845fadc8ba8cc650f9af2c9b78478de&q=umm durman&units=metric\n",
      "334 Getting data for guider\n",
      "https://api.openweathermap.org/data/2.5/weather?appid=0845fadc8ba8cc650f9af2c9b78478de&q=guider&units=metric\n",
      "335 Getting data for gombong\n",
      "https://api.openweathermap.org/data/2.5/weather?appid=0845fadc8ba8cc650f9af2c9b78478de&q=gombong&units=metric\n",
      "336 Getting data for evensk\n",
      "https://api.openweathermap.org/data/2.5/weather?appid=0845fadc8ba8cc650f9af2c9b78478de&q=evensk&units=metric\n",
      "337 Getting data for mwene-ditu\n",
      "https://api.openweathermap.org/data/2.5/weather?appid=0845fadc8ba8cc650f9af2c9b78478de&q=mwene-ditu&units=metric\n",
      "338 Getting data for channel-port aux basques\n",
      "https://api.openweathermap.org/data/2.5/weather?appid=0845fadc8ba8cc650f9af2c9b78478de&q=channel-port aux basques&units=metric\n",
      "339 Getting data for piskivka\n",
      "https://api.openweathermap.org/data/2.5/weather?appid=0845fadc8ba8cc650f9af2c9b78478de&q=piskivka&units=metric\n",
      "340 Getting data for andrelandia\n",
      "https://api.openweathermap.org/data/2.5/weather?appid=0845fadc8ba8cc650f9af2c9b78478de&q=andrelandia&units=metric\n",
      "341 Getting data for mocambique\n",
      "https://api.openweathermap.org/data/2.5/weather?appid=0845fadc8ba8cc650f9af2c9b78478de&q=mocambique&units=metric\n",
      "342 Getting data for clyde river\n",
      "https://api.openweathermap.org/data/2.5/weather?appid=0845fadc8ba8cc650f9af2c9b78478de&q=clyde river&units=metric\n",
      "343 Getting data for port hedland\n",
      "https://api.openweathermap.org/data/2.5/weather?appid=0845fadc8ba8cc650f9af2c9b78478de&q=port hedland&units=metric\n",
      "344 Getting data for ginir\n",
      "https://api.openweathermap.org/data/2.5/weather?appid=0845fadc8ba8cc650f9af2c9b78478de&q=ginir&units=metric\n",
      "345 Getting data for vestmannaeyjar\n",
      "https://api.openweathermap.org/data/2.5/weather?appid=0845fadc8ba8cc650f9af2c9b78478de&q=vestmannaeyjar&units=metric\n",
      "346 Getting data for tampilisan\n",
      "https://api.openweathermap.org/data/2.5/weather?appid=0845fadc8ba8cc650f9af2c9b78478de&q=tampilisan&units=metric\n",
      "347 Getting data for tazovskiy\n",
      "https://api.openweathermap.org/data/2.5/weather?appid=0845fadc8ba8cc650f9af2c9b78478de&q=tazovskiy&units=metric\n",
      "348 Getting data for lobito\n",
      "https://api.openweathermap.org/data/2.5/weather?appid=0845fadc8ba8cc650f9af2c9b78478de&q=lobito&units=metric\n",
      "349 Getting data for longyearbyen\n",
      "https://api.openweathermap.org/data/2.5/weather?appid=0845fadc8ba8cc650f9af2c9b78478de&q=longyearbyen&units=metric\n"
     ]
    },
    {
     "name": "stdout",
     "output_type": "stream",
     "text": [
      "350 Getting data for opuwo\n",
      "https://api.openweathermap.org/data/2.5/weather?appid=0845fadc8ba8cc650f9af2c9b78478de&q=opuwo&units=metric\n",
      "351 Getting data for solnechnyy\n",
      "https://api.openweathermap.org/data/2.5/weather?appid=0845fadc8ba8cc650f9af2c9b78478de&q=solnechnyy&units=metric\n",
      "352 Getting data for bukachacha\n",
      "https://api.openweathermap.org/data/2.5/weather?appid=0845fadc8ba8cc650f9af2c9b78478de&q=bukachacha&units=metric\n",
      "353 Getting data for moose factory\n",
      "https://api.openweathermap.org/data/2.5/weather?appid=0845fadc8ba8cc650f9af2c9b78478de&q=moose factory&units=metric\n",
      "354 Getting data for ahipara\n",
      "https://api.openweathermap.org/data/2.5/weather?appid=0845fadc8ba8cc650f9af2c9b78478de&q=ahipara&units=metric\n",
      "355 Getting data for grand river south east\n",
      "https://api.openweathermap.org/data/2.5/weather?appid=0845fadc8ba8cc650f9af2c9b78478de&q=grand river south east&units=metric\n",
      "356 Getting data for beringovskiy\n",
      "https://api.openweathermap.org/data/2.5/weather?appid=0845fadc8ba8cc650f9af2c9b78478de&q=beringovskiy&units=metric\n",
      "357 Getting data for dingle\n",
      "https://api.openweathermap.org/data/2.5/weather?appid=0845fadc8ba8cc650f9af2c9b78478de&q=dingle&units=metric\n",
      "358 Getting data for sawtell\n",
      "https://api.openweathermap.org/data/2.5/weather?appid=0845fadc8ba8cc650f9af2c9b78478de&q=sawtell&units=metric\n",
      "359 Getting data for nangwa\n",
      "https://api.openweathermap.org/data/2.5/weather?appid=0845fadc8ba8cc650f9af2c9b78478de&q=nangwa&units=metric\n",
      "360 Getting data for kavant\n",
      "https://api.openweathermap.org/data/2.5/weather?appid=0845fadc8ba8cc650f9af2c9b78478de&q=kavant&units=metric\n",
      "361 Getting data for the valley\n",
      "https://api.openweathermap.org/data/2.5/weather?appid=0845fadc8ba8cc650f9af2c9b78478de&q=the valley&units=metric\n",
      "362 Getting data for jasper\n",
      "https://api.openweathermap.org/data/2.5/weather?appid=0845fadc8ba8cc650f9af2c9b78478de&q=jasper&units=metric\n",
      "363 Getting data for traverse city\n",
      "https://api.openweathermap.org/data/2.5/weather?appid=0845fadc8ba8cc650f9af2c9b78478de&q=traverse city&units=metric\n",
      "364 Getting data for karratha\n",
      "https://api.openweathermap.org/data/2.5/weather?appid=0845fadc8ba8cc650f9af2c9b78478de&q=karratha&units=metric\n",
      "365 Getting data for mandalgovi\n",
      "https://api.openweathermap.org/data/2.5/weather?appid=0845fadc8ba8cc650f9af2c9b78478de&q=mandalgovi&units=metric\n",
      "366 Getting data for tigil\n",
      "https://api.openweathermap.org/data/2.5/weather?appid=0845fadc8ba8cc650f9af2c9b78478de&q=tigil&units=metric\n",
      "367 Getting data for brightwater\n",
      "https://api.openweathermap.org/data/2.5/weather?appid=0845fadc8ba8cc650f9af2c9b78478de&q=brightwater&units=metric\n",
      "368 Getting data for carnarvon\n",
      "https://api.openweathermap.org/data/2.5/weather?appid=0845fadc8ba8cc650f9af2c9b78478de&q=carnarvon&units=metric\n",
      "369 Getting data for sur\n",
      "https://api.openweathermap.org/data/2.5/weather?appid=0845fadc8ba8cc650f9af2c9b78478de&q=sur&units=metric\n",
      "370 Getting data for isiro\n",
      "https://api.openweathermap.org/data/2.5/weather?appid=0845fadc8ba8cc650f9af2c9b78478de&q=isiro&units=metric\n",
      "371 Getting data for montanha\n",
      "https://api.openweathermap.org/data/2.5/weather?appid=0845fadc8ba8cc650f9af2c9b78478de&q=montanha&units=metric\n",
      "372 Getting data for peno\n",
      "https://api.openweathermap.org/data/2.5/weather?appid=0845fadc8ba8cc650f9af2c9b78478de&q=peno&units=metric\n",
      "373 Getting data for kadykchan\n",
      "https://api.openweathermap.org/data/2.5/weather?appid=0845fadc8ba8cc650f9af2c9b78478de&q=kadykchan&units=metric\n",
      "374 Getting data for geraldton\n",
      "https://api.openweathermap.org/data/2.5/weather?appid=0845fadc8ba8cc650f9af2c9b78478de&q=geraldton&units=metric\n",
      "375 Getting data for laguna\n",
      "https://api.openweathermap.org/data/2.5/weather?appid=0845fadc8ba8cc650f9af2c9b78478de&q=laguna&units=metric\n",
      "376 Getting data for tual\n",
      "https://api.openweathermap.org/data/2.5/weather?appid=0845fadc8ba8cc650f9af2c9b78478de&q=tual&units=metric\n",
      "377 Getting data for kavieng\n",
      "https://api.openweathermap.org/data/2.5/weather?appid=0845fadc8ba8cc650f9af2c9b78478de&q=kavieng&units=metric\n",
      "378 Getting data for sentyabrskiy\n",
      "https://api.openweathermap.org/data/2.5/weather?appid=0845fadc8ba8cc650f9af2c9b78478de&q=sentyabrskiy&units=metric\n",
      "379 Getting data for noumea\n",
      "https://api.openweathermap.org/data/2.5/weather?appid=0845fadc8ba8cc650f9af2c9b78478de&q=noumea&units=metric\n",
      "380 Getting data for ullapool\n",
      "https://api.openweathermap.org/data/2.5/weather?appid=0845fadc8ba8cc650f9af2c9b78478de&q=ullapool&units=metric\n",
      "381 Getting data for namibe\n",
      "https://api.openweathermap.org/data/2.5/weather?appid=0845fadc8ba8cc650f9af2c9b78478de&q=namibe&units=metric\n",
      "382 Getting data for kazachinskoye\n",
      "https://api.openweathermap.org/data/2.5/weather?appid=0845fadc8ba8cc650f9af2c9b78478de&q=kazachinskoye&units=metric\n",
      "383 Getting data for trincomalee\n",
      "https://api.openweathermap.org/data/2.5/weather?appid=0845fadc8ba8cc650f9af2c9b78478de&q=trincomalee&units=metric\n",
      "384 Getting data for goderich\n",
      "https://api.openweathermap.org/data/2.5/weather?appid=0845fadc8ba8cc650f9af2c9b78478de&q=goderich&units=metric\n",
      "385 Getting data for arman\n",
      "https://api.openweathermap.org/data/2.5/weather?appid=0845fadc8ba8cc650f9af2c9b78478de&q=arman&units=metric\n",
      "386 Getting data for melo\n",
      "https://api.openweathermap.org/data/2.5/weather?appid=0845fadc8ba8cc650f9af2c9b78478de&q=melo&units=metric\n",
      "387 Getting data for ribeira brava\n",
      "https://api.openweathermap.org/data/2.5/weather?appid=0845fadc8ba8cc650f9af2c9b78478de&q=ribeira brava&units=metric\n",
      "388 Getting data for rocha\n",
      "https://api.openweathermap.org/data/2.5/weather?appid=0845fadc8ba8cc650f9af2c9b78478de&q=rocha&units=metric\n",
      "389 Getting data for makakilo city\n",
      "https://api.openweathermap.org/data/2.5/weather?appid=0845fadc8ba8cc650f9af2c9b78478de&q=makakilo city&units=metric\n",
      "390 Getting data for progreso\n",
      "https://api.openweathermap.org/data/2.5/weather?appid=0845fadc8ba8cc650f9af2c9b78478de&q=progreso&units=metric\n",
      "391 Getting data for nizhneyansk\n",
      "https://api.openweathermap.org/data/2.5/weather?appid=0845fadc8ba8cc650f9af2c9b78478de&q=nizhneyansk&units=metric\n",
      "392 Getting data for tabou\n",
      "https://api.openweathermap.org/data/2.5/weather?appid=0845fadc8ba8cc650f9af2c9b78478de&q=tabou&units=metric\n",
      "393 Getting data for lillooet\n",
      "https://api.openweathermap.org/data/2.5/weather?appid=0845fadc8ba8cc650f9af2c9b78478de&q=lillooet&units=metric\n",
      "394 Getting data for mitsamiouli\n",
      "https://api.openweathermap.org/data/2.5/weather?appid=0845fadc8ba8cc650f9af2c9b78478de&q=mitsamiouli&units=metric\n",
      "395 Getting data for marzuq\n",
      "https://api.openweathermap.org/data/2.5/weather?appid=0845fadc8ba8cc650f9af2c9b78478de&q=marzuq&units=metric\n",
      "396 Getting data for kiama\n",
      "https://api.openweathermap.org/data/2.5/weather?appid=0845fadc8ba8cc650f9af2c9b78478de&q=kiama&units=metric\n",
      "397 Getting data for wernigerode\n",
      "https://api.openweathermap.org/data/2.5/weather?appid=0845fadc8ba8cc650f9af2c9b78478de&q=wernigerode&units=metric\n",
      "398 Getting data for katherine\n",
      "https://api.openweathermap.org/data/2.5/weather?appid=0845fadc8ba8cc650f9af2c9b78478de&q=katherine&units=metric\n",
      "399 Getting data for galle\n",
      "https://api.openweathermap.org/data/2.5/weather?appid=0845fadc8ba8cc650f9af2c9b78478de&q=galle&units=metric\n",
      "400 Getting data for shache\n",
      "https://api.openweathermap.org/data/2.5/weather?appid=0845fadc8ba8cc650f9af2c9b78478de&q=shache&units=metric\n",
      "401 Getting data for dzaoudzi\n",
      "https://api.openweathermap.org/data/2.5/weather?appid=0845fadc8ba8cc650f9af2c9b78478de&q=dzaoudzi&units=metric\n",
      "402 Getting data for kuraymah\n",
      "https://api.openweathermap.org/data/2.5/weather?appid=0845fadc8ba8cc650f9af2c9b78478de&q=kuraymah&units=metric\n",
      "403 Getting data for karamea\n",
      "https://api.openweathermap.org/data/2.5/weather?appid=0845fadc8ba8cc650f9af2c9b78478de&q=karamea&units=metric\n",
      "404 Getting data for talnakh\n",
      "https://api.openweathermap.org/data/2.5/weather?appid=0845fadc8ba8cc650f9af2c9b78478de&q=talnakh&units=metric\n",
      "405 Getting data for grand island\n",
      "https://api.openweathermap.org/data/2.5/weather?appid=0845fadc8ba8cc650f9af2c9b78478de&q=grand island&units=metric\n",
      "406 Getting data for sarangani\n",
      "https://api.openweathermap.org/data/2.5/weather?appid=0845fadc8ba8cc650f9af2c9b78478de&q=sarangani&units=metric\n",
      "407 Getting data for mount isa\n",
      "https://api.openweathermap.org/data/2.5/weather?appid=0845fadc8ba8cc650f9af2c9b78478de&q=mount isa&units=metric\n"
     ]
    },
    {
     "name": "stdout",
     "output_type": "stream",
     "text": [
      "408 Getting data for kieta\n",
      "https://api.openweathermap.org/data/2.5/weather?appid=0845fadc8ba8cc650f9af2c9b78478de&q=kieta&units=metric\n",
      "409 Getting data for pimenta bueno\n",
      "https://api.openweathermap.org/data/2.5/weather?appid=0845fadc8ba8cc650f9af2c9b78478de&q=pimenta bueno&units=metric\n",
      "410 Getting data for shakawe\n",
      "https://api.openweathermap.org/data/2.5/weather?appid=0845fadc8ba8cc650f9af2c9b78478de&q=shakawe&units=metric\n",
      "411 Getting data for awbari\n",
      "https://api.openweathermap.org/data/2.5/weather?appid=0845fadc8ba8cc650f9af2c9b78478de&q=awbari&units=metric\n",
      "412 Getting data for honiara\n",
      "https://api.openweathermap.org/data/2.5/weather?appid=0845fadc8ba8cc650f9af2c9b78478de&q=honiara&units=metric\n",
      "413 Getting data for tommot\n",
      "https://api.openweathermap.org/data/2.5/weather?appid=0845fadc8ba8cc650f9af2c9b78478de&q=tommot&units=metric\n",
      "414 Getting data for anadyr\n",
      "https://api.openweathermap.org/data/2.5/weather?appid=0845fadc8ba8cc650f9af2c9b78478de&q=anadyr&units=metric\n",
      "415 Getting data for chegem\n",
      "https://api.openweathermap.org/data/2.5/weather?appid=0845fadc8ba8cc650f9af2c9b78478de&q=chegem&units=metric\n",
      "416 Getting data for luderitz\n",
      "https://api.openweathermap.org/data/2.5/weather?appid=0845fadc8ba8cc650f9af2c9b78478de&q=luderitz&units=metric\n",
      "417 Getting data for flin flon\n",
      "https://api.openweathermap.org/data/2.5/weather?appid=0845fadc8ba8cc650f9af2c9b78478de&q=flin flon&units=metric\n",
      "418 Getting data for san quintin\n",
      "https://api.openweathermap.org/data/2.5/weather?appid=0845fadc8ba8cc650f9af2c9b78478de&q=san quintin&units=metric\n",
      "419 Getting data for ngoro\n",
      "https://api.openweathermap.org/data/2.5/weather?appid=0845fadc8ba8cc650f9af2c9b78478de&q=ngoro&units=metric\n",
      "420 Getting data for biak\n",
      "https://api.openweathermap.org/data/2.5/weather?appid=0845fadc8ba8cc650f9af2c9b78478de&q=biak&units=metric\n",
      "421 Getting data for hunza\n",
      "https://api.openweathermap.org/data/2.5/weather?appid=0845fadc8ba8cc650f9af2c9b78478de&q=hunza&units=metric\n",
      "422 Getting data for honningsvag\n",
      "https://api.openweathermap.org/data/2.5/weather?appid=0845fadc8ba8cc650f9af2c9b78478de&q=honningsvag&units=metric\n",
      "423 Getting data for pacific grove\n",
      "https://api.openweathermap.org/data/2.5/weather?appid=0845fadc8ba8cc650f9af2c9b78478de&q=pacific grove&units=metric\n",
      "424 Getting data for bonao\n",
      "https://api.openweathermap.org/data/2.5/weather?appid=0845fadc8ba8cc650f9af2c9b78478de&q=bonao&units=metric\n",
      "425 Getting data for rungata\n",
      "https://api.openweathermap.org/data/2.5/weather?appid=0845fadc8ba8cc650f9af2c9b78478de&q=rungata&units=metric\n",
      "426 Getting data for alyangula\n",
      "https://api.openweathermap.org/data/2.5/weather?appid=0845fadc8ba8cc650f9af2c9b78478de&q=alyangula&units=metric\n",
      "427 Getting data for riyadh\n",
      "https://api.openweathermap.org/data/2.5/weather?appid=0845fadc8ba8cc650f9af2c9b78478de&q=riyadh&units=metric\n",
      "428 Getting data for katwijk\n",
      "https://api.openweathermap.org/data/2.5/weather?appid=0845fadc8ba8cc650f9af2c9b78478de&q=katwijk&units=metric\n",
      "429 Getting data for raga\n",
      "https://api.openweathermap.org/data/2.5/weather?appid=0845fadc8ba8cc650f9af2c9b78478de&q=raga&units=metric\n",
      "430 Getting data for tumannyy\n",
      "https://api.openweathermap.org/data/2.5/weather?appid=0845fadc8ba8cc650f9af2c9b78478de&q=tumannyy&units=metric\n",
      "431 Getting data for magadan\n",
      "https://api.openweathermap.org/data/2.5/weather?appid=0845fadc8ba8cc650f9af2c9b78478de&q=magadan&units=metric\n",
      "432 Getting data for tuktoyaktuk\n",
      "https://api.openweathermap.org/data/2.5/weather?appid=0845fadc8ba8cc650f9af2c9b78478de&q=tuktoyaktuk&units=metric\n",
      "433 Getting data for samarai\n",
      "https://api.openweathermap.org/data/2.5/weather?appid=0845fadc8ba8cc650f9af2c9b78478de&q=samarai&units=metric\n",
      "434 Getting data for zarechnyy\n",
      "https://api.openweathermap.org/data/2.5/weather?appid=0845fadc8ba8cc650f9af2c9b78478de&q=zarechnyy&units=metric\n",
      "435 Getting data for qurayyat\n",
      "https://api.openweathermap.org/data/2.5/weather?appid=0845fadc8ba8cc650f9af2c9b78478de&q=qurayyat&units=metric\n",
      "436 Getting data for neiva\n",
      "https://api.openweathermap.org/data/2.5/weather?appid=0845fadc8ba8cc650f9af2c9b78478de&q=neiva&units=metric\n",
      "437 Getting data for kavarna\n",
      "https://api.openweathermap.org/data/2.5/weather?appid=0845fadc8ba8cc650f9af2c9b78478de&q=kavarna&units=metric\n",
      "438 Getting data for novolvovsk\n",
      "https://api.openweathermap.org/data/2.5/weather?appid=0845fadc8ba8cc650f9af2c9b78478de&q=novolvovsk&units=metric\n",
      "439 Getting data for korla\n",
      "https://api.openweathermap.org/data/2.5/weather?appid=0845fadc8ba8cc650f9af2c9b78478de&q=korla&units=metric\n",
      "440 Getting data for surt\n",
      "https://api.openweathermap.org/data/2.5/weather?appid=0845fadc8ba8cc650f9af2c9b78478de&q=surt&units=metric\n",
      "441 Getting data for pangnirtung\n",
      "https://api.openweathermap.org/data/2.5/weather?appid=0845fadc8ba8cc650f9af2c9b78478de&q=pangnirtung&units=metric\n",
      "442 Getting data for livadiya\n",
      "https://api.openweathermap.org/data/2.5/weather?appid=0845fadc8ba8cc650f9af2c9b78478de&q=livadiya&units=metric\n",
      "443 Getting data for paita\n",
      "https://api.openweathermap.org/data/2.5/weather?appid=0845fadc8ba8cc650f9af2c9b78478de&q=paita&units=metric\n",
      "444 Getting data for salinas\n",
      "https://api.openweathermap.org/data/2.5/weather?appid=0845fadc8ba8cc650f9af2c9b78478de&q=salinas&units=metric\n",
      "445 Getting data for narsaq\n",
      "https://api.openweathermap.org/data/2.5/weather?appid=0845fadc8ba8cc650f9af2c9b78478de&q=narsaq&units=metric\n",
      "446 Getting data for bonavista\n",
      "https://api.openweathermap.org/data/2.5/weather?appid=0845fadc8ba8cc650f9af2c9b78478de&q=bonavista&units=metric\n",
      "447 Getting data for yafran\n",
      "https://api.openweathermap.org/data/2.5/weather?appid=0845fadc8ba8cc650f9af2c9b78478de&q=yafran&units=metric\n",
      "448 Getting data for saint simons\n",
      "https://api.openweathermap.org/data/2.5/weather?appid=0845fadc8ba8cc650f9af2c9b78478de&q=saint simons&units=metric\n",
      "449 Getting data for nanortalik\n",
      "https://api.openweathermap.org/data/2.5/weather?appid=0845fadc8ba8cc650f9af2c9b78478de&q=nanortalik&units=metric\n",
      "450 Getting data for iskateley\n",
      "https://api.openweathermap.org/data/2.5/weather?appid=0845fadc8ba8cc650f9af2c9b78478de&q=iskateley&units=metric\n",
      "451 Getting data for sorvag\n",
      "https://api.openweathermap.org/data/2.5/weather?appid=0845fadc8ba8cc650f9af2c9b78478de&q=sorvag&units=metric\n",
      "452 Getting data for ekhabi\n",
      "https://api.openweathermap.org/data/2.5/weather?appid=0845fadc8ba8cc650f9af2c9b78478de&q=ekhabi&units=metric\n",
      "453 Getting data for xiongzhou\n",
      "https://api.openweathermap.org/data/2.5/weather?appid=0845fadc8ba8cc650f9af2c9b78478de&q=xiongzhou&units=metric\n",
      "454 Getting data for saint quentin\n",
      "https://api.openweathermap.org/data/2.5/weather?appid=0845fadc8ba8cc650f9af2c9b78478de&q=saint quentin&units=metric\n",
      "455 Getting data for xai-xai\n",
      "https://api.openweathermap.org/data/2.5/weather?appid=0845fadc8ba8cc650f9af2c9b78478de&q=xai-xai&units=metric\n",
      "456 Getting data for vao\n",
      "https://api.openweathermap.org/data/2.5/weather?appid=0845fadc8ba8cc650f9af2c9b78478de&q=vao&units=metric\n",
      "457 Getting data for granadilla de abona\n",
      "https://api.openweathermap.org/data/2.5/weather?appid=0845fadc8ba8cc650f9af2c9b78478de&q=granadilla de abona&units=metric\n",
      "458 Getting data for santa cruz\n",
      "https://api.openweathermap.org/data/2.5/weather?appid=0845fadc8ba8cc650f9af2c9b78478de&q=santa cruz&units=metric\n",
      "459 Getting data for nampa\n",
      "https://api.openweathermap.org/data/2.5/weather?appid=0845fadc8ba8cc650f9af2c9b78478de&q=nampa&units=metric\n",
      "460 Getting data for talakan\n",
      "https://api.openweathermap.org/data/2.5/weather?appid=0845fadc8ba8cc650f9af2c9b78478de&q=talakan&units=metric\n",
      "461 Getting data for eyl\n",
      "https://api.openweathermap.org/data/2.5/weather?appid=0845fadc8ba8cc650f9af2c9b78478de&q=eyl&units=metric\n",
      "462 Getting data for umba\n",
      "https://api.openweathermap.org/data/2.5/weather?appid=0845fadc8ba8cc650f9af2c9b78478de&q=umba&units=metric\n",
      "463 Getting data for nanakuli\n",
      "https://api.openweathermap.org/data/2.5/weather?appid=0845fadc8ba8cc650f9af2c9b78478de&q=nanakuli&units=metric\n",
      "464 Getting data for umzimvubu\n",
      "https://api.openweathermap.org/data/2.5/weather?appid=0845fadc8ba8cc650f9af2c9b78478de&q=umzimvubu&units=metric\n",
      "465 Getting data for salto\n",
      "https://api.openweathermap.org/data/2.5/weather?appid=0845fadc8ba8cc650f9af2c9b78478de&q=salto&units=metric\n",
      "466 Getting data for holme\n",
      "https://api.openweathermap.org/data/2.5/weather?appid=0845fadc8ba8cc650f9af2c9b78478de&q=holme&units=metric\n"
     ]
    },
    {
     "name": "stdout",
     "output_type": "stream",
     "text": [
      "467 Getting data for banepa\n",
      "https://api.openweathermap.org/data/2.5/weather?appid=0845fadc8ba8cc650f9af2c9b78478de&q=banepa&units=metric\n",
      "468 Getting data for nemuro\n",
      "https://api.openweathermap.org/data/2.5/weather?appid=0845fadc8ba8cc650f9af2c9b78478de&q=nemuro&units=metric\n",
      "469 Getting data for swellendam\n",
      "https://api.openweathermap.org/data/2.5/weather?appid=0845fadc8ba8cc650f9af2c9b78478de&q=swellendam&units=metric\n",
      "470 Getting data for dzilam gonzalez\n",
      "https://api.openweathermap.org/data/2.5/weather?appid=0845fadc8ba8cc650f9af2c9b78478de&q=dzilam gonzalez&units=metric\n",
      "471 Getting data for aflu\n",
      "https://api.openweathermap.org/data/2.5/weather?appid=0845fadc8ba8cc650f9af2c9b78478de&q=aflu&units=metric\n",
      "472 Getting data for vizinga\n",
      "https://api.openweathermap.org/data/2.5/weather?appid=0845fadc8ba8cc650f9af2c9b78478de&q=vizinga&units=metric\n",
      "473 Getting data for esil\n",
      "https://api.openweathermap.org/data/2.5/weather?appid=0845fadc8ba8cc650f9af2c9b78478de&q=esil&units=metric\n",
      "474 Getting data for saleaula\n",
      "https://api.openweathermap.org/data/2.5/weather?appid=0845fadc8ba8cc650f9af2c9b78478de&q=saleaula&units=metric\n",
      "475 Getting data for tuatapere\n",
      "https://api.openweathermap.org/data/2.5/weather?appid=0845fadc8ba8cc650f9af2c9b78478de&q=tuatapere&units=metric\n",
      "476 Getting data for brasileia\n",
      "https://api.openweathermap.org/data/2.5/weather?appid=0845fadc8ba8cc650f9af2c9b78478de&q=brasileia&units=metric\n",
      "477 Getting data for najran\n",
      "https://api.openweathermap.org/data/2.5/weather?appid=0845fadc8ba8cc650f9af2c9b78478de&q=najran&units=metric\n",
      "478 Getting data for goianapolis\n",
      "https://api.openweathermap.org/data/2.5/weather?appid=0845fadc8ba8cc650f9af2c9b78478de&q=goianapolis&units=metric\n",
      "479 Getting data for linjiang\n",
      "https://api.openweathermap.org/data/2.5/weather?appid=0845fadc8ba8cc650f9af2c9b78478de&q=linjiang&units=metric\n",
      "480 Getting data for kaeo\n",
      "https://api.openweathermap.org/data/2.5/weather?appid=0845fadc8ba8cc650f9af2c9b78478de&q=kaeo&units=metric\n",
      "481 Getting data for kjollefjord\n",
      "https://api.openweathermap.org/data/2.5/weather?appid=0845fadc8ba8cc650f9af2c9b78478de&q=kjollefjord&units=metric\n",
      "482 Getting data for adrar\n",
      "https://api.openweathermap.org/data/2.5/weather?appid=0845fadc8ba8cc650f9af2c9b78478de&q=adrar&units=metric\n",
      "483 Getting data for baghdad\n",
      "https://api.openweathermap.org/data/2.5/weather?appid=0845fadc8ba8cc650f9af2c9b78478de&q=baghdad&units=metric\n",
      "484 Getting data for bangassou\n",
      "https://api.openweathermap.org/data/2.5/weather?appid=0845fadc8ba8cc650f9af2c9b78478de&q=bangassou&units=metric\n",
      "485 Getting data for hami\n",
      "https://api.openweathermap.org/data/2.5/weather?appid=0845fadc8ba8cc650f9af2c9b78478de&q=hami&units=metric\n",
      "486 Getting data for iesolo\n",
      "https://api.openweathermap.org/data/2.5/weather?appid=0845fadc8ba8cc650f9af2c9b78478de&q=iesolo&units=metric\n",
      "487 Getting data for campo maior\n",
      "https://api.openweathermap.org/data/2.5/weather?appid=0845fadc8ba8cc650f9af2c9b78478de&q=campo maior&units=metric\n",
      "488 Getting data for maloshuyka\n",
      "https://api.openweathermap.org/data/2.5/weather?appid=0845fadc8ba8cc650f9af2c9b78478de&q=maloshuyka&units=metric\n",
      "489 Getting data for rabo de peixe\n",
      "https://api.openweathermap.org/data/2.5/weather?appid=0845fadc8ba8cc650f9af2c9b78478de&q=rabo de peixe&units=metric\n",
      "490 Getting data for belmonte\n",
      "https://api.openweathermap.org/data/2.5/weather?appid=0845fadc8ba8cc650f9af2c9b78478de&q=belmonte&units=metric\n",
      "491 Getting data for baruun-urt\n",
      "https://api.openweathermap.org/data/2.5/weather?appid=0845fadc8ba8cc650f9af2c9b78478de&q=baruun-urt&units=metric\n",
      "492 Getting data for sinnar\n",
      "https://api.openweathermap.org/data/2.5/weather?appid=0845fadc8ba8cc650f9af2c9b78478de&q=sinnar&units=metric\n",
      "493 Getting data for cayenne\n",
      "https://api.openweathermap.org/data/2.5/weather?appid=0845fadc8ba8cc650f9af2c9b78478de&q=cayenne&units=metric\n",
      "494 Getting data for milyutinskaya\n",
      "https://api.openweathermap.org/data/2.5/weather?appid=0845fadc8ba8cc650f9af2c9b78478de&q=milyutinskaya&units=metric\n",
      "495 Getting data for adelaide\n",
      "https://api.openweathermap.org/data/2.5/weather?appid=0845fadc8ba8cc650f9af2c9b78478de&q=adelaide&units=metric\n",
      "496 Getting data for opochka\n",
      "https://api.openweathermap.org/data/2.5/weather?appid=0845fadc8ba8cc650f9af2c9b78478de&q=opochka&units=metric\n",
      "497 Getting data for salinopolis\n",
      "https://api.openweathermap.org/data/2.5/weather?appid=0845fadc8ba8cc650f9af2c9b78478de&q=salinopolis&units=metric\n",
      "498 Getting data for helong\n",
      "https://api.openweathermap.org/data/2.5/weather?appid=0845fadc8ba8cc650f9af2c9b78478de&q=helong&units=metric\n",
      "499 Getting data for homer\n",
      "https://api.openweathermap.org/data/2.5/weather?appid=0845fadc8ba8cc650f9af2c9b78478de&q=homer&units=metric\n",
      "500 Getting data for yushu\n",
      "https://api.openweathermap.org/data/2.5/weather?appid=0845fadc8ba8cc650f9af2c9b78478de&q=yushu&units=metric\n",
      "501 Getting data for tarko-sale\n",
      "https://api.openweathermap.org/data/2.5/weather?appid=0845fadc8ba8cc650f9af2c9b78478de&q=tarko-sale&units=metric\n",
      "502 Getting data for teya\n",
      "https://api.openweathermap.org/data/2.5/weather?appid=0845fadc8ba8cc650f9af2c9b78478de&q=teya&units=metric\n",
      "503 Getting data for bambanglipuro\n",
      "https://api.openweathermap.org/data/2.5/weather?appid=0845fadc8ba8cc650f9af2c9b78478de&q=bambanglipuro&units=metric\n",
      "504 Getting data for fredericksburg\n",
      "https://api.openweathermap.org/data/2.5/weather?appid=0845fadc8ba8cc650f9af2c9b78478de&q=fredericksburg&units=metric\n",
      "505 Getting data for kurilsk\n",
      "https://api.openweathermap.org/data/2.5/weather?appid=0845fadc8ba8cc650f9af2c9b78478de&q=kurilsk&units=metric\n",
      "506 Getting data for nuuk\n",
      "https://api.openweathermap.org/data/2.5/weather?appid=0845fadc8ba8cc650f9af2c9b78478de&q=nuuk&units=metric\n",
      "507 Getting data for payo\n",
      "https://api.openweathermap.org/data/2.5/weather?appid=0845fadc8ba8cc650f9af2c9b78478de&q=payo&units=metric\n",
      "508 Getting data for yinchuan\n",
      "https://api.openweathermap.org/data/2.5/weather?appid=0845fadc8ba8cc650f9af2c9b78478de&q=yinchuan&units=metric\n",
      "509 Getting data for hrubieszow\n",
      "https://api.openweathermap.org/data/2.5/weather?appid=0845fadc8ba8cc650f9af2c9b78478de&q=hrubieszow&units=metric\n",
      "510 Getting data for eydhafushi\n",
      "https://api.openweathermap.org/data/2.5/weather?appid=0845fadc8ba8cc650f9af2c9b78478de&q=eydhafushi&units=metric\n",
      "511 Getting data for puri\n",
      "https://api.openweathermap.org/data/2.5/weather?appid=0845fadc8ba8cc650f9af2c9b78478de&q=puri&units=metric\n",
      "512 Getting data for talah\n",
      "https://api.openweathermap.org/data/2.5/weather?appid=0845fadc8ba8cc650f9af2c9b78478de&q=talah&units=metric\n",
      "513 Getting data for bogorodskoye\n",
      "https://api.openweathermap.org/data/2.5/weather?appid=0845fadc8ba8cc650f9af2c9b78478de&q=bogorodskoye&units=metric\n",
      "514 Getting data for port blair\n",
      "https://api.openweathermap.org/data/2.5/weather?appid=0845fadc8ba8cc650f9af2c9b78478de&q=port blair&units=metric\n",
      "515 Getting data for sioux lookout\n",
      "https://api.openweathermap.org/data/2.5/weather?appid=0845fadc8ba8cc650f9af2c9b78478de&q=sioux lookout&units=metric\n",
      "516 Getting data for turayf\n",
      "https://api.openweathermap.org/data/2.5/weather?appid=0845fadc8ba8cc650f9af2c9b78478de&q=turayf&units=metric\n",
      "517 Getting data for snezhnogorsk\n",
      "https://api.openweathermap.org/data/2.5/weather?appid=0845fadc8ba8cc650f9af2c9b78478de&q=snezhnogorsk&units=metric\n",
      "518 Getting data for kalat\n",
      "https://api.openweathermap.org/data/2.5/weather?appid=0845fadc8ba8cc650f9af2c9b78478de&q=kalat&units=metric\n",
      "519 Getting data for besskorbnaya\n",
      "https://api.openweathermap.org/data/2.5/weather?appid=0845fadc8ba8cc650f9af2c9b78478de&q=besskorbnaya&units=metric\n",
      "520 Getting data for acari\n",
      "https://api.openweathermap.org/data/2.5/weather?appid=0845fadc8ba8cc650f9af2c9b78478de&q=acari&units=metric\n",
      "521 Getting data for luanda\n",
      "https://api.openweathermap.org/data/2.5/weather?appid=0845fadc8ba8cc650f9af2c9b78478de&q=luanda&units=metric\n",
      "522 Getting data for ust-kamchatsk\n",
      "https://api.openweathermap.org/data/2.5/weather?appid=0845fadc8ba8cc650f9af2c9b78478de&q=ust-kamchatsk&units=metric\n",
      "523 Getting data for okato\n",
      "https://api.openweathermap.org/data/2.5/weather?appid=0845fadc8ba8cc650f9af2c9b78478de&q=okato&units=metric\n",
      "524 Getting data for kushalgarh\n",
      "https://api.openweathermap.org/data/2.5/weather?appid=0845fadc8ba8cc650f9af2c9b78478de&q=kushalgarh&units=metric\n",
      "525 Getting data for zhezkazgan\n",
      "https://api.openweathermap.org/data/2.5/weather?appid=0845fadc8ba8cc650f9af2c9b78478de&q=zhezkazgan&units=metric\n"
     ]
    },
    {
     "name": "stdout",
     "output_type": "stream",
     "text": [
      "526 Getting data for lardos\n",
      "https://api.openweathermap.org/data/2.5/weather?appid=0845fadc8ba8cc650f9af2c9b78478de&q=lardos&units=metric\n",
      "527 Getting data for bikaner\n",
      "https://api.openweathermap.org/data/2.5/weather?appid=0845fadc8ba8cc650f9af2c9b78478de&q=bikaner&units=metric\n",
      "528 Getting data for sungairaya\n",
      "https://api.openweathermap.org/data/2.5/weather?appid=0845fadc8ba8cc650f9af2c9b78478de&q=sungairaya&units=metric\n",
      "529 Getting data for rincon\n",
      "https://api.openweathermap.org/data/2.5/weather?appid=0845fadc8ba8cc650f9af2c9b78478de&q=rincon&units=metric\n",
      "530 Getting data for banda aceh\n",
      "https://api.openweathermap.org/data/2.5/weather?appid=0845fadc8ba8cc650f9af2c9b78478de&q=banda aceh&units=metric\n",
      "531 Getting data for donegal\n",
      "https://api.openweathermap.org/data/2.5/weather?appid=0845fadc8ba8cc650f9af2c9b78478de&q=donegal&units=metric\n",
      "532 Getting data for karaul\n",
      "https://api.openweathermap.org/data/2.5/weather?appid=0845fadc8ba8cc650f9af2c9b78478de&q=karaul&units=metric\n",
      "533 Getting data for gorontalo\n",
      "https://api.openweathermap.org/data/2.5/weather?appid=0845fadc8ba8cc650f9af2c9b78478de&q=gorontalo&units=metric\n",
      "534 Getting data for havoysund\n",
      "https://api.openweathermap.org/data/2.5/weather?appid=0845fadc8ba8cc650f9af2c9b78478de&q=havoysund&units=metric\n",
      "535 Getting data for yenagoa\n",
      "https://api.openweathermap.org/data/2.5/weather?appid=0845fadc8ba8cc650f9af2c9b78478de&q=yenagoa&units=metric\n",
      "536 Getting data for havre-saint-pierre\n",
      "https://api.openweathermap.org/data/2.5/weather?appid=0845fadc8ba8cc650f9af2c9b78478de&q=havre-saint-pierre&units=metric\n",
      "537 Getting data for fare\n",
      "https://api.openweathermap.org/data/2.5/weather?appid=0845fadc8ba8cc650f9af2c9b78478de&q=fare&units=metric\n",
      "538 Getting data for yulara\n",
      "https://api.openweathermap.org/data/2.5/weather?appid=0845fadc8ba8cc650f9af2c9b78478de&q=yulara&units=metric\n",
      "539 Getting data for horasan\n",
      "https://api.openweathermap.org/data/2.5/weather?appid=0845fadc8ba8cc650f9af2c9b78478de&q=horasan&units=metric\n",
      "540 Getting data for bani walid\n",
      "https://api.openweathermap.org/data/2.5/weather?appid=0845fadc8ba8cc650f9af2c9b78478de&q=bani walid&units=metric\n",
      "541 Getting data for mikkeli\n",
      "https://api.openweathermap.org/data/2.5/weather?appid=0845fadc8ba8cc650f9af2c9b78478de&q=mikkeli&units=metric\n",
      "542 Getting data for finschhafen\n",
      "https://api.openweathermap.org/data/2.5/weather?appid=0845fadc8ba8cc650f9af2c9b78478de&q=finschhafen&units=metric\n",
      "543 Getting data for lima\n",
      "https://api.openweathermap.org/data/2.5/weather?appid=0845fadc8ba8cc650f9af2c9b78478de&q=lima&units=metric\n",
      "544 Getting data for bengkalis\n",
      "https://api.openweathermap.org/data/2.5/weather?appid=0845fadc8ba8cc650f9af2c9b78478de&q=bengkalis&units=metric\n",
      "545 Getting data for broome\n",
      "https://api.openweathermap.org/data/2.5/weather?appid=0845fadc8ba8cc650f9af2c9b78478de&q=broome&units=metric\n",
      "546 Getting data for harrismith\n",
      "https://api.openweathermap.org/data/2.5/weather?appid=0845fadc8ba8cc650f9af2c9b78478de&q=harrismith&units=metric\n",
      "547 Getting data for boldumsaz\n",
      "https://api.openweathermap.org/data/2.5/weather?appid=0845fadc8ba8cc650f9af2c9b78478de&q=boldumsaz&units=metric\n",
      "548 Getting data for awjilah\n",
      "https://api.openweathermap.org/data/2.5/weather?appid=0845fadc8ba8cc650f9af2c9b78478de&q=awjilah&units=metric\n",
      "549 Getting data for itarema\n",
      "https://api.openweathermap.org/data/2.5/weather?appid=0845fadc8ba8cc650f9af2c9b78478de&q=itarema&units=metric\n",
      "550 Getting data for foumban\n",
      "https://api.openweathermap.org/data/2.5/weather?appid=0845fadc8ba8cc650f9af2c9b78478de&q=foumban&units=metric\n",
      "551 Getting data for shoranur\n",
      "https://api.openweathermap.org/data/2.5/weather?appid=0845fadc8ba8cc650f9af2c9b78478de&q=shoranur&units=metric\n",
      "552 Getting data for southbridge\n",
      "https://api.openweathermap.org/data/2.5/weather?appid=0845fadc8ba8cc650f9af2c9b78478de&q=southbridge&units=metric\n",
      "553 Getting data for toliary\n",
      "https://api.openweathermap.org/data/2.5/weather?appid=0845fadc8ba8cc650f9af2c9b78478de&q=toliary&units=metric\n",
      "554 Getting data for yerbogachen\n",
      "https://api.openweathermap.org/data/2.5/weather?appid=0845fadc8ba8cc650f9af2c9b78478de&q=yerbogachen&units=metric\n",
      "555 Getting data for bereznik\n",
      "https://api.openweathermap.org/data/2.5/weather?appid=0845fadc8ba8cc650f9af2c9b78478de&q=bereznik&units=metric\n",
      "556 Getting data for aktas\n",
      "https://api.openweathermap.org/data/2.5/weather?appid=0845fadc8ba8cc650f9af2c9b78478de&q=aktas&units=metric\n",
      "557 Getting data for shalya\n",
      "https://api.openweathermap.org/data/2.5/weather?appid=0845fadc8ba8cc650f9af2c9b78478de&q=shalya&units=metric\n",
      "558 Getting data for port macquarie\n",
      "https://api.openweathermap.org/data/2.5/weather?appid=0845fadc8ba8cc650f9af2c9b78478de&q=port macquarie&units=metric\n",
      "559 Getting data for severnyy\n",
      "https://api.openweathermap.org/data/2.5/weather?appid=0845fadc8ba8cc650f9af2c9b78478de&q=severnyy&units=metric\n",
      "560 Getting data for te horo\n",
      "https://api.openweathermap.org/data/2.5/weather?appid=0845fadc8ba8cc650f9af2c9b78478de&q=te horo&units=metric\n",
      "561 Getting data for champerico\n",
      "https://api.openweathermap.org/data/2.5/weather?appid=0845fadc8ba8cc650f9af2c9b78478de&q=champerico&units=metric\n",
      "562 Getting data for killam\n",
      "https://api.openweathermap.org/data/2.5/weather?appid=0845fadc8ba8cc650f9af2c9b78478de&q=killam&units=metric\n",
      "563 Getting data for coihaique\n",
      "https://api.openweathermap.org/data/2.5/weather?appid=0845fadc8ba8cc650f9af2c9b78478de&q=coihaique&units=metric\n",
      "564 Getting data for bur gabo\n",
      "https://api.openweathermap.org/data/2.5/weather?appid=0845fadc8ba8cc650f9af2c9b78478de&q=bur gabo&units=metric\n",
      "565 Getting data for bundaberg\n",
      "https://api.openweathermap.org/data/2.5/weather?appid=0845fadc8ba8cc650f9af2c9b78478de&q=bundaberg&units=metric\n",
      "566 Getting data for beloha\n",
      "https://api.openweathermap.org/data/2.5/weather?appid=0845fadc8ba8cc650f9af2c9b78478de&q=beloha&units=metric\n",
      "567 Getting data for gavle\n",
      "https://api.openweathermap.org/data/2.5/weather?appid=0845fadc8ba8cc650f9af2c9b78478de&q=gavle&units=metric\n",
      "568 Getting data for gizo\n",
      "https://api.openweathermap.org/data/2.5/weather?appid=0845fadc8ba8cc650f9af2c9b78478de&q=gizo&units=metric\n",
      "569 Getting data for tisul\n",
      "https://api.openweathermap.org/data/2.5/weather?appid=0845fadc8ba8cc650f9af2c9b78478de&q=tisul&units=metric\n",
      "570 Getting data for avera\n",
      "https://api.openweathermap.org/data/2.5/weather?appid=0845fadc8ba8cc650f9af2c9b78478de&q=avera&units=metric\n",
      "571 Getting data for guanare\n",
      "https://api.openweathermap.org/data/2.5/weather?appid=0845fadc8ba8cc650f9af2c9b78478de&q=guanare&units=metric\n",
      "572 Getting data for vanino\n",
      "https://api.openweathermap.org/data/2.5/weather?appid=0845fadc8ba8cc650f9af2c9b78478de&q=vanino&units=metric\n",
      "573 Getting data for shelburne\n",
      "https://api.openweathermap.org/data/2.5/weather?appid=0845fadc8ba8cc650f9af2c9b78478de&q=shelburne&units=metric\n",
      "574 Getting data for jumla\n",
      "https://api.openweathermap.org/data/2.5/weather?appid=0845fadc8ba8cc650f9af2c9b78478de&q=jumla&units=metric\n",
      "575 Getting data for santa marta\n",
      "https://api.openweathermap.org/data/2.5/weather?appid=0845fadc8ba8cc650f9af2c9b78478de&q=santa marta&units=metric\n",
      "576 Getting data for okha\n",
      "https://api.openweathermap.org/data/2.5/weather?appid=0845fadc8ba8cc650f9af2c9b78478de&q=okha&units=metric\n",
      "577 Getting data for marivan\n",
      "https://api.openweathermap.org/data/2.5/weather?appid=0845fadc8ba8cc650f9af2c9b78478de&q=marivan&units=metric\n",
      "578 Getting data for svetlyy\n",
      "https://api.openweathermap.org/data/2.5/weather?appid=0845fadc8ba8cc650f9af2c9b78478de&q=svetlyy&units=metric\n",
      "579 Getting data for bom jesus\n",
      "https://api.openweathermap.org/data/2.5/weather?appid=0845fadc8ba8cc650f9af2c9b78478de&q=bom jesus&units=metric\n",
      "580 Getting data for lazaro cardenas\n",
      "https://api.openweathermap.org/data/2.5/weather?appid=0845fadc8ba8cc650f9af2c9b78478de&q=lazaro cardenas&units=metric\n",
      "581 Getting data for hasaki\n",
      "https://api.openweathermap.org/data/2.5/weather?appid=0845fadc8ba8cc650f9af2c9b78478de&q=hasaki&units=metric\n",
      "582 Getting data for vardo\n",
      "https://api.openweathermap.org/data/2.5/weather?appid=0845fadc8ba8cc650f9af2c9b78478de&q=vardo&units=metric\n",
      "583 Getting data for madang\n",
      "https://api.openweathermap.org/data/2.5/weather?appid=0845fadc8ba8cc650f9af2c9b78478de&q=madang&units=metric\n",
      "584 Getting data for chapais\n",
      "https://api.openweathermap.org/data/2.5/weather?appid=0845fadc8ba8cc650f9af2c9b78478de&q=chapais&units=metric\n"
     ]
    },
    {
     "name": "stdout",
     "output_type": "stream",
     "text": [
      "585 Getting data for anton lizardo\n",
      "https://api.openweathermap.org/data/2.5/weather?appid=0845fadc8ba8cc650f9af2c9b78478de&q=anton lizardo&units=metric\n",
      "586 Getting data for upata\n",
      "https://api.openweathermap.org/data/2.5/weather?appid=0845fadc8ba8cc650f9af2c9b78478de&q=upata&units=metric\n",
      "587 Getting data for ngunguru\n",
      "https://api.openweathermap.org/data/2.5/weather?appid=0845fadc8ba8cc650f9af2c9b78478de&q=ngunguru&units=metric\n",
      "588 Getting data for north bend\n",
      "https://api.openweathermap.org/data/2.5/weather?appid=0845fadc8ba8cc650f9af2c9b78478de&q=north bend&units=metric\n",
      "589 Getting data for waingapu\n",
      "https://api.openweathermap.org/data/2.5/weather?appid=0845fadc8ba8cc650f9af2c9b78478de&q=waingapu&units=metric\n",
      "590 Getting data for brae\n",
      "https://api.openweathermap.org/data/2.5/weather?appid=0845fadc8ba8cc650f9af2c9b78478de&q=brae&units=metric\n",
      "591 Getting data for paltin\n",
      "https://api.openweathermap.org/data/2.5/weather?appid=0845fadc8ba8cc650f9af2c9b78478de&q=paltin&units=metric\n",
      "592 Getting data for rudnichnyy\n",
      "https://api.openweathermap.org/data/2.5/weather?appid=0845fadc8ba8cc650f9af2c9b78478de&q=rudnichnyy&units=metric\n",
      "593 Getting data for chipata\n",
      "https://api.openweathermap.org/data/2.5/weather?appid=0845fadc8ba8cc650f9af2c9b78478de&q=chipata&units=metric\n",
      "594 Getting data for rizhao\n",
      "https://api.openweathermap.org/data/2.5/weather?appid=0845fadc8ba8cc650f9af2c9b78478de&q=rizhao&units=metric\n",
      "595 Getting data for rusne\n",
      "https://api.openweathermap.org/data/2.5/weather?appid=0845fadc8ba8cc650f9af2c9b78478de&q=rusne&units=metric\n",
      "596 Getting data for gat\n",
      "https://api.openweathermap.org/data/2.5/weather?appid=0845fadc8ba8cc650f9af2c9b78478de&q=gat&units=metric\n",
      "597 Getting data for maltahohe\n",
      "https://api.openweathermap.org/data/2.5/weather?appid=0845fadc8ba8cc650f9af2c9b78478de&q=maltahohe&units=metric\n",
      "598 Getting data for ivanteyevka\n",
      "https://api.openweathermap.org/data/2.5/weather?appid=0845fadc8ba8cc650f9af2c9b78478de&q=ivanteyevka&units=metric\n",
      "599 Getting data for hampton\n",
      "https://api.openweathermap.org/data/2.5/weather?appid=0845fadc8ba8cc650f9af2c9b78478de&q=hampton&units=metric\n",
      "600 Getting data for kainantu\n",
      "https://api.openweathermap.org/data/2.5/weather?appid=0845fadc8ba8cc650f9af2c9b78478de&q=kainantu&units=metric\n",
      "601 Getting data for pousat\n",
      "https://api.openweathermap.org/data/2.5/weather?appid=0845fadc8ba8cc650f9af2c9b78478de&q=pousat&units=metric\n",
      "602 Getting data for dan khun thot\n",
      "https://api.openweathermap.org/data/2.5/weather?appid=0845fadc8ba8cc650f9af2c9b78478de&q=dan khun thot&units=metric\n",
      "603 Getting data for amapa\n",
      "https://api.openweathermap.org/data/2.5/weather?appid=0845fadc8ba8cc650f9af2c9b78478de&q=amapa&units=metric\n",
      "604 Getting data for ganzhou\n",
      "https://api.openweathermap.org/data/2.5/weather?appid=0845fadc8ba8cc650f9af2c9b78478de&q=ganzhou&units=metric\n",
      "605 Getting data for flinders\n",
      "https://api.openweathermap.org/data/2.5/weather?appid=0845fadc8ba8cc650f9af2c9b78478de&q=flinders&units=metric\n",
      "606 Getting data for grand forks\n",
      "https://api.openweathermap.org/data/2.5/weather?appid=0845fadc8ba8cc650f9af2c9b78478de&q=grand forks&units=metric\n",
      "607 Getting data for kimbe\n",
      "https://api.openweathermap.org/data/2.5/weather?appid=0845fadc8ba8cc650f9af2c9b78478de&q=kimbe&units=metric\n",
      "608 Getting data for aghiresu\n",
      "https://api.openweathermap.org/data/2.5/weather?appid=0845fadc8ba8cc650f9af2c9b78478de&q=aghiresu&units=metric\n",
      "609 Getting data for nanga eboko\n",
      "https://api.openweathermap.org/data/2.5/weather?appid=0845fadc8ba8cc650f9af2c9b78478de&q=nanga eboko&units=metric\n",
      "610 Getting data for munchberg\n",
      "https://api.openweathermap.org/data/2.5/weather?appid=0845fadc8ba8cc650f9af2c9b78478de&q=munchberg&units=metric\n",
      "611 Getting data for taldan\n",
      "https://api.openweathermap.org/data/2.5/weather?appid=0845fadc8ba8cc650f9af2c9b78478de&q=taldan&units=metric\n",
      "612 Getting data for salalah\n",
      "https://api.openweathermap.org/data/2.5/weather?appid=0845fadc8ba8cc650f9af2c9b78478de&q=salalah&units=metric\n",
      "613 Getting data for hihifo\n",
      "https://api.openweathermap.org/data/2.5/weather?appid=0845fadc8ba8cc650f9af2c9b78478de&q=hihifo&units=metric\n",
      "614 Getting data for nishihara\n",
      "https://api.openweathermap.org/data/2.5/weather?appid=0845fadc8ba8cc650f9af2c9b78478de&q=nishihara&units=metric\n",
      "615 Getting data for tanete\n",
      "https://api.openweathermap.org/data/2.5/weather?appid=0845fadc8ba8cc650f9af2c9b78478de&q=tanete&units=metric\n",
      "616 Getting data for huarmey\n",
      "https://api.openweathermap.org/data/2.5/weather?appid=0845fadc8ba8cc650f9af2c9b78478de&q=huarmey&units=metric\n",
      "617 Getting data for kodinsk\n",
      "https://api.openweathermap.org/data/2.5/weather?appid=0845fadc8ba8cc650f9af2c9b78478de&q=kodinsk&units=metric\n",
      "618 Getting data for edd\n",
      "https://api.openweathermap.org/data/2.5/weather?appid=0845fadc8ba8cc650f9af2c9b78478de&q=edd&units=metric\n",
      "619 Getting data for dali\n",
      "https://api.openweathermap.org/data/2.5/weather?appid=0845fadc8ba8cc650f9af2c9b78478de&q=dali&units=metric\n",
      "620 Getting data for mendahara\n",
      "https://api.openweathermap.org/data/2.5/weather?appid=0845fadc8ba8cc650f9af2c9b78478de&q=mendahara&units=metric\n",
      "621 Getting data for la ronge\n",
      "https://api.openweathermap.org/data/2.5/weather?appid=0845fadc8ba8cc650f9af2c9b78478de&q=la ronge&units=metric\n",
      "622 Getting data for nhulunbuy\n",
      "https://api.openweathermap.org/data/2.5/weather?appid=0845fadc8ba8cc650f9af2c9b78478de&q=nhulunbuy&units=metric\n",
      "API calls finished, 623 successful calls made\n"
     ]
    }
   ],
   "source": [
    "###Step3:Perform a weather check on each of the cities using a series of \n",
    "#successive API calls.\n",
    "\n",
    "base_url = \"https://api.openweathermap.org/data/2.5/weather?appid=\"\n",
    "city_data = []\n",
    "call_count = 1\n",
    "for city in cities:\n",
    "    target_url = base_url + weather_api_key + \"&q=\" + city + \"&units=metric\"\n",
    "    # Log the url, record, and city\n",
    "    if call_count == 1: \n",
    "        print(\"Making API call\")\n",
    "    print(f\"{call_count} Getting data for {city}\")\n",
    "    print(target_url)\n",
    "    response = requests.get(target_url)\n",
    "    try:\n",
    "        results = response.json()\n",
    "        city_data.append(results)\n",
    "        call_count = call_count + 1\n",
    "    except KeyError:\n",
    "        next        \n",
    "print(f\"API calls finished, {call_count} successful calls made\")"
   ]
  },
  {
   "cell_type": "code",
   "execution_count": 6,
   "metadata": {},
   "outputs": [
    {
     "data": {
      "text/plain": [
       "{'coord': {'lon': -24.5, 'lat': 14.9},\n",
       " 'weather': [{'id': 800,\n",
       "   'main': 'Clear',\n",
       "   'description': 'clear sky',\n",
       "   'icon': '01d'}],\n",
       " 'base': 'stations',\n",
       " 'main': {'temp': 27.74,\n",
       "  'feels_like': 29.48,\n",
       "  'temp_min': 27.74,\n",
       "  'temp_max': 27.74,\n",
       "  'pressure': 1015,\n",
       "  'humidity': 70,\n",
       "  'sea_level': 1015,\n",
       "  'grnd_level': 1009},\n",
       " 'visibility': 10000,\n",
       " 'wind': {'speed': 4.04, 'deg': 71},\n",
       " 'clouds': {'all': 2},\n",
       " 'dt': 1603459459,\n",
       " 'sys': {'country': 'CV', 'sunrise': 1603438267, 'sunset': 1603480388},\n",
       " 'timezone': -3600,\n",
       " 'id': 3374210,\n",
       " 'name': 'São Filipe',\n",
       " 'cod': 200}"
      ]
     },
     "execution_count": 6,
     "metadata": {},
     "output_type": "execute_result"
    }
   ],
   "source": [
    "city_data[0]"
   ]
  },
  {
   "cell_type": "code",
   "execution_count": 7,
   "metadata": {},
   "outputs": [],
   "source": [
    "#data = json.load(read_file)"
   ]
  },
  {
   "cell_type": "markdown",
   "metadata": {},
   "source": [
    "### Convert Raw Data to DataFrame\n",
    "* Export the city data into a .csv.\n",
    "* Display the DataFrame"
   ]
  },
  {
   "cell_type": "code",
   "execution_count": 8,
   "metadata": {},
   "outputs": [],
   "source": [
    "lat = []\n",
    "lon = []\n",
    "temp = []\n",
    "hum = []\n",
    "winds = []\n",
    "cloud = []\n",
    "city = []\n",
    "country = []\n",
    "\n",
    "for item in city_data:\n",
    "    try:\n",
    "        lat.append(item[\"coord\"][\"lat\"])\n",
    "        lon.append(item[\"coord\"][\"lon\"])\n",
    "        temp.append(item[\"main\"][\"temp\"])\n",
    "        hum.append(item[\"main\"][\"humidity\"])\n",
    "        winds.append(item[\"wind\"][\"speed\"])\n",
    "        cloud.append(item[\"clouds\"][\"all\"])\n",
    "        city.append(item[\"name\"])\n",
    "        country.append(item[\"sys\"][\"country\"])\n",
    "    except:\n",
    "        next "
   ]
  },
  {
   "cell_type": "code",
   "execution_count": 9,
   "metadata": {},
   "outputs": [],
   "source": [
    "city_df = pd.DataFrame({\"City\": city,\n",
    "                        \"Country\":country,                                  \n",
    "                        \"Longitude (Degrees)\":lon,\n",
    "                        \"Latitude (Degrees)\":lat,\n",
    "                        \"Maximum Temperature (C)\":temp,\n",
    "                        \"Humidity (%)\":hum,\n",
    "                        \"Wind Speed (km/h)\":winds,\n",
    "                        \"Cloudiness (%)\":cloud}) "
   ]
  },
  {
   "cell_type": "code",
   "execution_count": 10,
   "metadata": {},
   "outputs": [
    {
     "data": {
      "text/html": [
       "<div>\n",
       "<style scoped>\n",
       "    .dataframe tbody tr th:only-of-type {\n",
       "        vertical-align: middle;\n",
       "    }\n",
       "\n",
       "    .dataframe tbody tr th {\n",
       "        vertical-align: top;\n",
       "    }\n",
       "\n",
       "    .dataframe thead th {\n",
       "        text-align: right;\n",
       "    }\n",
       "</style>\n",
       "<table border=\"1\" class=\"dataframe\">\n",
       "  <thead>\n",
       "    <tr style=\"text-align: right;\">\n",
       "      <th></th>\n",
       "      <th>City</th>\n",
       "      <th>Country</th>\n",
       "      <th>Longitude (Degrees)</th>\n",
       "      <th>Latitude (Degrees)</th>\n",
       "      <th>Maximum Temperature (C)</th>\n",
       "      <th>Humidity (%)</th>\n",
       "      <th>Wind Speed (km/h)</th>\n",
       "      <th>Cloudiness (%)</th>\n",
       "    </tr>\n",
       "  </thead>\n",
       "  <tbody>\n",
       "    <tr>\n",
       "      <th>0</th>\n",
       "      <td>São Filipe</td>\n",
       "      <td>CV</td>\n",
       "      <td>-24.50</td>\n",
       "      <td>14.90</td>\n",
       "      <td>27.74</td>\n",
       "      <td>70</td>\n",
       "      <td>4.04</td>\n",
       "      <td>2</td>\n",
       "    </tr>\n",
       "    <tr>\n",
       "      <th>1</th>\n",
       "      <td>Rikitea</td>\n",
       "      <td>PF</td>\n",
       "      <td>-134.97</td>\n",
       "      <td>-23.12</td>\n",
       "      <td>23.34</td>\n",
       "      <td>79</td>\n",
       "      <td>1.48</td>\n",
       "      <td>41</td>\n",
       "    </tr>\n",
       "    <tr>\n",
       "      <th>2</th>\n",
       "      <td>Berlevåg</td>\n",
       "      <td>NO</td>\n",
       "      <td>29.09</td>\n",
       "      <td>70.86</td>\n",
       "      <td>2.28</td>\n",
       "      <td>86</td>\n",
       "      <td>17.50</td>\n",
       "      <td>75</td>\n",
       "    </tr>\n",
       "    <tr>\n",
       "      <th>3</th>\n",
       "      <td>New Norfolk</td>\n",
       "      <td>AU</td>\n",
       "      <td>147.06</td>\n",
       "      <td>-42.78</td>\n",
       "      <td>11.39</td>\n",
       "      <td>79</td>\n",
       "      <td>0.46</td>\n",
       "      <td>100</td>\n",
       "    </tr>\n",
       "    <tr>\n",
       "      <th>4</th>\n",
       "      <td>Whittlesea</td>\n",
       "      <td>ZA</td>\n",
       "      <td>26.82</td>\n",
       "      <td>-32.18</td>\n",
       "      <td>28.40</td>\n",
       "      <td>26</td>\n",
       "      <td>15.24</td>\n",
       "      <td>99</td>\n",
       "    </tr>\n",
       "  </tbody>\n",
       "</table>\n",
       "</div>"
      ],
      "text/plain": [
       "          City Country  Longitude (Degrees)  Latitude (Degrees)  \\\n",
       "0   São Filipe      CV               -24.50               14.90   \n",
       "1      Rikitea      PF              -134.97              -23.12   \n",
       "2     Berlevåg      NO                29.09               70.86   \n",
       "3  New Norfolk      AU               147.06              -42.78   \n",
       "4   Whittlesea      ZA                26.82              -32.18   \n",
       "\n",
       "   Maximum Temperature (C)  Humidity (%)  Wind Speed (km/h)  Cloudiness (%)  \n",
       "0                    27.74            70               4.04               2  \n",
       "1                    23.34            79               1.48              41  \n",
       "2                     2.28            86              17.50              75  \n",
       "3                    11.39            79               0.46             100  \n",
       "4                    28.40            26              15.24              99  "
      ]
     },
     "execution_count": 10,
     "metadata": {},
     "output_type": "execute_result"
    }
   ],
   "source": [
    "city_df.head()"
   ]
  },
  {
   "cell_type": "code",
   "execution_count": 11,
   "metadata": {},
   "outputs": [],
   "source": [
    "city_df.to_csv('city_data.csv') "
   ]
  },
  {
   "cell_type": "code",
   "execution_count": 12,
   "metadata": {},
   "outputs": [],
   "source": [
    "city_path='city_data.csv'"
   ]
  },
  {
   "cell_type": "markdown",
   "metadata": {},
   "source": [
    "## Inspect the data and remove the cities where the humidity > 100%.\n",
    "----\n",
    "Skip this step if there are no cities that have humidity > 100%. "
   ]
  },
  {
   "cell_type": "code",
   "execution_count": 13,
   "metadata": {},
   "outputs": [],
   "source": [
    "weather_data=pd.read_csv(city_path)"
   ]
  },
  {
   "cell_type": "code",
   "execution_count": 14,
   "metadata": {},
   "outputs": [],
   "source": [
    "weather_data.drop(weather_data[weather_data[\"Humidity (%)\"]>100].index, inplace=True)"
   ]
  },
  {
   "cell_type": "markdown",
   "metadata": {},
   "source": [
    "## Plotting the Data\n",
    "* Use proper labeling of the plots using plot titles (including date of analysis) and axes labels.\n",
    "* Save the plotted figures as .pngs."
   ]
  },
  {
   "cell_type": "markdown",
   "metadata": {},
   "source": [
    "## Latitude vs. Temperature Plot"
   ]
  },
  {
   "cell_type": "code",
   "execution_count": 15,
   "metadata": {
    "scrolled": true
   },
   "outputs": [
    {
     "data": {
      "image/png": "[encoded data removed]",
      "text/plain": [
       "<Figure size 432x288 with 1 Axes>"
      ]
     },
     "metadata": {
      "needs_background": "light"
     },
     "output_type": "display_data"
    }
   ],
   "source": [
    "#Temperature (F) vs. Latitude\n",
    "x=weather_data[\"Latitude (Degrees)\"]\n",
    "y= weather_data[\"Maximum Temperature (C)\"]\n",
    "plt.xlim(-80,100)\n",
    "plt.scatter(weather_data[\"Latitude (Degrees)\"], weather_data[\"Maximum Temperature (C)\"] )\n",
    "plt.title(\"Temperature (C) vs. Latitude\")\n",
    "plt.xlabel(\"Latitude\")\n",
    "plt.ylabel(\"Temperature (C)\")\n",
    "plt.tight_layout()\n",
    "\n",
    "plt.grid()\n",
    "plt.savefig('latitude_vs_temp.png')"
   ]
  },
  {
   "cell_type": "code",
   "execution_count": 16,
   "metadata": {},
   "outputs": [],
   "source": [
    "#Seems to be a parabolic relationship between latitude and temperature, with temperatures highest around the equator"
   ]
  },
  {
   "cell_type": "markdown",
   "metadata": {},
   "source": [
    "## Latitude vs. Humidity Plot"
   ]
  },
  {
   "cell_type": "code",
   "execution_count": 17,
   "metadata": {},
   "outputs": [
    {
     "data": {
      "image/png": "[encoded data removed]",
      "text/plain": [
       "<Figure size 432x288 with 1 Axes>"
      ]
     },
     "metadata": {
      "needs_background": "light"
     },
     "output_type": "display_data"
    }
   ],
   "source": [
    "#Humidity vs latitude\n",
    "x=weather_data[\"Latitude (Degrees)\"]\n",
    "y= weather_data[\"Humidity (%)\"]\n",
    "plt.xlim(-80,100)\n",
    "plt.scatter(weather_data[\"Latitude (Degrees)\"], weather_data[\"Humidity (%)\"] )\n",
    "plt.title(\"Humidity vs Latitude\")\n",
    "plt.xlabel(\"Latitude\")\n",
    "plt.ylabel(\"Humididty\")\n",
    "plt.tight_layout()\n",
    "\n",
    "plt.grid()\n",
    "plt.savefig('latitude_vs_humidity.png')"
   ]
  },
  {
   "cell_type": "code",
   "execution_count": 18,
   "metadata": {},
   "outputs": [],
   "source": [
    "#There does not seem to be a particularly strong relationship between latitude and humidity, based on this graph"
   ]
  },
  {
   "cell_type": "markdown",
   "metadata": {},
   "source": [
    "## Latitude vs. Cloudiness Plot"
   ]
  },
  {
   "cell_type": "code",
   "execution_count": 19,
   "metadata": {},
   "outputs": [
    {
     "data": {
      "image/png": "[encoded data removed]",
      "text/plain": [
       "<Figure size 432x288 with 1 Axes>"
      ]
     },
     "metadata": {
      "needs_background": "light"
     },
     "output_type": "display_data"
    }
   ],
   "source": [
    "#Cloudiness vs latitude\n",
    "x=weather_data[\"Latitude (Degrees)\"]\n",
    "y= weather_data[\"Cloudiness (%)\"]\n",
    "plt.xlim(-80,100)\n",
    "plt.scatter(weather_data[\"Latitude (Degrees)\"], weather_data[\"Cloudiness (%)\"] )\n",
    "plt.title(\"Cloudiness vs latitude\")\n",
    "plt.xlabel(\"Latitude\")\n",
    "plt.ylabel(\"Cloudiness\")\n",
    "plt.tight_layout()\n",
    "\n",
    "plt.grid()\n",
    "plt.savefig('latitude_vs_cloudiness.png')"
   ]
  },
  {
   "cell_type": "code",
   "execution_count": 20,
   "metadata": {},
   "outputs": [],
   "source": [
    "#There does not seem to be any particular relationship between latitude and cloudiness"
   ]
  },
  {
   "cell_type": "markdown",
   "metadata": {},
   "source": [
    "## Latitude vs. Wind Speed Plot"
   ]
  },
  {
   "cell_type": "code",
   "execution_count": 21,
   "metadata": {},
   "outputs": [
    {
     "data": {
      "image/png": "[encoded data removed]",
      "text/plain": [
       "<Figure size 432x288 with 1 Axes>"
      ]
     },
     "metadata": {
      "needs_background": "light"
     },
     "output_type": "display_data"
    }
   ],
   "source": [
    "#Wind speed vs latitude\n",
    "x=weather_data[\"Latitude (Degrees)\"]\n",
    "y= weather_data[\"Wind Speed (km/h)\"]\n",
    "plt.xlim(-80,100)\n",
    "plt.scatter(weather_data[\"Latitude (Degrees)\"], weather_data[\"Wind Speed (km/h)\"] )\n",
    "plt.title(\"Windspeed vs latitude\")\n",
    "plt.xlabel(\"Latitude\")\n",
    "plt.ylabel(\"Windspeed\")\n",
    "plt.tight_layout()\n",
    "\n",
    "plt.grid()\n",
    "plt.savefig('latitude_vs_wind.png')"
   ]
  },
  {
   "cell_type": "code",
   "execution_count": 22,
   "metadata": {},
   "outputs": [],
   "source": [
    "#There does not seem to be any particularly strong relationship between windspeed and latitude, \n",
    "#except perhaps a slight increase in max wind speeds at either extreme end of latitudes (-40 degrees south, 70-80 degrees north)"
   ]
  },
  {
   "cell_type": "markdown",
   "metadata": {},
   "source": [
    "## Linear Regression"
   ]
  },
  {
   "cell_type": "code",
   "execution_count": 27,
   "metadata": {},
   "outputs": [],
   "source": [
    "# Create Northern and Southern Hemisphere DataFrames"
   ]
  },
  {
   "cell_type": "code",
   "execution_count": 28,
   "metadata": {},
   "outputs": [
    {
     "data": {
      "text/html": [
       "<div>\n",
       "<style scoped>\n",
       "    .dataframe tbody tr th:only-of-type {\n",
       "        vertical-align: middle;\n",
       "    }\n",
       "\n",
       "    .dataframe tbody tr th {\n",
       "        vertical-align: top;\n",
       "    }\n",
       "\n",
       "    .dataframe thead th {\n",
       "        text-align: right;\n",
       "    }\n",
       "</style>\n",
       "<table border=\"1\" class=\"dataframe\">\n",
       "  <thead>\n",
       "    <tr style=\"text-align: right;\">\n",
       "      <th></th>\n",
       "      <th>Unnamed: 0</th>\n",
       "      <th>City</th>\n",
       "      <th>Country</th>\n",
       "      <th>Longitude (Degrees)</th>\n",
       "      <th>Latitude (Degrees)</th>\n",
       "      <th>Maximum Temperature (C)</th>\n",
       "      <th>Humidity (%)</th>\n",
       "      <th>Wind Speed (km/h)</th>\n",
       "      <th>Cloudiness (%)</th>\n",
       "    </tr>\n",
       "  </thead>\n",
       "  <tbody>\n",
       "    <tr>\n",
       "      <th>0</th>\n",
       "      <td>0</td>\n",
       "      <td>São Filipe</td>\n",
       "      <td>CV</td>\n",
       "      <td>-24.50</td>\n",
       "      <td>14.90</td>\n",
       "      <td>27.74</td>\n",
       "      <td>70</td>\n",
       "      <td>4.04</td>\n",
       "      <td>2</td>\n",
       "    </tr>\n",
       "    <tr>\n",
       "      <th>1</th>\n",
       "      <td>1</td>\n",
       "      <td>Rikitea</td>\n",
       "      <td>PF</td>\n",
       "      <td>-134.97</td>\n",
       "      <td>-23.12</td>\n",
       "      <td>23.34</td>\n",
       "      <td>79</td>\n",
       "      <td>1.48</td>\n",
       "      <td>41</td>\n",
       "    </tr>\n",
       "    <tr>\n",
       "      <th>2</th>\n",
       "      <td>2</td>\n",
       "      <td>Berlevåg</td>\n",
       "      <td>NO</td>\n",
       "      <td>29.09</td>\n",
       "      <td>70.86</td>\n",
       "      <td>2.28</td>\n",
       "      <td>86</td>\n",
       "      <td>17.50</td>\n",
       "      <td>75</td>\n",
       "    </tr>\n",
       "    <tr>\n",
       "      <th>3</th>\n",
       "      <td>3</td>\n",
       "      <td>New Norfolk</td>\n",
       "      <td>AU</td>\n",
       "      <td>147.06</td>\n",
       "      <td>-42.78</td>\n",
       "      <td>11.39</td>\n",
       "      <td>79</td>\n",
       "      <td>0.46</td>\n",
       "      <td>100</td>\n",
       "    </tr>\n",
       "    <tr>\n",
       "      <th>4</th>\n",
       "      <td>4</td>\n",
       "      <td>Whittlesea</td>\n",
       "      <td>ZA</td>\n",
       "      <td>26.82</td>\n",
       "      <td>-32.18</td>\n",
       "      <td>28.40</td>\n",
       "      <td>26</td>\n",
       "      <td>15.24</td>\n",
       "      <td>99</td>\n",
       "    </tr>\n",
       "  </tbody>\n",
       "</table>\n",
       "</div>"
      ],
      "text/plain": [
       "   Unnamed: 0         City Country  Longitude (Degrees)  Latitude (Degrees)  \\\n",
       "0           0   São Filipe      CV               -24.50               14.90   \n",
       "1           1      Rikitea      PF              -134.97              -23.12   \n",
       "2           2     Berlevåg      NO                29.09               70.86   \n",
       "3           3  New Norfolk      AU               147.06              -42.78   \n",
       "4           4   Whittlesea      ZA                26.82              -32.18   \n",
       "\n",
       "   Maximum Temperature (C)  Humidity (%)  Wind Speed (km/h)  Cloudiness (%)  \n",
       "0                    27.74            70               4.04               2  \n",
       "1                    23.34            79               1.48              41  \n",
       "2                     2.28            86              17.50              75  \n",
       "3                    11.39            79               0.46             100  \n",
       "4                    28.40            26              15.24              99  "
      ]
     },
     "execution_count": 28,
     "metadata": {},
     "output_type": "execute_result"
    }
   ],
   "source": [
    "weather_data.head()"
   ]
  },
  {
   "cell_type": "code",
   "execution_count": 29,
   "metadata": {},
   "outputs": [
    {
     "data": {
      "text/plain": [
       "pandas.core.frame.DataFrame"
      ]
     },
     "execution_count": 29,
     "metadata": {},
     "output_type": "execute_result"
    }
   ],
   "source": [
    "type(weather_data)"
   ]
  },
  {
   "cell_type": "code",
   "execution_count": 30,
   "metadata": {},
   "outputs": [],
   "source": [
    "northern_data= weather_data[weather_data[\"Latitude (Degrees)\"] >0]"
   ]
  },
  {
   "cell_type": "code",
   "execution_count": 31,
   "metadata": {},
   "outputs": [
    {
     "data": {
      "text/plain": [
       "pandas.core.frame.DataFrame"
      ]
     },
     "execution_count": 31,
     "metadata": {},
     "output_type": "execute_result"
    }
   ],
   "source": [
    "type(northern_data)"
   ]
  },
  {
   "cell_type": "code",
   "execution_count": 32,
   "metadata": {},
   "outputs": [
    {
     "data": {
      "text/plain": [
       "(387, 9)"
      ]
     },
     "execution_count": 32,
     "metadata": {},
     "output_type": "execute_result"
    }
   ],
   "source": [
    "northern_data.shape"
   ]
  },
  {
   "cell_type": "code",
   "execution_count": 33,
   "metadata": {},
   "outputs": [],
   "source": [
    "southern_data= weather_data[weather_data[\"Latitude (Degrees)\"] <=0]"
   ]
  },
  {
   "cell_type": "code",
   "execution_count": 34,
   "metadata": {},
   "outputs": [
    {
     "data": {
      "text/plain": [
       "(181, 9)"
      ]
     },
     "execution_count": 34,
     "metadata": {},
     "output_type": "execute_result"
    }
   ],
   "source": [
    "southern_data.shape"
   ]
  },
  {
   "cell_type": "code",
   "execution_count": 35,
   "metadata": {},
   "outputs": [],
   "source": [
    "nor_range=range(0,90)"
   ]
  },
  {
   "cell_type": "code",
   "execution_count": 36,
   "metadata": {},
   "outputs": [
    {
     "data": {
      "text/plain": [
       "range"
      ]
     },
     "execution_count": 36,
     "metadata": {},
     "output_type": "execute_result"
    }
   ],
   "source": [
    "type(nor_range)"
   ]
  },
  {
   "cell_type": "code",
   "execution_count": 37,
   "metadata": {},
   "outputs": [
    {
     "data": {
      "text/plain": [
       "90"
      ]
     },
     "execution_count": 37,
     "metadata": {},
     "output_type": "execute_result"
    }
   ],
   "source": [
    "len(nor_range)"
   ]
  },
  {
   "cell_type": "code",
   "execution_count": 38,
   "metadata": {},
   "outputs": [],
   "source": [
    "nor_dummy=pd.Series(nor_range)"
   ]
  },
  {
   "cell_type": "code",
   "execution_count": 39,
   "metadata": {},
   "outputs": [],
   "source": [
    "south_range=range(-90,0)"
   ]
  },
  {
   "cell_type": "code",
   "execution_count": 40,
   "metadata": {},
   "outputs": [],
   "source": [
    "south_dummy=pd.Series(south_range)"
   ]
  },
  {
   "cell_type": "markdown",
   "metadata": {},
   "source": [
    "####  Northern Hemisphere - Max Temp vs. Latitude Linear Regression"
   ]
  },
  {
   "cell_type": "code",
   "execution_count": 41,
   "metadata": {},
   "outputs": [
    {
     "name": "stdout",
     "output_type": "stream",
     "text": [
      "The R-Squared value is: -0.8618316787386961\n"
     ]
    }
   ],
   "source": [
    "north_lat=northern_data[\"Latitude (Degrees)\"]\n",
    "north_temp=northern_data[\"Maximum Temperature (C)\"]\n",
    "(slope, intercept, rvalue, pvalue, stderr)=linregress(north_lat, north_temp)\n",
    "print(f\"The R-Squared value is: {rvalue}\")"
   ]
  },
  {
   "cell_type": "code",
   "execution_count": 42,
   "metadata": {},
   "outputs": [],
   "source": [
    "nor_temp_pred=nor_dummy*slope+intercept\n",
    "line_eq=\"y=\"+str(round(slope, 2))+\"x+ \"+str(round(intercept,2))"
   ]
  },
  {
   "cell_type": "code",
   "execution_count": 43,
   "metadata": {},
   "outputs": [
    {
     "name": "stdout",
     "output_type": "stream",
     "text": [
      "The R-Squared value is: -0.8618316787386961\n"
     ]
    },
    {
     "data": {
      "image/png": "[encoded data removed]",
      "text/plain": [
       "<Figure size 432x288 with 1 Axes>"
      ]
     },
     "metadata": {
      "needs_background": "light"
     },
     "output_type": "display_data"
    },
    {
     "data": {
      "text/plain": [
       "<Figure size 432x288 with 0 Axes>"
      ]
     },
     "metadata": {},
     "output_type": "display_data"
    }
   ],
   "source": [
    "print(f\"The R-Squared value is: {rvalue}\")\n",
    "plt.scatter(north_lat, north_temp, label=\"Observed temperature\")\n",
    "plt.plot(nor_dummy,nor_temp_pred, color=\"r\", label=\"Predicted temperature\")\n",
    "plt.legend(loc=\"lower left\")\n",
    "plt.grid()\n",
    "plt.xlabel(\"Latitude\")\n",
    "plt.ylabel(\"Temperature (C)\")\n",
    "plt.annotate(line_eq, (20, -10), fontsize=15, color=\"red\")\n",
    "plt.show()\n",
    "plt.savefig('north_temp.png')"
   ]
  },
  {
   "cell_type": "code",
   "execution_count": null,
   "metadata": {},
   "outputs": [],
   "source": [
    "#plot shows scatter and fitted line, showing that as we go further north, temperatures decline. \n",
    "#R-squared is fairly high suggesting godd explanability"
   ]
  },
  {
   "cell_type": "markdown",
   "metadata": {},
   "source": [
    "####  Southern Hemisphere - Max Temp vs. Latitude Linear Regression"
   ]
  },
  {
   "cell_type": "code",
   "execution_count": 44,
   "metadata": {},
   "outputs": [],
   "source": [
    "south_lat=southern_data[\"Latitude (Degrees)\"]\n",
    "south_temp=southern_data[\"Maximum Temperature (C)\"]\n",
    "(slope, intercept, rvalue, pvalue, stderr)=linregress(south_lat, south_temp)"
   ]
  },
  {
   "cell_type": "code",
   "execution_count": 45,
   "metadata": {},
   "outputs": [],
   "source": [
    "south_temp_pred=south_dummy*slope+intercept\n",
    "line_eq=\"y=\"+str(round(slope, 2))+\"x+ \"+str(round(intercept,2))"
   ]
  },
  {
   "cell_type": "code",
   "execution_count": 46,
   "metadata": {},
   "outputs": [
    {
     "name": "stdout",
     "output_type": "stream",
     "text": [
      "The R-Squared value is: 0.6741844295835487\n"
     ]
    },
    {
     "data": {
      "image/png": "[encoded data removed]",
      "text/plain": [
       "<Figure size 432x288 with 1 Axes>"
      ]
     },
     "metadata": {
      "needs_background": "light"
     },
     "output_type": "display_data"
    },
    {
     "data": {
      "text/plain": [
       "<Figure size 432x288 with 0 Axes>"
      ]
     },
     "metadata": {},
     "output_type": "display_data"
    }
   ],
   "source": [
    "print(f\"The R-Squared value is: {rvalue}\")\n",
    "plt.scatter(south_lat, south_temp, label=\"Observed humidity\")\n",
    "plt.plot(south_dummy,south_temp_pred, color=\"r\", label=\"Predicted humidity\")\n",
    "plt.legend(loc=\"lower left\")\n",
    "plt.grid()\n",
    "plt.xlabel(\"Latitude\")\n",
    "plt.ylabel(\"Temperature (C)\")\n",
    "plt.annotate(line_eq, (-80, 15), fontsize=15, color=\"red\")\n",
    "plt.show()\n",
    "plt.savefig('south_temp.png')"
   ]
  },
  {
   "cell_type": "code",
   "execution_count": 47,
   "metadata": {},
   "outputs": [],
   "source": [
    "#plot shows scatter and fitted line, showing that as we go further from the equator, temperatures fall.\n",
    "#R-squared still reasonably high, so decent explanatory power"
   ]
  },
  {
   "cell_type": "markdown",
   "metadata": {},
   "source": [
    "####  Northern Hemisphere - Humidity (%) vs. Latitude Linear Regression"
   ]
  },
  {
   "cell_type": "code",
   "execution_count": 48,
   "metadata": {},
   "outputs": [
    {
     "name": "stdout",
     "output_type": "stream",
     "text": [
      "The R-Squared value is: 0.3508582035211806\n"
     ]
    }
   ],
   "source": [
    "north_lat=northern_data[\"Latitude (Degrees)\"]\n",
    "north_hum=northern_data[\"Humidity (%)\"]\n",
    "(slope, intercept, rvalue, pvalue, stderr)=linregress(north_lat, north_hum)\n",
    "print(f\"The R-Squared value is: {rvalue}\")"
   ]
  },
  {
   "cell_type": "code",
   "execution_count": 49,
   "metadata": {},
   "outputs": [],
   "source": [
    "nor_hum_pred=nor_dummy*slope+intercept\n",
    "line_eq=\"y=\"+str(round(slope, 2))+\"x+ \"+str(round(intercept,2))"
   ]
  },
  {
   "cell_type": "code",
   "execution_count": 50,
   "metadata": {},
   "outputs": [
    {
     "name": "stdout",
     "output_type": "stream",
     "text": [
      "The R-Squared value is: 0.3508582035211806\n"
     ]
    },
    {
     "data": {
      "image/png": "[encoded data removed]",
      "text/plain": [
       "<Figure size 432x288 with 1 Axes>"
      ]
     },
     "metadata": {
      "needs_background": "light"
     },
     "output_type": "display_data"
    },
    {
     "data": {
      "text/plain": [
       "<Figure size 432x288 with 0 Axes>"
      ]
     },
     "metadata": {},
     "output_type": "display_data"
    }
   ],
   "source": [
    "print(f\"The R-Squared value is: {rvalue}\")\n",
    "plt.scatter(north_lat, north_hum, label=\"Observed humidity\")\n",
    "plt.plot(nor_dummy,nor_hum_pred, color=\"r\", label=\"Predicted humidity\")\n",
    "plt.legend(loc=\"lower left\")\n",
    "plt.grid()\n",
    "plt.xlabel(\"Latitude\")\n",
    "plt.ylabel(\"Humidity (%)\")\n",
    "plt.annotate(line_eq, (20, -10), fontsize=15, color=\"red\")\n",
    "plt.show()\n",
    "plt.savefig('north_humidity.png')"
   ]
  },
  {
   "cell_type": "code",
   "execution_count": 51,
   "metadata": {},
   "outputs": [],
   "source": [
    "#Scatter plot showing a slightly positive correlation (low R-squared) between latitude and humididty, which is surprising. \n",
    "#Would have assumed tropics were more humid."
   ]
  },
  {
   "cell_type": "markdown",
   "metadata": {},
   "source": [
    "####  Southern Hemisphere - Humidity (%) vs. Latitude Linear Regression"
   ]
  },
  {
   "cell_type": "code",
   "execution_count": 52,
   "metadata": {},
   "outputs": [],
   "source": [
    "south_lat=southern_data[\"Latitude (Degrees)\"]\n",
    "south_hum=southern_data[\"Humidity (%)\"]\n",
    "(slope, intercept, rvalue, pvalue, stderr)=linregress(south_lat, south_hum)"
   ]
  },
  {
   "cell_type": "code",
   "execution_count": 53,
   "metadata": {},
   "outputs": [],
   "source": [
    "south_hum_pred=south_dummy*slope+intercept\n",
    "line_eq=\"y=\"+str(round(slope, 2))+\"x+ \"+str(round(intercept,2))"
   ]
  },
  {
   "cell_type": "code",
   "execution_count": 54,
   "metadata": {},
   "outputs": [
    {
     "name": "stdout",
     "output_type": "stream",
     "text": [
      "The R-Squared value is: -0.09633463061934228\n"
     ]
    },
    {
     "data": {
      "image/png": "[encoded data removed]",
      "text/plain": [
       "<Figure size 432x288 with 1 Axes>"
      ]
     },
     "metadata": {
      "needs_background": "light"
     },
     "output_type": "display_data"
    },
    {
     "data": {
      "text/plain": [
       "<Figure size 432x288 with 0 Axes>"
      ]
     },
     "metadata": {},
     "output_type": "display_data"
    }
   ],
   "source": [
    "print(f\"The R-Squared value is: {rvalue}\")\n",
    "plt.scatter(south_lat, south_hum, label=\"Observed humidity\")\n",
    "plt.plot(south_dummy,south_hum_pred, color=\"r\", label=\"Predicted humidity\")\n",
    "plt.legend(loc=\"lower left\")\n",
    "plt.grid()\n",
    "plt.xlabel(\"Latitude\")\n",
    "plt.ylabel(\"Humidity (%)\")\n",
    "plt.annotate(line_eq, (-80, 15), fontsize=15, color=\"red\")\n",
    "plt.show()\n",
    "plt.savefig('south_humidity.png')"
   ]
  },
  {
   "cell_type": "code",
   "execution_count": 56,
   "metadata": {},
   "outputs": [],
   "source": [
    "#Scatter plot showing a slightly negative correlation between latitude and humididty.\n",
    "#As in the case wit the northern hemisphere results, would have assumed tropics were more humid.\n",
    "#However, very low R-squared means won't take too much from this apparent correlation."
   ]
  },
  {
   "cell_type": "markdown",
   "metadata": {},
   "source": [
    "####  Northern Hemisphere - Cloudiness (%) vs. Latitude Linear Regression"
   ]
  },
  {
   "cell_type": "code",
   "execution_count": 57,
   "metadata": {},
   "outputs": [
    {
     "name": "stdout",
     "output_type": "stream",
     "text": [
      "The R-Squared value is: 0.17249210979124682\n",
      "The R-Squared value is: 0.17249210979124682\n"
     ]
    },
    {
     "data": {
      "image/png": "[encoded data removed]",
      "text/plain": [
       "<Figure size 432x288 with 1 Axes>"
      ]
     },
     "metadata": {
      "needs_background": "light"
     },
     "output_type": "display_data"
    },
    {
     "data": {
      "text/plain": [
       "<Figure size 432x288 with 0 Axes>"
      ]
     },
     "metadata": {},
     "output_type": "display_data"
    }
   ],
   "source": [
    "north_lat=northern_data[\"Latitude (Degrees)\"]\n",
    "north_cloud=northern_data[\"Cloudiness (%)\"]\n",
    "(slope, intercept, rvalue, pvalue, stderr)=linregress(north_lat, north_cloud)\n",
    "print(f\"The R-Squared value is: {rvalue}\")\n",
    "\n",
    "nor_cloud_pred=nor_dummy*slope+intercept\n",
    "line_eq=\"y=\"+str(round(slope, 2))+\"x+ \"+str(round(intercept,2))\n",
    "\n",
    "print(f\"The R-Squared value is: {rvalue}\")\n",
    "plt.scatter(north_lat, north_cloud, label=\"Observed cloudiness\")\n",
    "plt.plot(nor_dummy,nor_cloud_pred, color=\"r\", label=\"Predicted cloudiness\")\n",
    "plt.legend(loc=\"lower left\")\n",
    "plt.grid()\n",
    "plt.xlabel(\"Latitude\")\n",
    "plt.ylabel(\"Cloudiness (%)\")\n",
    "plt.annotate(line_eq, (20, -10), fontsize=15, color=\"red\")\n",
    "plt.show()\n",
    "plt.savefig('north_cloud.png')"
   ]
  },
  {
   "cell_type": "code",
   "execution_count": 58,
   "metadata": {},
   "outputs": [],
   "source": [
    "#A scatter plot showing relationship between cloudiness and latitude. Low R-squared suggests weak explanatory power."
   ]
  },
  {
   "cell_type": "markdown",
   "metadata": {},
   "source": [
    "####  Southern Hemisphere - Cloudiness (%) vs. Latitude Linear Regression"
   ]
  },
  {
   "cell_type": "code",
   "execution_count": 59,
   "metadata": {},
   "outputs": [
    {
     "name": "stdout",
     "output_type": "stream",
     "text": [
      "The R-Squared value is: -0.020282877096005864\n"
     ]
    },
    {
     "data": {
      "image/png": "[encoded data removed]",
      "text/plain": [
       "<Figure size 432x288 with 1 Axes>"
      ]
     },
     "metadata": {
      "needs_background": "light"
     },
     "output_type": "display_data"
    },
    {
     "data": {
      "text/plain": [
       "<Figure size 432x288 with 0 Axes>"
      ]
     },
     "metadata": {},
     "output_type": "display_data"
    }
   ],
   "source": [
    "south_lat=southern_data[\"Latitude (Degrees)\"]\n",
    "south_cloud=southern_data[\"Cloudiness (%)\"]\n",
    "(slope, intercept, rvalue, pvalue, stderr)=linregress(south_lat, south_cloud)\n",
    "print(f\"The R-Squared value is: {rvalue}\")\n",
    "\n",
    "south_cloud_pred=south_dummy*slope+intercept\n",
    "line_eq=\"y=\"+str(round(slope, 2))+\"x+ \"+str(round(intercept,2))\n",
    "\n",
    "plt.scatter(south_lat, south_cloud, label=\"Observed cloudiness\")\n",
    "plt.plot(south_dummy,south_cloud_pred, color=\"r\", label=\"Predicted cloudiness\")\n",
    "plt.legend(loc=\"lower left\")\n",
    "plt.grid()\n",
    "plt.xlabel(\"Latitude\")\n",
    "plt.ylabel(\"Cloudiness (%)\")\n",
    "plt.annotate(line_eq, (20, -10), fontsize=15, color=\"red\")\n",
    "plt.show()\n",
    "plt.savefig('south_cloud.png')"
   ]
  },
  {
   "cell_type": "code",
   "execution_count": 60,
   "metadata": {},
   "outputs": [],
   "source": [
    "#A scatter plot showing weak negative relationship between cloudiness and latitude for southern hemisphere cities.\n",
    "#Low R-squared suggests weak explanatory power."
   ]
  },
  {
   "cell_type": "markdown",
   "metadata": {},
   "source": [
    "####  Northern Hemisphere - Wind Speed (kph) vs. Latitude Linear Regression"
   ]
  },
  {
   "cell_type": "code",
   "execution_count": 61,
   "metadata": {},
   "outputs": [
    {
     "name": "stdout",
     "output_type": "stream",
     "text": [
      "The R-Squared value is: 0.205407272145859\n"
     ]
    },
    {
     "data": {
      "image/png": "[encoded data removed]",
      "text/plain": [
       "<Figure size 432x288 with 1 Axes>"
      ]
     },
     "metadata": {
      "needs_background": "light"
     },
     "output_type": "display_data"
    },
    {
     "data": {
      "text/plain": [
       "<Figure size 432x288 with 0 Axes>"
      ]
     },
     "metadata": {},
     "output_type": "display_data"
    }
   ],
   "source": [
    "north_lat=northern_data[\"Latitude (Degrees)\"]\n",
    "north_wind=northern_data[\"Wind Speed (km/h)\"]\n",
    "(slope, intercept, rvalue, pvalue, stderr)=linregress(north_lat, north_wind)\n",
    "print(f\"The R-Squared value is: {rvalue}\")\n",
    "\n",
    "nor_wind_pred=nor_dummy*slope+intercept\n",
    "line_eq=\"y=\"+str(round(slope, 2))+\"x+ \"+str(round(intercept,2))\n",
    "\n",
    "plt.scatter(north_lat, north_wind, label=\"Observed wind speed\")\n",
    "plt.plot(nor_dummy,nor_wind_pred, color=\"r\", label=\"Predicted wind speed\")\n",
    "plt.legend(loc=\"lower left\")\n",
    "plt.grid()\n",
    "plt.xlabel(\"Latitude\")\n",
    "plt.ylabel(\"Wind Speed (km/h)\")\n",
    "plt.annotate(line_eq, (20, -10), fontsize=15, color=\"red\")\n",
    "plt.show()\n",
    "plt.savefig('north_wind.png')"
   ]
  },
  {
   "cell_type": "code",
   "execution_count": 62,
   "metadata": {},
   "outputs": [],
   "source": [
    "##A scatter plot showing a slight positive relationship between windspeed and latitude,\n",
    "#i.e the further nort a city, the winder it is. \n",
    "#Low R-squared suggests weak explanatory power."
   ]
  },
  {
   "cell_type": "markdown",
   "metadata": {},
   "source": [
    "####  Southern Hemisphere - Wind Speed (kph) vs. Latitude Linear Regression"
   ]
  },
  {
   "cell_type": "code",
   "execution_count": 63,
   "metadata": {},
   "outputs": [
    {
     "name": "stdout",
     "output_type": "stream",
     "text": [
      "The R-Squared value is: -0.15087514643331898\n"
     ]
    },
    {
     "data": {
      "image/png": "[encoded data removed]",
      "text/plain": [
       "<Figure size 432x288 with 1 Axes>"
      ]
     },
     "metadata": {
      "needs_background": "light"
     },
     "output_type": "display_data"
    },
    {
     "data": {
      "text/plain": [
       "<Figure size 432x288 with 0 Axes>"
      ]
     },
     "metadata": {},
     "output_type": "display_data"
    }
   ],
   "source": [
    "south_lat=southern_data[\"Latitude (Degrees)\"]\n",
    "south_wind=southern_data[\"Wind Speed (km/h)\"]\n",
    "(slope, intercept, rvalue, pvalue, stderr)=linregress(south_lat, south_wind)\n",
    "print(f\"The R-Squared value is: {rvalue}\")\n",
    "\n",
    "south_wind_pred=south_dummy*slope+intercept\n",
    "line_eq=\"y=\"+str(round(slope, 2))+\"x+ \"+str(round(intercept,2))\n",
    "\n",
    "plt.scatter(south_lat, south_wind, label=\"Observed wind speed\")\n",
    "plt.plot(south_dummy,south_wind_pred, color=\"r\", label=\"Predicted wind speed\")\n",
    "plt.legend(loc=\"lower left\")\n",
    "plt.grid()\n",
    "plt.xlabel(\"Latitude\")\n",
    "plt.ylabel(\"Wind Speed (km/h)\")\n",
    "plt.annotate(line_eq, (20, -10), fontsize=15, color=\"red\")\n",
    "plt.show()\n",
    "plt.savefig('south_wind.png')"
   ]
  },
  {
   "cell_type": "code",
   "execution_count": 64,
   "metadata": {},
   "outputs": [],
   "source": [
    "##A scatter plot showing a slight negative relationship between windspeed and latitude,\n",
    "#i.e the further south a city, the winder it is. \n",
    "#Low R-squared suggests weak explanatory power."
   ]
  },
  {
   "cell_type": "code",
   "execution_count": null,
   "metadata": {},
   "outputs": [],
   "source": []
  }
 ],
 "metadata": {
  "anaconda-cloud": {},
  "kernel_info": {
   "name": "python3"
  },
  "kernelspec": {
   "display_name": "Python 3",
   "language": "python",
   "name": "python3"
  },
  "language_info": {
   "codemirror_mode": {
    "name": "ipython",
    "version": 3
   },
   "file_extension": ".py",
   "mimetype": "text/x-python",
   "name": "python",
   "nbconvert_exporter": "python",
   "pygments_lexer": "ipython3",
   "version": "3.6.10"
  },
  "latex_envs": {
   "LaTeX_envs_menu_present": true,
   "autoclose": false,
   "autocomplete": true,
   "bibliofile": "biblio.bib",
   "cite_by": "apalike",
   "current_citInitial": 1,
   "eqLabelWithNumbers": true,
   "eqNumInitial": 1,
   "hotkeys": {
    "equation": "Ctrl-E",
    "itemize": "Ctrl-I"
   },
   "labels_anchors": false,
   "latex_user_defs": false,
   "report_style_numbering": false,
   "user_envs_cfg": false
  },
  "nteract": {
   "version": "0.12.3"
  }
 },
 "nbformat": 4,
 "nbformat_minor": 2
}
