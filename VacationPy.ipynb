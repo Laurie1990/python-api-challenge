{
 "cells": [
  {
   "cell_type": "markdown",
   "metadata": {},
   "source": [
    "# VacationPy\n",
    "----\n",
    "\n",
    "#### Note\n",
    "* Instructions have been included for each segment. You do not have to follow them exactly, but they are included to help you think through the steps."
   ]
  },
  {
   "cell_type": "code",
   "execution_count": 33,
   "metadata": {},
   "outputs": [
    {
     "ename": "ModuleNotFoundError",
     "evalue": "No module named 'gmaps'",
     "output_type": "error",
     "traceback": [
      "\u001b[1;31m---------------------------------------------------------------------------\u001b[0m",
      "\u001b[1;31mModuleNotFoundError\u001b[0m                       Traceback (most recent call last)",
      "\u001b[1;32m<ipython-input-33-bbfa5f1f8af4>\u001b[0m in \u001b[0;36m<module>\u001b[1;34m\u001b[0m\n\u001b[0;32m      4\u001b[0m \u001b[1;32mimport\u001b[0m \u001b[0mnumpy\u001b[0m \u001b[1;32mas\u001b[0m \u001b[0mnp\u001b[0m\u001b[1;33m\u001b[0m\u001b[1;33m\u001b[0m\u001b[0m\n\u001b[0;32m      5\u001b[0m \u001b[1;32mimport\u001b[0m \u001b[0mrequests\u001b[0m\u001b[1;33m\u001b[0m\u001b[1;33m\u001b[0m\u001b[0m\n\u001b[1;32m----> 6\u001b[1;33m \u001b[1;32mimport\u001b[0m \u001b[0mgmaps\u001b[0m\u001b[1;33m\u001b[0m\u001b[1;33m\u001b[0m\u001b[0m\n\u001b[0m\u001b[0;32m      7\u001b[0m \u001b[1;32mimport\u001b[0m \u001b[0mos\u001b[0m\u001b[1;33m\u001b[0m\u001b[1;33m\u001b[0m\u001b[0m\n\u001b[0;32m      8\u001b[0m \u001b[1;32mimport\u001b[0m \u001b[0mgmaps\u001b[0m\u001b[1;33m.\u001b[0m\u001b[0mdatasets\u001b[0m\u001b[1;33m\u001b[0m\u001b[1;33m\u001b[0m\u001b[0m\n",
      "\u001b[1;31mModuleNotFoundError\u001b[0m: No module named 'gmaps'"
     ]
    }
   ],
   "source": [
    "# Dependencies and Setup\n",
    "import matplotlib.pyplot as plt\n",
    "import pandas as pd\n",
    "import numpy as np\n",
    "import requests\n",
    "import gmaps\n",
    "import os\n",
    "import gmaps.datasets\n",
    "\n",
    "# Import API key\n",
    "from api_keys import g_key"
   ]
  },
  {
   "cell_type": "markdown",
   "metadata": {},
   "source": [
    "### Store Part I results into DataFrame\n",
    "* Load the csv exported in Part I to a DataFrame"
   ]
  },
  {
   "cell_type": "code",
   "execution_count": 2,
   "metadata": {},
   "outputs": [],
   "source": [
    "weather_path='city_data.csv'"
   ]
  },
  {
   "cell_type": "code",
   "execution_count": 3,
   "metadata": {},
   "outputs": [
    {
     "data": {
      "text/html": [
       "<div>\n",
       "<style scoped>\n",
       "    .dataframe tbody tr th:only-of-type {\n",
       "        vertical-align: middle;\n",
       "    }\n",
       "\n",
       "    .dataframe tbody tr th {\n",
       "        vertical-align: top;\n",
       "    }\n",
       "\n",
       "    .dataframe thead th {\n",
       "        text-align: right;\n",
       "    }\n",
       "</style>\n",
       "<table border=\"1\" class=\"dataframe\">\n",
       "  <thead>\n",
       "    <tr style=\"text-align: right;\">\n",
       "      <th></th>\n",
       "      <th>Unnamed: 0</th>\n",
       "      <th>City</th>\n",
       "      <th>Country</th>\n",
       "      <th>Longitude (Degrees)</th>\n",
       "      <th>Latitude (Degrees)</th>\n",
       "      <th>Maximum Temperature (C)</th>\n",
       "      <th>Humidity (%)</th>\n",
       "      <th>Wind Speed (km/h)</th>\n",
       "      <th>Cloudiness (%)</th>\n",
       "    </tr>\n",
       "  </thead>\n",
       "  <tbody>\n",
       "    <tr>\n",
       "      <th>0</th>\n",
       "      <td>0</td>\n",
       "      <td>São Filipe</td>\n",
       "      <td>CV</td>\n",
       "      <td>-24.50</td>\n",
       "      <td>14.90</td>\n",
       "      <td>27.74</td>\n",
       "      <td>70</td>\n",
       "      <td>4.04</td>\n",
       "      <td>2</td>\n",
       "    </tr>\n",
       "    <tr>\n",
       "      <th>1</th>\n",
       "      <td>1</td>\n",
       "      <td>Rikitea</td>\n",
       "      <td>PF</td>\n",
       "      <td>-134.97</td>\n",
       "      <td>-23.12</td>\n",
       "      <td>23.34</td>\n",
       "      <td>79</td>\n",
       "      <td>1.48</td>\n",
       "      <td>41</td>\n",
       "    </tr>\n",
       "    <tr>\n",
       "      <th>2</th>\n",
       "      <td>2</td>\n",
       "      <td>Berlevåg</td>\n",
       "      <td>NO</td>\n",
       "      <td>29.09</td>\n",
       "      <td>70.86</td>\n",
       "      <td>2.28</td>\n",
       "      <td>86</td>\n",
       "      <td>17.50</td>\n",
       "      <td>75</td>\n",
       "    </tr>\n",
       "    <tr>\n",
       "      <th>3</th>\n",
       "      <td>3</td>\n",
       "      <td>New Norfolk</td>\n",
       "      <td>AU</td>\n",
       "      <td>147.06</td>\n",
       "      <td>-42.78</td>\n",
       "      <td>11.39</td>\n",
       "      <td>79</td>\n",
       "      <td>0.46</td>\n",
       "      <td>100</td>\n",
       "    </tr>\n",
       "    <tr>\n",
       "      <th>4</th>\n",
       "      <td>4</td>\n",
       "      <td>Whittlesea</td>\n",
       "      <td>ZA</td>\n",
       "      <td>26.82</td>\n",
       "      <td>-32.18</td>\n",
       "      <td>28.40</td>\n",
       "      <td>26</td>\n",
       "      <td>15.24</td>\n",
       "      <td>99</td>\n",
       "    </tr>\n",
       "  </tbody>\n",
       "</table>\n",
       "</div>"
      ],
      "text/plain": [
       "   Unnamed: 0         City Country  Longitude (Degrees)  Latitude (Degrees)  \\\n",
       "0           0   São Filipe      CV               -24.50               14.90   \n",
       "1           1      Rikitea      PF              -134.97              -23.12   \n",
       "2           2     Berlevåg      NO                29.09               70.86   \n",
       "3           3  New Norfolk      AU               147.06              -42.78   \n",
       "4           4   Whittlesea      ZA                26.82              -32.18   \n",
       "\n",
       "   Maximum Temperature (C)  Humidity (%)  Wind Speed (km/h)  Cloudiness (%)  \n",
       "0                    27.74            70               4.04               2  \n",
       "1                    23.34            79               1.48              41  \n",
       "2                     2.28            86              17.50              75  \n",
       "3                    11.39            79               0.46             100  \n",
       "4                    28.40            26              15.24              99  "
      ]
     },
     "execution_count": 3,
     "metadata": {},
     "output_type": "execute_result"
    }
   ],
   "source": [
    "weather_data=pd.read_csv(weather_path)\n",
    "weather_data.head()\n"
   ]
  },
  {
   "cell_type": "code",
   "execution_count": 4,
   "metadata": {},
   "outputs": [],
   "source": [
    "weather_data.rename({'Longitude (Degrees)': 'Lng', 'Latitude (Degrees)': 'Lat'}, axis=1, inplace=True)"
   ]
  },
  {
   "cell_type": "code",
   "execution_count": 5,
   "metadata": {},
   "outputs": [
    {
     "data": {
      "text/plain": [
       "pandas.core.frame.DataFrame"
      ]
     },
     "execution_count": 5,
     "metadata": {},
     "output_type": "execute_result"
    }
   ],
   "source": [
    "type(weather_data)"
   ]
  },
  {
   "cell_type": "code",
   "execution_count": 6,
   "metadata": {},
   "outputs": [
    {
     "data": {
      "text/plain": [
       "(568, 9)"
      ]
     },
     "execution_count": 6,
     "metadata": {},
     "output_type": "execute_result"
    }
   ],
   "source": [
    "weather_data.shape"
   ]
  },
  {
   "cell_type": "markdown",
   "metadata": {},
   "source": [
    "### Humidity Heatmap\n",
    "* Configure gmaps.\n",
    "* Use the Lat and Lng as locations and Humidity as the weight.\n",
    "* Add Heatmap layer to map."
   ]
  },
  {
   "cell_type": "code",
   "execution_count": 97,
   "metadata": {},
   "outputs": [
    {
     "ename": "NameError",
     "evalue": "name 'gmaps' is not defined",
     "output_type": "error",
     "traceback": [
      "\u001b[1;31m---------------------------------------------------------------------------\u001b[0m",
      "\u001b[1;31mNameError\u001b[0m                                 Traceback (most recent call last)",
      "\u001b[1;32m<ipython-input-97-53b22a36f7c5>\u001b[0m in \u001b[0;36m<module>\u001b[1;34m\u001b[0m\n\u001b[1;32m----> 1\u001b[1;33m \u001b[0mgmaps\u001b[0m\u001b[1;33m.\u001b[0m\u001b[0mconfigure\u001b[0m\u001b[1;33m(\u001b[0m\u001b[0mapi_key\u001b[0m\u001b[1;33m=\u001b[0m\u001b[0mg_key\u001b[0m\u001b[1;33m)\u001b[0m\u001b[1;33m\u001b[0m\u001b[1;33m\u001b[0m\u001b[0m\n\u001b[0m",
      "\u001b[1;31mNameError\u001b[0m: name 'gmaps' is not defined"
     ]
    }
   ],
   "source": [
    "gmaps.configure(api_key=g_key)"
   ]
  },
  {
   "cell_type": "code",
   "execution_count": 7,
   "metadata": {},
   "outputs": [],
   "source": [
    "locations = weather_data[[\"Lat\", \"Lng\"]].astype(float)\n",
    "humidity = weather_data[\"Humidity (%)\"].astype(float)"
   ]
  },
  {
   "cell_type": "code",
   "execution_count": 8,
   "metadata": {},
   "outputs": [
    {
     "data": {
      "text/plain": [
       "pandas.core.frame.DataFrame"
      ]
     },
     "execution_count": 8,
     "metadata": {},
     "output_type": "execute_result"
    }
   ],
   "source": [
    "type(locations)"
   ]
  },
  {
   "cell_type": "code",
   "execution_count": 9,
   "metadata": {},
   "outputs": [
    {
     "data": {
      "text/html": [
       "<div>\n",
       "<style scoped>\n",
       "    .dataframe tbody tr th:only-of-type {\n",
       "        vertical-align: middle;\n",
       "    }\n",
       "\n",
       "    .dataframe tbody tr th {\n",
       "        vertical-align: top;\n",
       "    }\n",
       "\n",
       "    .dataframe thead th {\n",
       "        text-align: right;\n",
       "    }\n",
       "</style>\n",
       "<table border=\"1\" class=\"dataframe\">\n",
       "  <thead>\n",
       "    <tr style=\"text-align: right;\">\n",
       "      <th></th>\n",
       "      <th>Lat</th>\n",
       "      <th>Lng</th>\n",
       "    </tr>\n",
       "  </thead>\n",
       "  <tbody>\n",
       "    <tr>\n",
       "      <th>0</th>\n",
       "      <td>14.90</td>\n",
       "      <td>-24.50</td>\n",
       "    </tr>\n",
       "    <tr>\n",
       "      <th>1</th>\n",
       "      <td>-23.12</td>\n",
       "      <td>-134.97</td>\n",
       "    </tr>\n",
       "    <tr>\n",
       "      <th>2</th>\n",
       "      <td>70.86</td>\n",
       "      <td>29.09</td>\n",
       "    </tr>\n",
       "    <tr>\n",
       "      <th>3</th>\n",
       "      <td>-42.78</td>\n",
       "      <td>147.06</td>\n",
       "    </tr>\n",
       "    <tr>\n",
       "      <th>4</th>\n",
       "      <td>-32.18</td>\n",
       "      <td>26.82</td>\n",
       "    </tr>\n",
       "  </tbody>\n",
       "</table>\n",
       "</div>"
      ],
      "text/plain": [
       "     Lat     Lng\n",
       "0  14.90  -24.50\n",
       "1 -23.12 -134.97\n",
       "2  70.86   29.09\n",
       "3 -42.78  147.06\n",
       "4 -32.18   26.82"
      ]
     },
     "execution_count": 9,
     "metadata": {},
     "output_type": "execute_result"
    }
   ],
   "source": [
    "locations.head()"
   ]
  },
  {
   "cell_type": "code",
   "execution_count": 101,
   "metadata": {},
   "outputs": [
    {
     "ename": "NameError",
     "evalue": "name 'gmaps' is not defined",
     "output_type": "error",
     "traceback": [
      "\u001b[1;31m---------------------------------------------------------------------------\u001b[0m",
      "\u001b[1;31mNameError\u001b[0m                                 Traceback (most recent call last)",
      "\u001b[1;32m<ipython-input-101-32b31bd1cd6a>\u001b[0m in \u001b[0;36m<module>\u001b[1;34m\u001b[0m\n\u001b[1;32m----> 1\u001b[1;33m \u001b[0mfig\u001b[0m \u001b[1;33m=\u001b[0m \u001b[0mgmaps\u001b[0m\u001b[1;33m.\u001b[0m\u001b[0mfigure\u001b[0m\u001b[1;33m(\u001b[0m\u001b[1;33m)\u001b[0m\u001b[1;33m\u001b[0m\u001b[1;33m\u001b[0m\u001b[0m\n\u001b[0m\u001b[0;32m      2\u001b[0m \u001b[0mheatmap_layer\u001b[0m \u001b[1;33m=\u001b[0m \u001b[0mgmaps\u001b[0m\u001b[1;33m.\u001b[0m\u001b[0mheatmap_layer\u001b[0m\u001b[1;33m(\u001b[0m\u001b[0mlocations\u001b[0m\u001b[1;33m,\u001b[0m \u001b[0mweights\u001b[0m\u001b[1;33m=\u001b[0m\u001b[0mhumidity\u001b[0m\u001b[1;33m,\u001b[0m \u001b[0mdissipating\u001b[0m\u001b[1;33m=\u001b[0m\u001b[1;32mFalse\u001b[0m\u001b[1;33m,\u001b[0m \u001b[0mmax_intensity\u001b[0m\u001b[1;33m=\u001b[0m\u001b[1;36m100\u001b[0m\u001b[1;33m,\u001b[0m \u001b[0mpoint_radius\u001b[0m\u001b[1;33m=\u001b[0m\u001b[1;36m3\u001b[0m\u001b[1;33m)\u001b[0m\u001b[1;33m\u001b[0m\u001b[1;33m\u001b[0m\u001b[0m\n\u001b[0;32m      3\u001b[0m \u001b[0mfig\u001b[0m\u001b[1;33m.\u001b[0m\u001b[0madd_layer\u001b[0m\u001b[1;33m(\u001b[0m\u001b[0mheatmap_layer\u001b[0m\u001b[1;33m)\u001b[0m\u001b[1;33m\u001b[0m\u001b[1;33m\u001b[0m\u001b[0m\n\u001b[0;32m      4\u001b[0m \u001b[1;33m\u001b[0m\u001b[0m\n\u001b[0;32m      5\u001b[0m \u001b[0mfig\u001b[0m\u001b[1;33m\u001b[0m\u001b[1;33m\u001b[0m\u001b[0m\n",
      "\u001b[1;31mNameError\u001b[0m: name 'gmaps' is not defined"
     ]
    }
   ],
   "source": [
    "fig = gmaps.figure()\n",
    "heatmap_layer = gmaps.heatmap_layer(locations, weights=humidity, dissipating=False, max_intensity=100, point_radius=3)\n",
    "fig.add_layer(heatmap_layer)\n",
    "\n",
    "fig\n"
   ]
  },
  {
   "cell_type": "markdown",
   "metadata": {},
   "source": [
    "### Create new DataFrame fitting weather criteria\n",
    "* Narrow down the cities to fit weather conditions.\n",
    "* Drop any rows will null values."
   ]
  },
  {
   "cell_type": "code",
   "execution_count": 10,
   "metadata": {},
   "outputs": [
    {
     "data": {
      "text/plain": [
       "pandas.core.frame.DataFrame"
      ]
     },
     "execution_count": 10,
     "metadata": {},
     "output_type": "execute_result"
    }
   ],
   "source": [
    "type(weather_data)"
   ]
  },
  {
   "cell_type": "code",
   "execution_count": 11,
   "metadata": {},
   "outputs": [],
   "source": [
    "hotel_df=weather_data.dropna()"
   ]
  },
  {
   "cell_type": "code",
   "execution_count": 12,
   "metadata": {},
   "outputs": [
    {
     "data": {
      "text/plain": [
       "pandas.core.frame.DataFrame"
      ]
     },
     "execution_count": 12,
     "metadata": {},
     "output_type": "execute_result"
    }
   ],
   "source": [
    "type(hotel_df)"
   ]
  },
  {
   "cell_type": "code",
   "execution_count": 13,
   "metadata": {},
   "outputs": [
    {
     "data": {
      "text/html": [
       "<div>\n",
       "<style scoped>\n",
       "    .dataframe tbody tr th:only-of-type {\n",
       "        vertical-align: middle;\n",
       "    }\n",
       "\n",
       "    .dataframe tbody tr th {\n",
       "        vertical-align: top;\n",
       "    }\n",
       "\n",
       "    .dataframe thead th {\n",
       "        text-align: right;\n",
       "    }\n",
       "</style>\n",
       "<table border=\"1\" class=\"dataframe\">\n",
       "  <thead>\n",
       "    <tr style=\"text-align: right;\">\n",
       "      <th></th>\n",
       "      <th>Unnamed: 0</th>\n",
       "      <th>City</th>\n",
       "      <th>Country</th>\n",
       "      <th>Lng</th>\n",
       "      <th>Lat</th>\n",
       "      <th>Maximum Temperature (C)</th>\n",
       "      <th>Humidity (%)</th>\n",
       "      <th>Wind Speed (km/h)</th>\n",
       "      <th>Cloudiness (%)</th>\n",
       "    </tr>\n",
       "  </thead>\n",
       "  <tbody>\n",
       "    <tr>\n",
       "      <th>0</th>\n",
       "      <td>0</td>\n",
       "      <td>São Filipe</td>\n",
       "      <td>CV</td>\n",
       "      <td>-24.50</td>\n",
       "      <td>14.90</td>\n",
       "      <td>27.74</td>\n",
       "      <td>70</td>\n",
       "      <td>4.04</td>\n",
       "      <td>2</td>\n",
       "    </tr>\n",
       "    <tr>\n",
       "      <th>1</th>\n",
       "      <td>1</td>\n",
       "      <td>Rikitea</td>\n",
       "      <td>PF</td>\n",
       "      <td>-134.97</td>\n",
       "      <td>-23.12</td>\n",
       "      <td>23.34</td>\n",
       "      <td>79</td>\n",
       "      <td>1.48</td>\n",
       "      <td>41</td>\n",
       "    </tr>\n",
       "    <tr>\n",
       "      <th>2</th>\n",
       "      <td>2</td>\n",
       "      <td>Berlevåg</td>\n",
       "      <td>NO</td>\n",
       "      <td>29.09</td>\n",
       "      <td>70.86</td>\n",
       "      <td>2.28</td>\n",
       "      <td>86</td>\n",
       "      <td>17.50</td>\n",
       "      <td>75</td>\n",
       "    </tr>\n",
       "    <tr>\n",
       "      <th>3</th>\n",
       "      <td>3</td>\n",
       "      <td>New Norfolk</td>\n",
       "      <td>AU</td>\n",
       "      <td>147.06</td>\n",
       "      <td>-42.78</td>\n",
       "      <td>11.39</td>\n",
       "      <td>79</td>\n",
       "      <td>0.46</td>\n",
       "      <td>100</td>\n",
       "    </tr>\n",
       "    <tr>\n",
       "      <th>4</th>\n",
       "      <td>4</td>\n",
       "      <td>Whittlesea</td>\n",
       "      <td>ZA</td>\n",
       "      <td>26.82</td>\n",
       "      <td>-32.18</td>\n",
       "      <td>28.40</td>\n",
       "      <td>26</td>\n",
       "      <td>15.24</td>\n",
       "      <td>99</td>\n",
       "    </tr>\n",
       "  </tbody>\n",
       "</table>\n",
       "</div>"
      ],
      "text/plain": [
       "   Unnamed: 0         City Country     Lng    Lat  Maximum Temperature (C)  \\\n",
       "0           0   São Filipe      CV  -24.50  14.90                    27.74   \n",
       "1           1      Rikitea      PF -134.97 -23.12                    23.34   \n",
       "2           2     Berlevåg      NO   29.09  70.86                     2.28   \n",
       "3           3  New Norfolk      AU  147.06 -42.78                    11.39   \n",
       "4           4   Whittlesea      ZA   26.82 -32.18                    28.40   \n",
       "\n",
       "   Humidity (%)  Wind Speed (km/h)  Cloudiness (%)  \n",
       "0            70               4.04               2  \n",
       "1            79               1.48              41  \n",
       "2            86              17.50              75  \n",
       "3            79               0.46             100  \n",
       "4            26              15.24              99  "
      ]
     },
     "execution_count": 13,
     "metadata": {},
     "output_type": "execute_result"
    }
   ],
   "source": [
    "hotel_df.head()"
   ]
  },
  {
   "cell_type": "code",
   "execution_count": 14,
   "metadata": {},
   "outputs": [
    {
     "data": {
      "text/plain": [
       "pandas.core.frame.DataFrame"
      ]
     },
     "execution_count": 14,
     "metadata": {},
     "output_type": "execute_result"
    }
   ],
   "source": [
    "type(hotel_df)"
   ]
  },
  {
   "cell_type": "code",
   "execution_count": 15,
   "metadata": {},
   "outputs": [],
   "source": [
    "hotel_df=hotel_df[hotel_df[\"Maximum Temperature (C)\"] >20]"
   ]
  },
  {
   "cell_type": "code",
   "execution_count": 16,
   "metadata": {},
   "outputs": [],
   "source": [
    "hotel_df=hotel_df[hotel_df[\"Wind Speed (km/h)\"] <10]\n"
   ]
  },
  {
   "cell_type": "code",
   "execution_count": 17,
   "metadata": {},
   "outputs": [],
   "source": [
    "hotel_df=hotel_df[hotel_df[\"Humidity (%)\"] <70]"
   ]
  },
  {
   "cell_type": "code",
   "execution_count": 18,
   "metadata": {},
   "outputs": [],
   "source": [
    "hotel_df=hotel_df[hotel_df[\"Maximum Temperature (C)\"] <30]"
   ]
  },
  {
   "cell_type": "code",
   "execution_count": 19,
   "metadata": {},
   "outputs": [],
   "source": [
    "hotel_df=hotel_df[hotel_df[\"Cloudiness (%)\"] <50]"
   ]
  },
  {
   "cell_type": "code",
   "execution_count": 20,
   "metadata": {},
   "outputs": [],
   "source": [
    "hotel_df=hotel_df[hotel_df[\"Humidity (%)\"] >50]"
   ]
  },
  {
   "cell_type": "code",
   "execution_count": 21,
   "metadata": {},
   "outputs": [
    {
     "data": {
      "text/plain": [
       "(37, 9)"
      ]
     },
     "execution_count": 21,
     "metadata": {},
     "output_type": "execute_result"
    }
   ],
   "source": [
    "hotel_df.shape"
   ]
  },
  {
   "cell_type": "code",
   "execution_count": 22,
   "metadata": {},
   "outputs": [
    {
     "data": {
      "text/plain": [
       "pandas.core.frame.DataFrame"
      ]
     },
     "execution_count": 22,
     "metadata": {},
     "output_type": "execute_result"
    }
   ],
   "source": [
    "type(hotel_df)"
   ]
  },
  {
   "cell_type": "code",
   "execution_count": 23,
   "metadata": {},
   "outputs": [
    {
     "data": {
      "text/plain": [
       "(37, 9)"
      ]
     },
     "execution_count": 23,
     "metadata": {},
     "output_type": "execute_result"
    }
   ],
   "source": [
    "hotel_df.shape"
   ]
  },
  {
   "cell_type": "markdown",
   "metadata": {},
   "source": [
    "### Hotel Map\n",
    "* Store into variable named `hotel_df`.\n",
    "* Add a \"Hotel Name\" column to the DataFrame.\n",
    "* Set parameters to search for hotels with 5000 meters.\n",
    "* Hit the Google Places API for each city's coordinates.\n",
    "* Store the first Hotel result into the DataFrame.\n",
    "* Plot markers on top of the heatmap."
   ]
  },
  {
   "cell_type": "code",
   "execution_count": 24,
   "metadata": {},
   "outputs": [],
   "source": [
    "hotel_df['Hotel'] = \"\""
   ]
  },
  {
   "cell_type": "code",
   "execution_count": 25,
   "metadata": {},
   "outputs": [
    {
     "data": {
      "text/html": [
       "<div>\n",
       "<style scoped>\n",
       "    .dataframe tbody tr th:only-of-type {\n",
       "        vertical-align: middle;\n",
       "    }\n",
       "\n",
       "    .dataframe tbody tr th {\n",
       "        vertical-align: top;\n",
       "    }\n",
       "\n",
       "    .dataframe thead th {\n",
       "        text-align: right;\n",
       "    }\n",
       "</style>\n",
       "<table border=\"1\" class=\"dataframe\">\n",
       "  <thead>\n",
       "    <tr style=\"text-align: right;\">\n",
       "      <th></th>\n",
       "      <th>Unnamed: 0</th>\n",
       "      <th>City</th>\n",
       "      <th>Country</th>\n",
       "      <th>Lng</th>\n",
       "      <th>Lat</th>\n",
       "      <th>Maximum Temperature (C)</th>\n",
       "      <th>Humidity (%)</th>\n",
       "      <th>Wind Speed (km/h)</th>\n",
       "      <th>Cloudiness (%)</th>\n",
       "      <th>Hotel</th>\n",
       "    </tr>\n",
       "  </thead>\n",
       "  <tbody>\n",
       "    <tr>\n",
       "      <th>7</th>\n",
       "      <td>7</td>\n",
       "      <td>Kruisfontein</td>\n",
       "      <td>ZA</td>\n",
       "      <td>24.73</td>\n",
       "      <td>-34.00</td>\n",
       "      <td>23.89</td>\n",
       "      <td>69</td>\n",
       "      <td>4.02</td>\n",
       "      <td>0</td>\n",
       "      <td></td>\n",
       "    </tr>\n",
       "    <tr>\n",
       "      <th>18</th>\n",
       "      <td>18</td>\n",
       "      <td>Hermanus</td>\n",
       "      <td>ZA</td>\n",
       "      <td>19.23</td>\n",
       "      <td>-34.42</td>\n",
       "      <td>24.44</td>\n",
       "      <td>69</td>\n",
       "      <td>2.24</td>\n",
       "      <td>21</td>\n",
       "      <td></td>\n",
       "    </tr>\n",
       "    <tr>\n",
       "      <th>22</th>\n",
       "      <td>22</td>\n",
       "      <td>Kahului</td>\n",
       "      <td>US</td>\n",
       "      <td>-156.47</td>\n",
       "      <td>20.89</td>\n",
       "      <td>22.11</td>\n",
       "      <td>68</td>\n",
       "      <td>1.58</td>\n",
       "      <td>1</td>\n",
       "      <td></td>\n",
       "    </tr>\n",
       "    <tr>\n",
       "      <th>35</th>\n",
       "      <td>35</td>\n",
       "      <td>Ribeira Grande</td>\n",
       "      <td>PT</td>\n",
       "      <td>-28.70</td>\n",
       "      <td>38.52</td>\n",
       "      <td>21.00</td>\n",
       "      <td>64</td>\n",
       "      <td>4.60</td>\n",
       "      <td>40</td>\n",
       "      <td></td>\n",
       "    </tr>\n",
       "    <tr>\n",
       "      <th>41</th>\n",
       "      <td>41</td>\n",
       "      <td>Port Alfred</td>\n",
       "      <td>ZA</td>\n",
       "      <td>26.89</td>\n",
       "      <td>-33.59</td>\n",
       "      <td>25.25</td>\n",
       "      <td>69</td>\n",
       "      <td>7.83</td>\n",
       "      <td>47</td>\n",
       "      <td></td>\n",
       "    </tr>\n",
       "  </tbody>\n",
       "</table>\n",
       "</div>"
      ],
      "text/plain": [
       "    Unnamed: 0            City Country     Lng    Lat  \\\n",
       "7            7    Kruisfontein      ZA   24.73 -34.00   \n",
       "18          18        Hermanus      ZA   19.23 -34.42   \n",
       "22          22         Kahului      US -156.47  20.89   \n",
       "35          35  Ribeira Grande      PT  -28.70  38.52   \n",
       "41          41     Port Alfred      ZA   26.89 -33.59   \n",
       "\n",
       "    Maximum Temperature (C)  Humidity (%)  Wind Speed (km/h)  Cloudiness (%)  \\\n",
       "7                     23.89            69               4.02               0   \n",
       "18                    24.44            69               2.24              21   \n",
       "22                    22.11            68               1.58               1   \n",
       "35                    21.00            64               4.60              40   \n",
       "41                    25.25            69               7.83              47   \n",
       "\n",
       "   Hotel  \n",
       "7         \n",
       "18        \n",
       "22        \n",
       "35        \n",
       "41        "
      ]
     },
     "execution_count": 25,
     "metadata": {},
     "output_type": "execute_result"
    }
   ],
   "source": [
    "hotel_df.head()"
   ]
  },
  {
   "cell_type": "code",
   "execution_count": 26,
   "metadata": {},
   "outputs": [
    {
     "data": {
      "text/plain": [
       "Unnamed: 0                   int64\n",
       "City                        object\n",
       "Country                     object\n",
       "Lng                        float64\n",
       "Lat                        float64\n",
       "Maximum Temperature (C)    float64\n",
       "Humidity (%)                 int64\n",
       "Wind Speed (km/h)          float64\n",
       "Cloudiness (%)               int64\n",
       "Hotel                       object\n",
       "dtype: object"
      ]
     },
     "execution_count": 26,
     "metadata": {},
     "output_type": "execute_result"
    }
   ],
   "source": [
    "hotel_df.dtypes"
   ]
  },
  {
   "cell_type": "code",
   "execution_count": 27,
   "metadata": {},
   "outputs": [
    {
     "name": "stdout",
     "output_type": "stream",
     "text": [
      "Retrieving Results for Kruisfontein at coordinates (-34.0, 24.73)\n",
      "Closest hotel in Kruisfontein is Humansdorp Boutique Hotel.\n",
      "------------\n",
      "Retrieving Results for Hermanus at coordinates (-34.42, 19.23)\n",
      "Closest hotel in Hermanus is Harbour House Hotel.\n",
      "------------\n",
      "Retrieving Results for Kahului at coordinates (20.89, -156.47)\n",
      "Closest hotel in Kahului is Maui Beach Hotel.\n",
      "------------\n",
      "Retrieving Results for Ribeira Grande at coordinates (38.52, -28.7)\n",
      "Closest hotel in Ribeira Grande is Quinta Das Buganvílias.\n",
      "------------\n",
      "Retrieving Results for Port Alfred at coordinates (-33.59, 26.89)\n",
      "Closest hotel in Port Alfred is MyPond Hotel.\n",
      "------------\n",
      "Retrieving Results for Richards Bay at coordinates (-28.78, 32.04)\n",
      "Closest hotel in Richards Bay is BON Hotel Waterfront Richards Bay.\n",
      "------------\n",
      "Retrieving Results for Arraial do Cabo at coordinates (-22.97, -42.03)\n",
      "Closest hotel in Arraial do Cabo is Orlanova Hotel.\n",
      "------------\n",
      "Retrieving Results for Grand Gaube at coordinates (-20.01, 57.66)\n",
      "Closest hotel in Grand Gaube is Zilwa Attitude Hotel.\n",
      "------------\n",
      "Retrieving Results for Teguise at coordinates (29.06, -13.56)\n",
      "Closest hotel in Teguise is HOTEL BOUTIQUE PALACIO ICO.\n",
      "------------\n",
      "Retrieving Results for Souillac at coordinates (-20.52, 57.52)\n",
      "Closest hotel in Souillac is Andrea Lodges.\n",
      "------------\n",
      "Retrieving Results for Mahon at coordinates (39.89, 4.27)\n",
      "Closest hotel in Mahon is Hotel Son Tretze.\n",
      "------------\n",
      "Retrieving Results for Ponta do Sol at coordinates (32.67, -17.1)\n",
      "Closest hotel in Ponta do Sol is Palace of Zinos.\n",
      "------------\n",
      "Retrieving Results for Sinnamary at coordinates (5.38, -52.95)\n",
      "Closest hotel in Sinnamary is L'oiseau de Paradis.\n",
      "------------\n",
      "Retrieving Results for Castro at coordinates (-24.79, -50.01)\n",
      "Closest hotel in Castro is Hotel Buganville Express.\n",
      "------------\n",
      "Retrieving Results for Cape Town at coordinates (-33.93, 18.42)\n",
      "Closest hotel in Cape Town is Atlanticview Cape Town Boutique Hotel.\n",
      "------------\n",
      "Retrieving Results for Chulumani at coordinates (-16.41, -67.53)\n",
      "Closest hotel in Chulumani is Country House.\n",
      "------------\n",
      "Retrieving Results for Cabo San Lucas at coordinates (22.89, -109.91)\n",
      "Closest hotel in Cabo San Lucas is Waldorf Astoria Los Cabos Pedregal.\n",
      "------------\n",
      "Retrieving Results for Lorengau at coordinates (-2.02, 147.27)\n",
      "Closest hotel in Lorengau is Lorengau Harbourside Hotel.\n",
      "------------\n",
      "Retrieving Results for Miramar at coordinates (25.99, -80.23)\n",
      "Closest hotel in Miramar is Stadium Hotel.\n",
      "------------\n",
      "Retrieving Results for Quatre Cocos at coordinates (-20.21, 57.76)\n",
      "Closest hotel in Quatre Cocos is Shangri-La's Le Touessrok Resort & Spa.\n",
      "------------\n",
      "Retrieving Results for Darnah at coordinates (32.77, 22.64)\n",
      "Closest hotel in Darnah is فندق النعيم.\n",
      "------------\n",
      "Retrieving Results for Mahébourg at coordinates (-20.41, 57.7)\n",
      "Closest hotel in Mahébourg is Holiday Inn Mauritius Mon Tresor.\n",
      "------------\n",
      "Retrieving Results for Bambous Virieux at coordinates (-20.34, 57.76)\n",
      "Closest hotel in Bambous Virieux is Laguna Beach Hotel & Spa.\n",
      "------------\n",
      "Retrieving Results for Vila Velha at coordinates (-20.33, -40.29)\n",
      "Closest hotel in Vila Velha is Golden Tulip Porto Vitória.\n",
      "------------\n",
      "Retrieving Results for Andrelândia at coordinates (-21.74, -44.31)\n",
      "Closest hotel in Andrelândia is Estalagem do Porto.\n",
      "------------\n",
      "Retrieving Results for Sur at coordinates (22.57, 59.53)\n",
      "Closest hotel in Sur is Sur Plaza Hotel.\n",
      "------------\n",
      "Retrieving Results for Kavieng at coordinates (-2.57, 150.8)\n",
      "Closest hotel in Kavieng is Nusa Island Retreat.\n",
      "------------\n",
      "Retrieving Results for Noumea at coordinates (-22.28, 166.46)\n",
      "Closest hotel in Noumea is Nouvata.\n",
      "------------\n",
      "Retrieving Results for Mossamedes at coordinates (-15.2, 12.15)\n",
      "Closest hotel in Mossamedes is Hotel Chik Chik Namibe.\n",
      "------------\n",
      "Retrieving Results for Ribeira Brava at coordinates (32.65, -17.07)\n",
      "Closest hotel in Ribeira Brava is Palace of Zinos.\n",
      "------------\n",
      "Retrieving Results for Sirte at coordinates (31.21, 16.59)\n",
      "Closest hotel in Sirte is Sea Hotel.\n",
      "------------\n",
      "Retrieving Results for Xai-Xai at coordinates (-25.05, 33.64)\n",
      "Missing field/result... skipping.\n",
      "------------\n",
      "Retrieving Results for Swellendam at coordinates (-34.02, 20.44)\n",
      "Closest hotel in Swellendam is Swellengrebel Hotel.\n",
      "------------\n",
      "Retrieving Results for Goianápolis at coordinates (-16.51, -49.02)\n",
      "Missing field/result... skipping.\n",
      "------------\n",
      "Retrieving Results for Luanda at coordinates (-8.84, 13.23)\n",
      "Closest hotel in Luanda is EPIC SANA Luanda.\n",
      "------------\n",
      "Retrieving Results for Lárdos at coordinates (36.09, 28.02)\n",
      "Closest hotel in Lárdos is Lindos Grand Resort & Spa.\n",
      "------------\n",
      "Retrieving Results for Kiryat Gat at coordinates (31.61, 34.76)\n",
      "Closest hotel in Kiryat Gat is Desert Gat.\n",
      "------------\n"
     ]
    }
   ],
   "source": [
    "# find the closest hotel for each set of coordinates\n",
    "base_url = \"https://maps.googleapis.com/maps/api/place/nearbysearch/json\"\n",
    "  \n",
    " \n",
    "\n",
    "# use iterrows to iterate through pandas dataframe\n",
    "for index, row in hotel_df.iterrows():\n",
    "    lat = row[\"Lat\"]\n",
    "    lng = row[\"Lng\"]\n",
    "    city= row[\"City\"]\n",
    "\n",
    "    params = {\n",
    "    \"location\": f\"{lat}, {lng}\",\n",
    "    \"radius\": 5000,\n",
    "    'keyword': \"Hotel\",\n",
    "    \"key\": g_key,\n",
    "        }  \n",
    "\n",
    "# assemble url and make API request\n",
    "    print(f\"Retrieving Results for {city} at coordinates ({lat}, {lng})\")\n",
    "    response = requests.get(base_url, params=params).json()\n",
    "    \n",
    "# extract results\n",
    "    results = response['results']\n",
    "    \n",
    "    try:\n",
    "        print(f\"Closest hotel in {city} is {results[0]['name']}.\")\n",
    "        print(\"------------\")\n",
    "        hotel_df.loc[index, \"Hotel\"] = results[0][\"name\"]\n",
    "\n",
    "\n",
    "    except :\n",
    "        print(\"Missing field/result... skipping.\")\n",
    "        print(\"------------\")"
   ]
  },
  {
   "cell_type": "code",
   "execution_count": 28,
   "metadata": {},
   "outputs": [
    {
     "data": {
      "text/html": [
       "<div>\n",
       "<style scoped>\n",
       "    .dataframe tbody tr th:only-of-type {\n",
       "        vertical-align: middle;\n",
       "    }\n",
       "\n",
       "    .dataframe tbody tr th {\n",
       "        vertical-align: top;\n",
       "    }\n",
       "\n",
       "    .dataframe thead th {\n",
       "        text-align: right;\n",
       "    }\n",
       "</style>\n",
       "<table border=\"1\" class=\"dataframe\">\n",
       "  <thead>\n",
       "    <tr style=\"text-align: right;\">\n",
       "      <th></th>\n",
       "      <th>Unnamed: 0</th>\n",
       "      <th>City</th>\n",
       "      <th>Country</th>\n",
       "      <th>Lng</th>\n",
       "      <th>Lat</th>\n",
       "      <th>Maximum Temperature (C)</th>\n",
       "      <th>Humidity (%)</th>\n",
       "      <th>Wind Speed (km/h)</th>\n",
       "      <th>Cloudiness (%)</th>\n",
       "      <th>Hotel</th>\n",
       "    </tr>\n",
       "  </thead>\n",
       "  <tbody>\n",
       "    <tr>\n",
       "      <th>7</th>\n",
       "      <td>7</td>\n",
       "      <td>Kruisfontein</td>\n",
       "      <td>ZA</td>\n",
       "      <td>24.73</td>\n",
       "      <td>-34.00</td>\n",
       "      <td>23.89</td>\n",
       "      <td>69</td>\n",
       "      <td>4.02</td>\n",
       "      <td>0</td>\n",
       "      <td>Humansdorp Boutique Hotel</td>\n",
       "    </tr>\n",
       "    <tr>\n",
       "      <th>18</th>\n",
       "      <td>18</td>\n",
       "      <td>Hermanus</td>\n",
       "      <td>ZA</td>\n",
       "      <td>19.23</td>\n",
       "      <td>-34.42</td>\n",
       "      <td>24.44</td>\n",
       "      <td>69</td>\n",
       "      <td>2.24</td>\n",
       "      <td>21</td>\n",
       "      <td>Harbour House Hotel</td>\n",
       "    </tr>\n",
       "    <tr>\n",
       "      <th>22</th>\n",
       "      <td>22</td>\n",
       "      <td>Kahului</td>\n",
       "      <td>US</td>\n",
       "      <td>-156.47</td>\n",
       "      <td>20.89</td>\n",
       "      <td>22.11</td>\n",
       "      <td>68</td>\n",
       "      <td>1.58</td>\n",
       "      <td>1</td>\n",
       "      <td>Maui Beach Hotel</td>\n",
       "    </tr>\n",
       "    <tr>\n",
       "      <th>35</th>\n",
       "      <td>35</td>\n",
       "      <td>Ribeira Grande</td>\n",
       "      <td>PT</td>\n",
       "      <td>-28.70</td>\n",
       "      <td>38.52</td>\n",
       "      <td>21.00</td>\n",
       "      <td>64</td>\n",
       "      <td>4.60</td>\n",
       "      <td>40</td>\n",
       "      <td>Quinta Das Buganvílias</td>\n",
       "    </tr>\n",
       "    <tr>\n",
       "      <th>41</th>\n",
       "      <td>41</td>\n",
       "      <td>Port Alfred</td>\n",
       "      <td>ZA</td>\n",
       "      <td>26.89</td>\n",
       "      <td>-33.59</td>\n",
       "      <td>25.25</td>\n",
       "      <td>69</td>\n",
       "      <td>7.83</td>\n",
       "      <td>47</td>\n",
       "      <td>MyPond Hotel</td>\n",
       "    </tr>\n",
       "  </tbody>\n",
       "</table>\n",
       "</div>"
      ],
      "text/plain": [
       "    Unnamed: 0            City Country     Lng    Lat  \\\n",
       "7            7    Kruisfontein      ZA   24.73 -34.00   \n",
       "18          18        Hermanus      ZA   19.23 -34.42   \n",
       "22          22         Kahului      US -156.47  20.89   \n",
       "35          35  Ribeira Grande      PT  -28.70  38.52   \n",
       "41          41     Port Alfred      ZA   26.89 -33.59   \n",
       "\n",
       "    Maximum Temperature (C)  Humidity (%)  Wind Speed (km/h)  Cloudiness (%)  \\\n",
       "7                     23.89            69               4.02               0   \n",
       "18                    24.44            69               2.24              21   \n",
       "22                    22.11            68               1.58               1   \n",
       "35                    21.00            64               4.60              40   \n",
       "41                    25.25            69               7.83              47   \n",
       "\n",
       "                        Hotel  \n",
       "7   Humansdorp Boutique Hotel  \n",
       "18        Harbour House Hotel  \n",
       "22           Maui Beach Hotel  \n",
       "35     Quinta Das Buganvílias  \n",
       "41               MyPond Hotel  "
      ]
     },
     "execution_count": 28,
     "metadata": {},
     "output_type": "execute_result"
    }
   ],
   "source": [
    "hotel_df.head()"
   ]
  },
  {
   "cell_type": "code",
   "execution_count": 29,
   "metadata": {},
   "outputs": [
    {
     "data": {
      "text/plain": [
       "(37, 10)"
      ]
     },
     "execution_count": 29,
     "metadata": {},
     "output_type": "execute_result"
    }
   ],
   "source": [
    "hotel_df.shape"
   ]
  },
  {
   "cell_type": "code",
   "execution_count": 30,
   "metadata": {},
   "outputs": [],
   "source": [
    "#Filter out rows where we did not find a hotel name."
   ]
  },
  {
   "cell_type": "code",
   "execution_count": 31,
   "metadata": {},
   "outputs": [],
   "source": [
    "hotel_df=hotel_df[hotel_df[\"Hotel\"] !=\"\"]"
   ]
  },
  {
   "cell_type": "code",
   "execution_count": 32,
   "metadata": {},
   "outputs": [
    {
     "data": {
      "text/plain": [
       "(35, 10)"
      ]
     },
     "execution_count": 32,
     "metadata": {},
     "output_type": "execute_result"
    }
   ],
   "source": [
    "hotel_df.shape"
   ]
  },
  {
   "cell_type": "code",
   "execution_count": 34,
   "metadata": {},
   "outputs": [],
   "source": [
    "hotel_df=hotel_df[:10]"
   ]
  },
  {
   "cell_type": "code",
   "execution_count": 35,
   "metadata": {},
   "outputs": [
    {
     "data": {
      "text/plain": [
       "(10, 10)"
      ]
     },
     "execution_count": 35,
     "metadata": {},
     "output_type": "execute_result"
    }
   ],
   "source": [
    "hotel_df.shape"
   ]
  },
  {
   "cell_type": "code",
   "execution_count": 37,
   "metadata": {},
   "outputs": [
    {
     "data": {
      "text/plain": [
       "pandas.core.frame.DataFrame"
      ]
     },
     "execution_count": 37,
     "metadata": {},
     "output_type": "execute_result"
    }
   ],
   "source": [
    "type(hotel_df)"
   ]
  },
  {
   "cell_type": "code",
   "execution_count": 36,
   "metadata": {},
   "outputs": [],
   "source": [
    "# NOTE: Do not change any of the code in this cell\n",
    "\n",
    "# Using the template add the hotel marks to the heatmap\n",
    "info_box_template = \"\"\"\n",
    "<dl>\n",
    "<dt>Hotel Name</dt><dd>{Hotel}</dd>\n",
    "<dt>City</dt><dd>{City}</dd>\n",
    "<dt>Country</dt><dd>{Country}</dd>\n",
    "</dl>\n",
    "\"\"\"\n",
    "# Store the DataFrame Row\n",
    "# NOTE: be sure to update with your DataFrame name\n",
    "hotel_info = [info_box_template.format(**row) for index, row in hotel_df.iterrows()]\n",
    "locations = hotel_df[[\"Lat\", \"Lng\"]]"
   ]
  },
  {
   "cell_type": "code",
   "execution_count": 37,
   "metadata": {},
   "outputs": [],
   "source": [
    "# Add marker layer ontop of heat map\n",
    "markers = gmaps.marker_layer(locations,info_box_content=[info_box_template.format(**row) for index, row in hotel_df.iterrows()])\n",
    "fig.add_layer(markers)\n"
   ]
  },
  {
   "cell_type": "code",
   "execution_count": 38,
   "metadata": {},
   "outputs": [
    {
     "data": {
      "application/vnd.jupyter.widget-view+json": {
       "model_id": "f227c7518d354067994f1cfbff533ca7",
       "version_major": 2,
       "version_minor": 0
      },
      "text/plain": [
       "Figure(layout=FigureLayout(height='420px'))"
      ]
     },
     "metadata": {},
     "output_type": "display_data"
    }
   ],
   "source": [
    "fig"
   ]
  },
  {
   "cell_type": "code",
   "execution_count": null,
   "metadata": {},
   "outputs": [],
   "source": []
  }
 ],
 "metadata": {
  "kernelspec": {
   "display_name": "Python 3",
   "language": "python",
   "name": "python3"
  },
  "language_info": {
   "codemirror_mode": {
    "name": "ipython",
    "version": 3
   },
   "file_extension": ".py",
   "mimetype": "text/x-python",
   "name": "python",
   "nbconvert_exporter": "python",
   "pygments_lexer": "ipython3",
   "version": "3.6.12"
  },
  "latex_envs": {
   "LaTeX_envs_menu_present": true,
   "autoclose": false,
   "autocomplete": true,
   "bibliofile": "biblio.bib",
   "cite_by": "apalike",
   "current_citInitial": 1,
   "eqLabelWithNumbers": true,
   "eqNumInitial": 1,
   "hotkeys": {
    "equation": "Ctrl-E",
    "itemize": "Ctrl-I"
   },
   "labels_anchors": false,
   "latex_user_defs": false,
   "report_style_numbering": false,
   "user_envs_cfg": false
  }
 },
 "nbformat": 4,
 "nbformat_minor": 2
}
