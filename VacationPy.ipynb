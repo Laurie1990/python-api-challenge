{
 "cells": [
  {
   "cell_type": "markdown",
   "metadata": {},
   "source": [
    "# VacationPy\n",
    "----\n",
    "\n",
    "#### Note\n",
    "* Instructions have been included for each segment. You do not have to follow them exactly, but they are included to help you think through the steps."
   ]
  },
  {
   "cell_type": "code",
   "execution_count": 1,
   "metadata": {},
   "outputs": [],
   "source": [
    "# Dependencies and Setup\n",
    "import matplotlib.pyplot as plt\n",
    "import pandas as pd\n",
    "import numpy as np\n",
    "import requests\n",
    "import gmaps\n",
    "import os\n",
    "import gmaps.datasets\n",
    "\n",
    "# Import API key\n",
    "from api_keys import g_key"
   ]
  },
  {
   "cell_type": "markdown",
   "metadata": {},
   "source": [
    "### Store Part I results into DataFrame\n",
    "* Load the csv exported in Part I to a DataFrame"
   ]
  },
  {
   "cell_type": "code",
   "execution_count": 2,
   "metadata": {},
   "outputs": [],
   "source": [
    "weather_path='city_data.csv'"
   ]
  },
  {
   "cell_type": "code",
   "execution_count": 3,
   "metadata": {},
   "outputs": [
    {
     "data": {
      "text/html": [
       "<div>\n",
       "<style scoped>\n",
       "    .dataframe tbody tr th:only-of-type {\n",
       "        vertical-align: middle;\n",
       "    }\n",
       "\n",
       "    .dataframe tbody tr th {\n",
       "        vertical-align: top;\n",
       "    }\n",
       "\n",
       "    .dataframe thead th {\n",
       "        text-align: right;\n",
       "    }\n",
       "</style>\n",
       "<table border=\"1\" class=\"dataframe\">\n",
       "  <thead>\n",
       "    <tr style=\"text-align: right;\">\n",
       "      <th></th>\n",
       "      <th>Unnamed: 0</th>\n",
       "      <th>City</th>\n",
       "      <th>Country</th>\n",
       "      <th>Longitude (Degrees)</th>\n",
       "      <th>Latitude (Degrees)</th>\n",
       "      <th>Maximum Temperature (C)</th>\n",
       "      <th>Humidity (%)</th>\n",
       "      <th>Wind Speed (km/h)</th>\n",
       "      <th>Cloudiness (%)</th>\n",
       "    </tr>\n",
       "  </thead>\n",
       "  <tbody>\n",
       "    <tr>\n",
       "      <th>0</th>\n",
       "      <td>0</td>\n",
       "      <td>São Filipe</td>\n",
       "      <td>CV</td>\n",
       "      <td>-24.50</td>\n",
       "      <td>14.90</td>\n",
       "      <td>27.74</td>\n",
       "      <td>70</td>\n",
       "      <td>4.04</td>\n",
       "      <td>2</td>\n",
       "    </tr>\n",
       "    <tr>\n",
       "      <th>1</th>\n",
       "      <td>1</td>\n",
       "      <td>Rikitea</td>\n",
       "      <td>PF</td>\n",
       "      <td>-134.97</td>\n",
       "      <td>-23.12</td>\n",
       "      <td>23.34</td>\n",
       "      <td>79</td>\n",
       "      <td>1.48</td>\n",
       "      <td>41</td>\n",
       "    </tr>\n",
       "    <tr>\n",
       "      <th>2</th>\n",
       "      <td>2</td>\n",
       "      <td>Berlevåg</td>\n",
       "      <td>NO</td>\n",
       "      <td>29.09</td>\n",
       "      <td>70.86</td>\n",
       "      <td>2.28</td>\n",
       "      <td>86</td>\n",
       "      <td>17.50</td>\n",
       "      <td>75</td>\n",
       "    </tr>\n",
       "    <tr>\n",
       "      <th>3</th>\n",
       "      <td>3</td>\n",
       "      <td>New Norfolk</td>\n",
       "      <td>AU</td>\n",
       "      <td>147.06</td>\n",
       "      <td>-42.78</td>\n",
       "      <td>11.39</td>\n",
       "      <td>79</td>\n",
       "      <td>0.46</td>\n",
       "      <td>100</td>\n",
       "    </tr>\n",
       "    <tr>\n",
       "      <th>4</th>\n",
       "      <td>4</td>\n",
       "      <td>Whittlesea</td>\n",
       "      <td>ZA</td>\n",
       "      <td>26.82</td>\n",
       "      <td>-32.18</td>\n",
       "      <td>28.40</td>\n",
       "      <td>26</td>\n",
       "      <td>15.24</td>\n",
       "      <td>99</td>\n",
       "    </tr>\n",
       "  </tbody>\n",
       "</table>\n",
       "</div>"
      ],
      "text/plain": [
       "   Unnamed: 0         City Country  Longitude (Degrees)  Latitude (Degrees)  \\\n",
       "0           0   São Filipe      CV               -24.50               14.90   \n",
       "1           1      Rikitea      PF              -134.97              -23.12   \n",
       "2           2     Berlevåg      NO                29.09               70.86   \n",
       "3           3  New Norfolk      AU               147.06              -42.78   \n",
       "4           4   Whittlesea      ZA                26.82              -32.18   \n",
       "\n",
       "   Maximum Temperature (C)  Humidity (%)  Wind Speed (km/h)  Cloudiness (%)  \n",
       "0                    27.74            70               4.04               2  \n",
       "1                    23.34            79               1.48              41  \n",
       "2                     2.28            86              17.50              75  \n",
       "3                    11.39            79               0.46             100  \n",
       "4                    28.40            26              15.24              99  "
      ]
     },
     "execution_count": 3,
     "metadata": {},
     "output_type": "execute_result"
    }
   ],
   "source": [
    "weather_data=pd.read_csv(weather_path)\n",
    "weather_data.head()\n"
   ]
  },
  {
   "cell_type": "code",
   "execution_count": 4,
   "metadata": {},
   "outputs": [],
   "source": [
    "weather_data.rename({'Longitude (Degrees)': 'Lng', 'Latitude (Degrees)': 'Lat'}, axis=1, inplace=True)"
   ]
  },
  {
   "cell_type": "code",
   "execution_count": 5,
   "metadata": {},
   "outputs": [
    {
     "data": {
      "text/plain": [
       "pandas.core.frame.DataFrame"
      ]
     },
     "execution_count": 5,
     "metadata": {},
     "output_type": "execute_result"
    }
   ],
   "source": [
    "type(weather_data)"
   ]
  },
  {
   "cell_type": "code",
   "execution_count": 6,
   "metadata": {},
   "outputs": [
    {
     "data": {
      "text/plain": [
       "(568, 9)"
      ]
     },
     "execution_count": 6,
     "metadata": {},
     "output_type": "execute_result"
    }
   ],
   "source": [
    "weather_data.shape"
   ]
  },
  {
   "cell_type": "markdown",
   "metadata": {},
   "source": [
    "### Humidity Heatmap\n",
    "* Configure gmaps.\n",
    "* Use the Lat and Lng as locations and Humidity as the weight.\n",
    "* Add Heatmap layer to map."
   ]
  },
  {
   "cell_type": "code",
   "execution_count": 12,
   "metadata": {},
   "outputs": [],
   "source": [
    "gmaps.configure(api_key=g_key)"
   ]
  },
  {
   "cell_type": "code",
   "execution_count": 13,
   "metadata": {},
   "outputs": [],
   "source": [
    "locations = weather_data[[\"Lat\", \"Lng\"]].astype(float)\n",
    "humidity = weather_data[\"Humidity (%)\"].astype(float)"
   ]
  },
  {
   "cell_type": "code",
   "execution_count": 14,
   "metadata": {},
   "outputs": [
    {
     "data": {
      "text/plain": [
       "pandas.core.frame.DataFrame"
      ]
     },
     "execution_count": 14,
     "metadata": {},
     "output_type": "execute_result"
    }
   ],
   "source": [
    "type(locations)"
   ]
  },
  {
   "cell_type": "code",
   "execution_count": 15,
   "metadata": {},
   "outputs": [
    {
     "data": {
      "text/html": [
       "<div>\n",
       "<style scoped>\n",
       "    .dataframe tbody tr th:only-of-type {\n",
       "        vertical-align: middle;\n",
       "    }\n",
       "\n",
       "    .dataframe tbody tr th {\n",
       "        vertical-align: top;\n",
       "    }\n",
       "\n",
       "    .dataframe thead th {\n",
       "        text-align: right;\n",
       "    }\n",
       "</style>\n",
       "<table border=\"1\" class=\"dataframe\">\n",
       "  <thead>\n",
       "    <tr style=\"text-align: right;\">\n",
       "      <th></th>\n",
       "      <th>Lat</th>\n",
       "      <th>Lng</th>\n",
       "    </tr>\n",
       "  </thead>\n",
       "  <tbody>\n",
       "    <tr>\n",
       "      <th>0</th>\n",
       "      <td>14.90</td>\n",
       "      <td>-24.50</td>\n",
       "    </tr>\n",
       "    <tr>\n",
       "      <th>1</th>\n",
       "      <td>-23.12</td>\n",
       "      <td>-134.97</td>\n",
       "    </tr>\n",
       "    <tr>\n",
       "      <th>2</th>\n",
       "      <td>70.86</td>\n",
       "      <td>29.09</td>\n",
       "    </tr>\n",
       "    <tr>\n",
       "      <th>3</th>\n",
       "      <td>-42.78</td>\n",
       "      <td>147.06</td>\n",
       "    </tr>\n",
       "    <tr>\n",
       "      <th>4</th>\n",
       "      <td>-32.18</td>\n",
       "      <td>26.82</td>\n",
       "    </tr>\n",
       "  </tbody>\n",
       "</table>\n",
       "</div>"
      ],
      "text/plain": [
       "     Lat     Lng\n",
       "0  14.90  -24.50\n",
       "1 -23.12 -134.97\n",
       "2  70.86   29.09\n",
       "3 -42.78  147.06\n",
       "4 -32.18   26.82"
      ]
     },
     "execution_count": 15,
     "metadata": {},
     "output_type": "execute_result"
    }
   ],
   "source": [
    "locations.head()"
   ]
  },
  {
   "cell_type": "code",
   "execution_count": 16,
   "metadata": {},
   "outputs": [
    {
     "data": {
      "application/vnd.jupyter.widget-view+json": {
       "model_id": "f227c7518d354067994f1cfbff533ca7",
       "version_major": 2,
       "version_minor": 0
      },
      "text/plain": [
       "Figure(layout=FigureLayout(height='420px'))"
      ]
     },
     "metadata": {},
     "output_type": "display_data"
    }
   ],
   "source": [
    "fig = gmaps.figure()\n",
    "heatmap_layer = gmaps.heatmap_layer(locations, weights=humidity, dissipating=False, max_intensity=100, point_radius=3)\n",
    "fig.add_layer(heatmap_layer)\n",
    "\n",
    "fig\n"
   ]
  },
  {
   "cell_type": "markdown",
   "metadata": {},
   "source": [
    "### Create new DataFrame fitting weather criteria\n",
    "* Narrow down the cities to fit weather conditions.\n",
    "* Drop any rows will null values."
   ]
  },
  {
   "cell_type": "code",
   "execution_count": 17,
   "metadata": {},
   "outputs": [
    {
     "data": {
      "text/plain": [
       "pandas.core.frame.DataFrame"
      ]
     },
     "execution_count": 17,
     "metadata": {},
     "output_type": "execute_result"
    }
   ],
   "source": [
    "type(weather_data)"
   ]
  },
  {
   "cell_type": "code",
   "execution_count": 18,
   "metadata": {},
   "outputs": [],
   "source": [
    "hotel_df=weather_data.dropna()"
   ]
  },
  {
   "cell_type": "code",
   "execution_count": 19,
   "metadata": {},
   "outputs": [
    {
     "data": {
      "text/plain": [
       "pandas.core.frame.DataFrame"
      ]
     },
     "execution_count": 19,
     "metadata": {},
     "output_type": "execute_result"
    }
   ],
   "source": [
    "type(hotel_df)"
   ]
  },
  {
   "cell_type": "code",
   "execution_count": 20,
   "metadata": {},
   "outputs": [
    {
     "data": {
      "text/html": [
       "<div>\n",
       "<style scoped>\n",
       "    .dataframe tbody tr th:only-of-type {\n",
       "        vertical-align: middle;\n",
       "    }\n",
       "\n",
       "    .dataframe tbody tr th {\n",
       "        vertical-align: top;\n",
       "    }\n",
       "\n",
       "    .dataframe thead th {\n",
       "        text-align: right;\n",
       "    }\n",
       "</style>\n",
       "<table border=\"1\" class=\"dataframe\">\n",
       "  <thead>\n",
       "    <tr style=\"text-align: right;\">\n",
       "      <th></th>\n",
       "      <th>Unnamed: 0</th>\n",
       "      <th>City</th>\n",
       "      <th>Country</th>\n",
       "      <th>Lng</th>\n",
       "      <th>Lat</th>\n",
       "      <th>Maximum Temperature (C)</th>\n",
       "      <th>Humidity (%)</th>\n",
       "      <th>Wind Speed (km/h)</th>\n",
       "      <th>Cloudiness (%)</th>\n",
       "    </tr>\n",
       "  </thead>\n",
       "  <tbody>\n",
       "    <tr>\n",
       "      <th>0</th>\n",
       "      <td>0</td>\n",
       "      <td>São Filipe</td>\n",
       "      <td>CV</td>\n",
       "      <td>-24.50</td>\n",
       "      <td>14.90</td>\n",
       "      <td>27.74</td>\n",
       "      <td>70</td>\n",
       "      <td>4.04</td>\n",
       "      <td>2</td>\n",
       "    </tr>\n",
       "    <tr>\n",
       "      <th>1</th>\n",
       "      <td>1</td>\n",
       "      <td>Rikitea</td>\n",
       "      <td>PF</td>\n",
       "      <td>-134.97</td>\n",
       "      <td>-23.12</td>\n",
       "      <td>23.34</td>\n",
       "      <td>79</td>\n",
       "      <td>1.48</td>\n",
       "      <td>41</td>\n",
       "    </tr>\n",
       "    <tr>\n",
       "      <th>2</th>\n",
       "      <td>2</td>\n",
       "      <td>Berlevåg</td>\n",
       "      <td>NO</td>\n",
       "      <td>29.09</td>\n",
       "      <td>70.86</td>\n",
       "      <td>2.28</td>\n",
       "      <td>86</td>\n",
       "      <td>17.50</td>\n",
       "      <td>75</td>\n",
       "    </tr>\n",
       "    <tr>\n",
       "      <th>3</th>\n",
       "      <td>3</td>\n",
       "      <td>New Norfolk</td>\n",
       "      <td>AU</td>\n",
       "      <td>147.06</td>\n",
       "      <td>-42.78</td>\n",
       "      <td>11.39</td>\n",
       "      <td>79</td>\n",
       "      <td>0.46</td>\n",
       "      <td>100</td>\n",
       "    </tr>\n",
       "    <tr>\n",
       "      <th>4</th>\n",
       "      <td>4</td>\n",
       "      <td>Whittlesea</td>\n",
       "      <td>ZA</td>\n",
       "      <td>26.82</td>\n",
       "      <td>-32.18</td>\n",
       "      <td>28.40</td>\n",
       "      <td>26</td>\n",
       "      <td>15.24</td>\n",
       "      <td>99</td>\n",
       "    </tr>\n",
       "  </tbody>\n",
       "</table>\n",
       "</div>"
      ],
      "text/plain": [
       "   Unnamed: 0         City Country     Lng    Lat  Maximum Temperature (C)  \\\n",
       "0           0   São Filipe      CV  -24.50  14.90                    27.74   \n",
       "1           1      Rikitea      PF -134.97 -23.12                    23.34   \n",
       "2           2     Berlevåg      NO   29.09  70.86                     2.28   \n",
       "3           3  New Norfolk      AU  147.06 -42.78                    11.39   \n",
       "4           4   Whittlesea      ZA   26.82 -32.18                    28.40   \n",
       "\n",
       "   Humidity (%)  Wind Speed (km/h)  Cloudiness (%)  \n",
       "0            70               4.04               2  \n",
       "1            79               1.48              41  \n",
       "2            86              17.50              75  \n",
       "3            79               0.46             100  \n",
       "4            26              15.24              99  "
      ]
     },
     "execution_count": 20,
     "metadata": {},
     "output_type": "execute_result"
    }
   ],
   "source": [
    "hotel_df.head()"
   ]
  },
  {
   "cell_type": "code",
   "execution_count": 21,
   "metadata": {},
   "outputs": [
    {
     "data": {
      "text/plain": [
       "pandas.core.frame.DataFrame"
      ]
     },
     "execution_count": 21,
     "metadata": {},
     "output_type": "execute_result"
    }
   ],
   "source": [
    "type(hotel_df)"
   ]
  },
  {
   "cell_type": "code",
   "execution_count": 22,
   "metadata": {},
   "outputs": [],
   "source": [
    "hotel_df=hotel_df[hotel_df[\"Maximum Temperature (C)\"] >25]"
   ]
  },
  {
   "cell_type": "code",
   "execution_count": 23,
   "metadata": {},
   "outputs": [],
   "source": [
    "hotel_df=hotel_df[hotel_df[\"Wind Speed (km/h)\"] <10]\n"
   ]
  },
  {
   "cell_type": "code",
   "execution_count": 24,
   "metadata": {},
   "outputs": [
    {
     "data": {
      "text/plain": [
       "(165, 9)"
      ]
     },
     "execution_count": 24,
     "metadata": {},
     "output_type": "execute_result"
    }
   ],
   "source": [
    "hotel_df.shape"
   ]
  },
  {
   "cell_type": "code",
   "execution_count": 25,
   "metadata": {},
   "outputs": [
    {
     "data": {
      "text/plain": [
       "pandas.core.frame.DataFrame"
      ]
     },
     "execution_count": 25,
     "metadata": {},
     "output_type": "execute_result"
    }
   ],
   "source": [
    "type(hotel_df)"
   ]
  },
  {
   "cell_type": "code",
   "execution_count": 26,
   "metadata": {},
   "outputs": [
    {
     "data": {
      "text/plain": [
       "(165, 9)"
      ]
     },
     "execution_count": 26,
     "metadata": {},
     "output_type": "execute_result"
    }
   ],
   "source": [
    "hotel_df.shape"
   ]
  },
  {
   "cell_type": "markdown",
   "metadata": {},
   "source": [
    "### Hotel Map\n",
    "* Store into variable named `hotel_df`.\n",
    "* Add a \"Hotel Name\" column to the DataFrame.\n",
    "* Set parameters to search for hotels with 5000 meters.\n",
    "* Hit the Google Places API for each city's coordinates.\n",
    "* Store the first Hotel result into the DataFrame.\n",
    "* Plot markers on top of the heatmap."
   ]
  },
  {
   "cell_type": "code",
   "execution_count": 27,
   "metadata": {},
   "outputs": [],
   "source": [
    "hotel_df['Hotel'] = \"\""
   ]
  },
  {
   "cell_type": "code",
   "execution_count": 28,
   "metadata": {},
   "outputs": [
    {
     "data": {
      "text/html": [
       "<div>\n",
       "<style scoped>\n",
       "    .dataframe tbody tr th:only-of-type {\n",
       "        vertical-align: middle;\n",
       "    }\n",
       "\n",
       "    .dataframe tbody tr th {\n",
       "        vertical-align: top;\n",
       "    }\n",
       "\n",
       "    .dataframe thead th {\n",
       "        text-align: right;\n",
       "    }\n",
       "</style>\n",
       "<table border=\"1\" class=\"dataframe\">\n",
       "  <thead>\n",
       "    <tr style=\"text-align: right;\">\n",
       "      <th></th>\n",
       "      <th>Unnamed: 0</th>\n",
       "      <th>City</th>\n",
       "      <th>Country</th>\n",
       "      <th>Lng</th>\n",
       "      <th>Lat</th>\n",
       "      <th>Maximum Temperature (C)</th>\n",
       "      <th>Humidity (%)</th>\n",
       "      <th>Wind Speed (km/h)</th>\n",
       "      <th>Cloudiness (%)</th>\n",
       "      <th>Hotel</th>\n",
       "    </tr>\n",
       "  </thead>\n",
       "  <tbody>\n",
       "    <tr>\n",
       "      <th>0</th>\n",
       "      <td>0</td>\n",
       "      <td>São Filipe</td>\n",
       "      <td>CV</td>\n",
       "      <td>-24.50</td>\n",
       "      <td>14.90</td>\n",
       "      <td>27.74</td>\n",
       "      <td>70</td>\n",
       "      <td>4.04</td>\n",
       "      <td>2</td>\n",
       "      <td></td>\n",
       "    </tr>\n",
       "    <tr>\n",
       "      <th>10</th>\n",
       "      <td>10</td>\n",
       "      <td>Sittwe</td>\n",
       "      <td>MM</td>\n",
       "      <td>92.90</td>\n",
       "      <td>20.15</td>\n",
       "      <td>27.69</td>\n",
       "      <td>84</td>\n",
       "      <td>8.94</td>\n",
       "      <td>95</td>\n",
       "      <td></td>\n",
       "    </tr>\n",
       "    <tr>\n",
       "      <th>20</th>\n",
       "      <td>20</td>\n",
       "      <td>Entre Rios</td>\n",
       "      <td>BR</td>\n",
       "      <td>-38.08</td>\n",
       "      <td>-11.94</td>\n",
       "      <td>30.45</td>\n",
       "      <td>49</td>\n",
       "      <td>4.06</td>\n",
       "      <td>13</td>\n",
       "      <td></td>\n",
       "    </tr>\n",
       "    <tr>\n",
       "      <th>31</th>\n",
       "      <td>31</td>\n",
       "      <td>Fort Myers Beach</td>\n",
       "      <td>US</td>\n",
       "      <td>-81.95</td>\n",
       "      <td>26.45</td>\n",
       "      <td>25.36</td>\n",
       "      <td>94</td>\n",
       "      <td>3.10</td>\n",
       "      <td>1</td>\n",
       "      <td></td>\n",
       "    </tr>\n",
       "    <tr>\n",
       "      <th>34</th>\n",
       "      <td>34</td>\n",
       "      <td>Malakal</td>\n",
       "      <td>SS</td>\n",
       "      <td>31.66</td>\n",
       "      <td>9.53</td>\n",
       "      <td>33.38</td>\n",
       "      <td>48</td>\n",
       "      <td>1.67</td>\n",
       "      <td>82</td>\n",
       "      <td></td>\n",
       "    </tr>\n",
       "  </tbody>\n",
       "</table>\n",
       "</div>"
      ],
      "text/plain": [
       "    Unnamed: 0              City Country    Lng    Lat  \\\n",
       "0            0        São Filipe      CV -24.50  14.90   \n",
       "10          10            Sittwe      MM  92.90  20.15   \n",
       "20          20        Entre Rios      BR -38.08 -11.94   \n",
       "31          31  Fort Myers Beach      US -81.95  26.45   \n",
       "34          34           Malakal      SS  31.66   9.53   \n",
       "\n",
       "    Maximum Temperature (C)  Humidity (%)  Wind Speed (km/h)  Cloudiness (%)  \\\n",
       "0                     27.74            70               4.04               2   \n",
       "10                    27.69            84               8.94              95   \n",
       "20                    30.45            49               4.06              13   \n",
       "31                    25.36            94               3.10               1   \n",
       "34                    33.38            48               1.67              82   \n",
       "\n",
       "   Hotel  \n",
       "0         \n",
       "10        \n",
       "20        \n",
       "31        \n",
       "34        "
      ]
     },
     "execution_count": 28,
     "metadata": {},
     "output_type": "execute_result"
    }
   ],
   "source": [
    "hotel_df.head()"
   ]
  },
  {
   "cell_type": "code",
   "execution_count": 29,
   "metadata": {},
   "outputs": [
    {
     "data": {
      "text/plain": [
       "Unnamed: 0                   int64\n",
       "City                        object\n",
       "Country                     object\n",
       "Lng                        float64\n",
       "Lat                        float64\n",
       "Maximum Temperature (C)    float64\n",
       "Humidity (%)                 int64\n",
       "Wind Speed (km/h)          float64\n",
       "Cloudiness (%)               int64\n",
       "Hotel                       object\n",
       "dtype: object"
      ]
     },
     "execution_count": 29,
     "metadata": {},
     "output_type": "execute_result"
    }
   ],
   "source": [
    "hotel_df.dtypes"
   ]
  },
  {
   "cell_type": "code",
   "execution_count": 30,
   "metadata": {},
   "outputs": [
    {
     "name": "stdout",
     "output_type": "stream",
     "text": [
      "Retrieving Results for São Filipe at coordinates (14.9, -24.5)\n",
      "Closest hotel in São Filipe is Hotel Ocean View & Restaurante Seafood.\n",
      "------------\n",
      "Retrieving Results for Sittwe at coordinates (20.15, 92.9)\n",
      "Closest hotel in Sittwe is Yuzana Aung Hotel.\n",
      "------------\n",
      "Retrieving Results for Entre Rios at coordinates (-11.94, -38.08)\n",
      "Closest hotel in Entre Rios is Hotel Rio Center.\n",
      "------------\n",
      "Retrieving Results for Fort Myers Beach at coordinates (26.45, -81.95)\n",
      "Closest hotel in Fort Myers Beach is Hampton Inn & Suites Fort Myers Beach/Sanibel Gateway.\n",
      "------------\n",
      "Retrieving Results for Malakal at coordinates (9.53, 31.66)\n",
      "Closest hotel in Malakal is Nile Palace Hotel.\n",
      "------------\n",
      "Retrieving Results for Port Alfred at coordinates (-33.59, 26.89)\n",
      "Closest hotel in Port Alfred is Royal St Andrews Hotel.\n",
      "------------\n",
      "Retrieving Results for Richards Bay at coordinates (-28.78, 32.04)\n",
      "Closest hotel in Richards Bay is BON Hotel Waterfront Richards Bay.\n",
      "------------\n",
      "Retrieving Results for Butaritari at coordinates (3.07, 172.79)\n",
      "Missing field/result... skipping.\n",
      "------------\n",
      "Retrieving Results for Arraial do Cabo at coordinates (-22.97, -42.03)\n",
      "Closest hotel in Arraial do Cabo is Orlanova Boutique Hotel.\n",
      "------------\n",
      "Retrieving Results for Ipu at coordinates (-4.32, -40.71)\n",
      "Closest hotel in Ipu is Pousada São Pedro De Ipu - CE.\n",
      "------------\n",
      "Retrieving Results for Faanui at coordinates (-16.48, -151.75)\n",
      "Closest hotel in Faanui is InterContinental Bora Bora Resort Thalasso Spa.\n",
      "------------\n",
      "Retrieving Results for Gachsaran at coordinates (30.36, 50.8)\n",
      "Closest hotel in Gachsaran is مهمان سرای مرصاد.\n",
      "------------\n",
      "Retrieving Results for ‘Āhuimanu at coordinates (21.44, -157.84)\n",
      "Closest hotel in ‘Āhuimanu is Paradise Bay Resort.\n",
      "------------\n",
      "Retrieving Results for Constantine at coordinates (36.37, 6.61)\n",
      "Closest hotel in Constantine is Constantine Marriott Hotel.\n",
      "------------\n",
      "Retrieving Results for Atuona at coordinates (-9.8, -139.03)\n",
      "Closest hotel in Atuona is Hôtel Hiva Oa Hanakee Lodge.\n",
      "------------\n",
      "Retrieving Results for Grand Gaube at coordinates (-20.01, 57.66)\n",
      "Closest hotel in Grand Gaube is LUX Grand Gaube Resort & Villas.\n",
      "------------\n",
      "Retrieving Results for Nouadhibou at coordinates (20.93, -17.03)\n",
      "Closest hotel in Nouadhibou is Free Zone Hotel Nouadhibou.\n",
      "------------\n",
      "Retrieving Results for Hambantota at coordinates (6.12, 81.12)\n",
      "Closest hotel in Hambantota is The Peacock Beach Hotel Hambantota.\n",
      "------------\n",
      "Retrieving Results for Abeokuta at coordinates (7.15, 3.35)\n",
      "Closest hotel in Abeokuta is Park Inn by Radisson Abeokuta.\n",
      "------------\n",
      "Retrieving Results for Sorong at coordinates (-0.88, 131.25)\n",
      "Closest hotel in Sorong is Swiss-Belhotel Sorong.\n",
      "------------\n",
      "Retrieving Results for Kavaratti at coordinates (10.57, 72.64)\n",
      "Closest hotel in Kavaratti is Bismillah Hotel And Lodging.\n",
      "------------\n",
      "Retrieving Results for Qeshm at coordinates (26.96, 56.27)\n",
      "Closest hotel in Qeshm is Irman BOUTIQUE HOTEL.\n",
      "------------\n",
      "Retrieving Results for Souillac at coordinates (-20.52, 57.52)\n",
      "Closest hotel in Souillac is SkylineInn Hotel.\n",
      "------------\n",
      "Retrieving Results for Bengkulu at coordinates (-3.8, 102.27)\n",
      "Closest hotel in Bengkulu is Mercure Bengkulu.\n",
      "------------\n",
      "Retrieving Results for Hithadhoo at coordinates (-0.6, 73.08)\n",
      "Closest hotel in Hithadhoo is Bloomy Inn.\n",
      "------------\n",
      "Retrieving Results for Camapuã at coordinates (-19.53, -54.04)\n",
      "Closest hotel in Camapuã is Hotel Pousada JL.\n",
      "------------\n",
      "Retrieving Results for Kampot at coordinates (10.62, 104.18)\n",
      "Closest hotel in Kampot is Vimean Riverside Boutique.\n",
      "------------\n",
      "Retrieving Results for Kâhta at coordinates (37.79, 38.62)\n",
      "Closest hotel in Kâhta is Kommagene Hotel.\n",
      "------------\n",
      "Retrieving Results for Tamale at coordinates (9.4, -0.84)\n",
      "Closest hotel in Tamale is Jeyads Lodge.\n",
      "------------\n",
      "Retrieving Results for Sinnamary at coordinates (5.38, -52.95)\n",
      "Closest hotel in Sinnamary is L'oiseau de Paradis.\n",
      "------------\n",
      "Retrieving Results for Meulaboh at coordinates (4.14, 96.13)\n",
      "Closest hotel in Meulaboh is Khalifa homestay \"Rumoh Jamee\".\n",
      "------------\n",
      "Retrieving Results for Inhambane at coordinates (-23.86, 35.38)\n",
      "Closest hotel in Inhambane is Hotel Casa Do Capitão.\n",
      "------------\n",
      "Retrieving Results for Ixtapa at coordinates (20.7, -105.2)\n",
      "Closest hotel in Ixtapa is Flamingo Vallarta Hotel & Marina.\n",
      "------------\n",
      "Retrieving Results for Vrede at coordinates (-27.43, 29.17)\n",
      "Closest hotel in Vrede is Emanzini Resort.\n",
      "------------\n",
      "Retrieving Results for Jos at coordinates (9.92, 8.9)\n",
      "Closest hotel in Jos is Valada Hotel and Resorts.\n",
      "------------\n",
      "Retrieving Results for Abu Kamal at coordinates (34.45, 40.92)\n",
      "Closest hotel in Abu Kamal is مطعم السلام.\n",
      "------------\n",
      "Retrieving Results for São João da Barra at coordinates (-21.64, -41.05)\n",
      "Closest hotel in São João da Barra is OYO Pousada Mediterrâneo.\n",
      "------------\n",
      "Retrieving Results for Werda at coordinates (-25.27, 23.28)\n",
      "Missing field/result... skipping.\n",
      "------------\n",
      "Retrieving Results for Dagana at coordinates (16.52, -15.51)\n",
      "Closest hotel in Dagana is FORT DE DAGANA ANCIEN FORT FAIDHERBE.\n",
      "------------\n",
      "Retrieving Results for Cururupu at coordinates (-1.83, -44.87)\n",
      "Closest hotel in Cururupu is Hotel Líder.\n",
      "------------\n",
      "Retrieving Results for Padang at coordinates (-0.95, 100.35)\n",
      "Closest hotel in Padang is Air Manis Hill Residence.\n",
      "------------\n",
      "Retrieving Results for Bilma at coordinates (18.69, 12.92)\n",
      "Missing field/result... skipping.\n",
      "------------\n",
      "Retrieving Results for Yārāda at coordinates (17.65, 83.27)\n",
      "Missing field/result... skipping.\n",
      "------------\n",
      "Retrieving Results for Hobyo at coordinates (5.35, 48.53)\n",
      "Missing field/result... skipping.\n",
      "------------\n",
      "Retrieving Results for Lorengau at coordinates (-2.02, 147.27)\n",
      "Closest hotel in Lorengau is Lorengau Harbourside Hotel.\n",
      "------------\n",
      "Retrieving Results for Ismailia at coordinates (30.6, 32.27)\n",
      "Closest hotel in Ismailia is Tolip Alforsan Island Hotel And Spa.\n",
      "------------\n",
      "Retrieving Results for Miramar at coordinates (25.99, -80.23)\n",
      "Closest hotel in Miramar is Belvedere Inn.\n",
      "------------\n",
      "Retrieving Results for Kalmunai at coordinates (7.42, 81.82)\n",
      "Closest hotel in Kalmunai is LUXEZ garden house.\n",
      "------------\n",
      "Retrieving Results for Amuntai at coordinates (-2.42, 115.25)\n",
      "Closest hotel in Amuntai is Minosa Resort Hotel.\n",
      "------------\n",
      "Retrieving Results for Quatre Cocos at coordinates (-20.21, 57.76)\n",
      "Closest hotel in Quatre Cocos is Shangri-La's Le Touessrok Resort & Spa.\n",
      "------------\n",
      "Retrieving Results for George Town at coordinates (5.41, 100.34)\n",
      "Closest hotel in George Town is The Southern Boutique Hotel.\n",
      "------------\n",
      "Retrieving Results for Lodwar at coordinates (3.12, 35.6)\n",
      "Closest hotel in Lodwar is The Cradle Tented Camp.\n",
      "------------\n",
      "Retrieving Results for Bonthe at coordinates (7.53, -12.51)\n",
      "Closest hotel in Bonthe is Bonthe Holiday Village.\n",
      "------------\n",
      "Retrieving Results for Palauig at coordinates (15.44, 119.9)\n",
      "Closest hotel in Palauig is Myhousebythesea.\n",
      "------------\n",
      "Retrieving Results for Pedernales at coordinates (18.04, -71.74)\n",
      "Closest hotel in Pedernales is Hotel Vista de las Águilas.\n",
      "------------\n",
      "Retrieving Results for Itupiranga at coordinates (-5.13, -49.33)\n",
      "Closest hotel in Itupiranga is Hotel Beira Rio.\n",
      "------------\n",
      "Retrieving Results for Marsh Harbour at coordinates (26.54, -77.06)\n",
      "Closest hotel in Marsh Harbour is Abaco Beach Resort.\n",
      "------------\n",
      "Retrieving Results for Bārmer at coordinates (25.75, 71.38)\n",
      "Closest hotel in Bārmer is Sanchal Fort.\n",
      "------------\n",
      "Retrieving Results for Mahébourg at coordinates (-20.41, 57.7)\n",
      "Closest hotel in Mahébourg is Holiday Inn Mauritius Mon Tresor.\n",
      "------------\n",
      "Retrieving Results for Şabyā at coordinates (17.15, 42.63)\n",
      "Closest hotel in Şabyā is Aseel Hotel Apartment.\n",
      "------------\n",
      "Retrieving Results for Touros at coordinates (-5.2, -35.46)\n",
      "Closest hotel in Touros is Hotel Vila Gale Touros.\n",
      "------------\n",
      "Retrieving Results for Cockburn Town at coordinates (21.46, -71.14)\n",
      "Closest hotel in Cockburn Town is Bohio Dive Resort.\n",
      "------------\n",
      "Retrieving Results for Benguela at coordinates (-12.58, 13.41)\n",
      "Closest hotel in Benguela is Aparthotel Mil Cidades.\n",
      "------------\n",
      "Retrieving Results for Biltine at coordinates (14.53, 20.92)\n",
      "Missing field/result... skipping.\n",
      "------------\n",
      "Retrieving Results for Namwala at coordinates (-15.75, 26.44)\n"
     ]
    },
    {
     "name": "stdout",
     "output_type": "stream",
     "text": [
      "Missing field/result... skipping.\n",
      "------------\n",
      "Retrieving Results for Amahai at coordinates (-3.33, 128.92)\n",
      "Closest hotel in Amahai is Hotel Onemai.\n",
      "------------\n",
      "Retrieving Results for Pangoa at coordinates (-12.12, -73.0)\n",
      "Missing field/result... skipping.\n",
      "------------\n",
      "Retrieving Results for Bontang at coordinates (0.13, 117.5)\n",
      "Closest hotel in Bontang is Hotel Garuda Bontang.\n",
      "------------\n",
      "Retrieving Results for Kangaba at coordinates (11.93, -8.42)\n",
      "Closest hotel in Kangaba is Hotel Residence KANGABA.\n",
      "------------\n",
      "Retrieving Results for Jacareacanga at coordinates (-6.22, -57.75)\n",
      "Closest hotel in Jacareacanga is HOTEL VIANA.\n",
      "------------\n",
      "Retrieving Results for Goma at coordinates (-1.68, 29.22)\n",
      "Closest hotel in Goma is Goma Serena Hotel.\n",
      "------------\n",
      "Retrieving Results for Boma at coordinates (7.08, -2.17)\n",
      "Missing field/result... skipping.\n",
      "------------\n",
      "Retrieving Results for Bambous Virieux at coordinates (-20.34, 57.76)\n",
      "Closest hotel in Bambous Virieux is Seaview Villa.\n",
      "------------\n",
      "Retrieving Results for Ligayan at coordinates (4.65, 119.47)\n",
      "Missing field/result... skipping.\n",
      "------------\n",
      "Retrieving Results for Burgersdorp at coordinates (-31.0, 26.33)\n",
      "Closest hotel in Burgersdorp is The Kingsman boutique hotel.\n",
      "------------\n",
      "Retrieving Results for Vila do Maio at coordinates (15.13, -23.22)\n",
      "Closest hotel in Vila do Maio is Stella Maris.\n",
      "------------\n",
      "Retrieving Results for Chlórakas at coordinates (34.8, 32.41)\n",
      "Closest hotel in Chlórakas is Atlantica Mare Village Paphos.\n",
      "------------\n",
      "Retrieving Results for Liku at coordinates (-0.73, 119.89)\n",
      "Missing field/result... skipping.\n",
      "------------\n",
      "Retrieving Results for Harper at coordinates (4.38, -7.72)\n",
      "Closest hotel in Harper is Grands' Guesthouse.\n",
      "------------\n",
      "Retrieving Results for Kununurra at coordinates (-15.77, 128.73)\n",
      "Closest hotel in Kununurra is The Kimberley Grande Resort.\n",
      "------------\n",
      "Retrieving Results for Kintampo at coordinates (8.06, -1.73)\n",
      "Closest hotel in Kintampo is Falls Executive Guest House.\n",
      "------------\n",
      "Retrieving Results for Nioro at coordinates (13.35, -15.75)\n",
      "Missing field/result... skipping.\n",
      "------------\n",
      "Retrieving Results for City of San Pedro at coordinates (14.35, 121.02)\n",
      "Closest hotel in City of San Pedro is Palines Apartment and Guesthouse.\n",
      "------------\n",
      "Retrieving Results for Ciudad Bolivar at coordinates (8.12, -63.55)\n",
      "Closest hotel in Ciudad Bolivar is Hotel Laja Real.\n",
      "------------\n",
      "Retrieving Results for Oriximiná at coordinates (-1.77, -55.87)\n",
      "Closest hotel in Oriximiná is Hotel Mapuera.\n",
      "------------\n",
      "Retrieving Results for Guider at coordinates (9.93, 13.95)\n",
      "Closest hotel in Guider is Hotel Falaise.\n",
      "------------\n",
      "Retrieving Results for Mwene-Ditu at coordinates (-7.0, 23.45)\n",
      "Missing field/result... skipping.\n",
      "------------\n",
      "Retrieving Results for Lobito at coordinates (-12.35, 13.55)\n",
      "Closest hotel in Lobito is Casa Rosa Hotel Residence.\n",
      "------------\n",
      "Retrieving Results for Nangwa at coordinates (-4.47, 35.45)\n",
      "Closest hotel in Nangwa is Nangwa.\n",
      "------------\n",
      "Retrieving Results for The Valley at coordinates (18.22, -63.06)\n",
      "Closest hotel in The Valley is Fountain Residences Anguilla.\n",
      "------------\n",
      "Retrieving Results for Sur at coordinates (22.57, 59.53)\n",
      "Closest hotel in Sur is Sur Plaza Hotel.\n",
      "------------\n",
      "Retrieving Results for Tual at coordinates (-5.67, 132.75)\n",
      "Closest hotel in Tual is Grand Vilia Hotel.\n",
      "------------\n",
      "Retrieving Results for Kavieng at coordinates (-2.57, 150.8)\n",
      "Closest hotel in Kavieng is Nusa Island Retreat.\n",
      "------------\n",
      "Retrieving Results for Mossamedes at coordinates (-15.2, 12.15)\n",
      "Closest hotel in Mossamedes is Infotur Namibe.\n",
      "------------\n",
      "Retrieving Results for Trincomalee at coordinates (8.57, 81.23)\n",
      "Closest hotel in Trincomalee is Trinco Star Hotel.\n",
      "------------\n",
      "Retrieving Results for Makakilo City at coordinates (21.35, -158.09)\n",
      "Closest hotel in Makakilo City is Marriott's Ko Olina Beach Club.\n",
      "------------\n",
      "Retrieving Results for Progreso at coordinates (21.28, -89.67)\n",
      "Closest hotel in Progreso is Hotel Progreso Beach.\n",
      "------------\n",
      "Retrieving Results for Tabou at coordinates (4.42, -7.35)\n",
      "Closest hotel in Tabou is hotêl doufoulougou.\n",
      "------------\n",
      "Retrieving Results for Mitsamiouli at coordinates (-11.38, 43.28)\n",
      "Closest hotel in Mitsamiouli is Al Camar Lodge.\n",
      "------------\n",
      "Retrieving Results for Marzuq at coordinates (14.4, 46.47)\n",
      "Missing field/result... skipping.\n",
      "------------\n",
      "Retrieving Results for Katherine at coordinates (-14.47, 132.27)\n",
      "Closest hotel in Katherine is Knotts Crossing Resort.\n",
      "------------\n",
      "Retrieving Results for Galle at coordinates (6.04, 80.22)\n",
      "Closest hotel in Galle is Le Grand Galle.\n",
      "------------\n",
      "Retrieving Results for Dzaoudzi at coordinates (-12.79, 45.27)\n",
      "Closest hotel in Dzaoudzi is Oasis hôtel.\n",
      "------------\n",
      "Retrieving Results for Kuraymah at coordinates (18.55, 31.85)\n",
      "Closest hotel in Kuraymah is Al Nassr Hotel.\n",
      "------------\n",
      "Retrieving Results for Sarangani at coordinates (5.4, 125.46)\n",
      "Closest hotel in Sarangani is Ballistic Islet.\n",
      "------------\n",
      "Retrieving Results for Kieta at coordinates (-6.22, 155.63)\n",
      "Missing field/result... skipping.\n",
      "------------\n",
      "Retrieving Results for Pimenta Bueno at coordinates (-11.67, -61.19)\n",
      "Closest hotel in Pimenta Bueno is Hotel Kanaan.\n",
      "------------\n",
      "Retrieving Results for Shakawe at coordinates (-18.37, 21.85)\n",
      "Closest hotel in Shakawe is Drotsky's Cabins.\n",
      "------------\n",
      "Retrieving Results for Ubari at coordinates (26.59, 12.78)\n",
      "Missing field/result... skipping.\n",
      "------------\n",
      "Retrieving Results for Ngoro at coordinates (-7.68, 112.26)\n",
      "Missing field/result... skipping.\n",
      "------------\n",
      "Retrieving Results for Biak at coordinates (-0.91, 122.88)\n",
      "Missing field/result... skipping.\n",
      "------------\n",
      "Retrieving Results for Alyangula at coordinates (-13.85, 136.42)\n",
      "Closest hotel in Alyangula is Groote Eylandt Lodge.\n",
      "------------\n",
      "Retrieving Results for Riyadh at coordinates (24.69, 46.72)\n",
      "Closest hotel in Riyadh is Vittori Palace Hotel.\n",
      "------------\n",
      "Retrieving Results for Raja at coordinates (8.46, 25.68)\n",
      "Missing field/result... skipping.\n",
      "------------\n",
      "Retrieving Results for Samarai at coordinates (-10.62, 150.67)\n",
      "Closest hotel in Samarai is Nuli Sapi.\n",
      "------------\n",
      "Retrieving Results for Qurayyat at coordinates (31.33, 37.34)\n",
      "Closest hotel in Qurayyat is The life of the Knights Hotel Suites.\n",
      "------------\n",
      "Retrieving Results for Neiva at coordinates (2.93, -75.28)\n",
      "Closest hotel in Neiva is Hotel Chicalá.\n",
      "------------\n",
      "Retrieving Results for Yafran at coordinates (32.06, 12.53)\n",
      "Closest hotel in Yafran is فندق يفرن السياحي.\n",
      "------------\n",
      "Retrieving Results for Santa Cruz de la Sierra at coordinates (-17.8, -63.17)\n",
      "Closest hotel in Santa Cruz de la Sierra is TUCABACA HOTEL | Boutique.\n",
      "------------\n",
      "Retrieving Results for Eyl at coordinates (7.98, 49.82)\n",
      "Closest hotel in Eyl is Amiin Hotel.\n",
      "------------\n",
      "Retrieving Results for Dzilam González at coordinates (21.28, -88.93)\n",
      "Missing field/result... skipping.\n",
      "------------\n",
      "Retrieving Results for Brasiléia at coordinates (-11.02, -68.75)\n",
      "Closest hotel in Brasiléia is Brasiléia Palace Hotel.\n",
      "------------\n",
      "Retrieving Results for Najrān at coordinates (17.49, 44.13)\n",
      "Missing field/result... skipping.\n",
      "------------\n",
      "Retrieving Results for Goianápolis at coordinates (-16.51, -49.02)\n",
      "Missing field/result... skipping.\n",
      "------------\n",
      "Retrieving Results for Adrar at coordinates (20.5, -10.07)\n",
      "Missing field/result... skipping.\n",
      "------------\n",
      "Retrieving Results for Baghdad at coordinates (33.34, 44.4)\n",
      "Closest hotel in Baghdad is Baghdad Hotel.\n",
      "------------\n",
      "Retrieving Results for Bangassou at coordinates (4.74, 22.82)\n",
      "Missing field/result... skipping.\n",
      "------------\n",
      "Retrieving Results for Campo Maior at coordinates (-4.83, -42.17)\n",
      "Closest hotel in Campo Maior is Carnaúba Palace Hotel.\n",
      "------------\n",
      "Retrieving Results for Sennar at coordinates (13.57, 33.57)\n",
      "Closest hotel in Sennar is alkhairat hotel.\n",
      "------------\n",
      "Retrieving Results for Cayenne at coordinates (4.93, -52.33)\n",
      "Closest hotel in Cayenne is Royal Amazonia.\n",
      "------------\n",
      "Retrieving Results for Salinópolis at coordinates (-0.61, -47.36)\n",
      "Closest hotel in Salinópolis is Hotel Concha do Mar.\n",
      "------------\n",
      "Retrieving Results for Bambanglipuro at coordinates (-7.95, 110.28)\n",
      "Closest hotel in Bambanglipuro is Puri Brata.\n",
      "------------\n",
      "Retrieving Results for Eydhafushi at coordinates (5.1, 73.07)\n"
     ]
    },
    {
     "name": "stdout",
     "output_type": "stream",
     "text": [
      "Closest hotel in Eydhafushi is Soneva Fushi.\n",
      "------------\n",
      "Retrieving Results for Puri at coordinates (19.8, 85.85)\n",
      "Closest hotel in Puri is Hotel Holiday Resort.\n",
      "------------\n",
      "Retrieving Results for Port Blair at coordinates (11.67, 92.75)\n",
      "Closest hotel in Port Blair is Symphony Samudra, Port Blair.\n",
      "------------\n",
      "Retrieving Results for Turaif at coordinates (31.67, 38.66)\n",
      "Closest hotel in Turaif is Golden Dune Hotel.\n",
      "------------\n",
      "Retrieving Results for Luanda at coordinates (-8.84, 13.23)\n",
      "Closest hotel in Luanda is EPIC SANA Luanda.\n",
      "------------\n",
      "Retrieving Results for Kushālgarh at coordinates (23.2, 74.45)\n",
      "Closest hotel in Kushālgarh is Hotel Janvi.\n",
      "------------\n",
      "Retrieving Results for Bikaner at coordinates (28.02, 73.3)\n",
      "Closest hotel in Bikaner is Narendra Bhawan Bikaner (A Unit of MRS Hospitality).\n",
      "------------\n",
      "Retrieving Results for Sungai Raya at coordinates (0.7, 108.9)\n",
      "Missing field/result... skipping.\n",
      "------------\n",
      "Retrieving Results for Banda Aceh at coordinates (5.56, 95.32)\n",
      "Closest hotel in Banda Aceh is Grand Aceh Hotel.\n",
      "------------\n",
      "Retrieving Results for Yenagoa at coordinates (4.92, 6.26)\n",
      "Closest hotel in Yenagoa is Amba Hotels Limited.\n",
      "------------\n",
      "Retrieving Results for Fare at coordinates (-16.7, -151.02)\n",
      "Closest hotel in Fare is Maitai Lapita Village Huahine.\n",
      "------------\n",
      "Retrieving Results for Bani Walid at coordinates (31.76, 13.99)\n",
      "Closest hotel in Bani Walid is فندق الزيتونة.\n",
      "------------\n",
      "Retrieving Results for Finschhafen at coordinates (-6.6, 147.87)\n",
      "Closest hotel in Finschhafen is Cossam Guest House.\n",
      "------------\n",
      "Retrieving Results for Harrismith at coordinates (-28.27, 29.13)\n",
      "Closest hotel in Harrismith is La La Nathi Country Guest House.\n",
      "------------\n",
      "Retrieving Results for Awjilah at coordinates (29.11, 21.29)\n",
      "Missing field/result... skipping.\n",
      "------------\n",
      "Retrieving Results for Itarema at coordinates (-2.92, -39.92)\n",
      "Closest hotel in Itarema is White Wind Resort.\n",
      "------------\n",
      "Retrieving Results for Shōranūr at coordinates (10.77, 76.28)\n",
      "Closest hotel in Shōranūr is The River Retreat Heritage Ayurvedic Resort.\n",
      "------------\n",
      "Retrieving Results for Beloha at coordinates (-25.17, 45.05)\n",
      "Missing field/result... skipping.\n",
      "------------\n",
      "Retrieving Results for Gizo Government Station at coordinates (-8.1, 156.84)\n",
      "Closest hotel in Gizo Government Station is Oravae Cottage.\n",
      "------------\n",
      "Retrieving Results for Guanare at coordinates (9.04, -69.74)\n",
      "Closest hotel in Guanare is Nuevo Hotel Coromoto.\n",
      "------------\n",
      "Retrieving Results for Santa Marta at coordinates (11.24, -74.2)\n",
      "Closest hotel in Santa Marta is Hilton Garden Inn Santa Marta, Colombia.\n",
      "------------\n",
      "Retrieving Results for Bom Jesus at coordinates (-9.07, -44.36)\n",
      "Closest hotel in Bom Jesus is Hotel.\n",
      "------------\n",
      "Retrieving Results for Lázaro Cárdenas at coordinates (17.96, -102.2)\n",
      "Closest hotel in Lázaro Cárdenas is Hotel de Casablanca.\n",
      "------------\n",
      "Retrieving Results for Upata at coordinates (8.01, -62.4)\n",
      "Closest hotel in Upata is Babandi Suites C.A. (Hotel Boutique, Resto-Bar).\n",
      "------------\n",
      "Retrieving Results for Waingapu at coordinates (-9.66, 120.26)\n",
      "Closest hotel in Waingapu is Tanto Hotel.\n",
      "------------\n",
      "Retrieving Results for Chipata at coordinates (-13.63, 32.65)\n",
      "Closest hotel in Chipata is Protea Hotel by Marriott Chipata.\n",
      "------------\n",
      "Retrieving Results for Kiryat Gat at coordinates (31.61, 34.76)\n",
      "Closest hotel in Kiryat Gat is Desert Gat.\n",
      "------------\n",
      "Retrieving Results for Amapá at coordinates (1.0, -52.0)\n",
      "Missing field/result... skipping.\n",
      "------------\n",
      "Retrieving Results for Nanga Eboko at coordinates (4.68, 12.37)\n",
      "Closest hotel in Nanga Eboko is Motel Papi Palace.\n",
      "------------\n",
      "Retrieving Results for Salalah at coordinates (17.02, 54.09)\n",
      "Closest hotel in Salalah is Alpha Suites Hotel.\n",
      "------------\n",
      "Retrieving Results for Tanete at coordinates (-3.94, 119.78)\n",
      "Closest hotel in Tanete is Hotel Tri Multi.\n",
      "------------\n",
      "Retrieving Results for Edd at coordinates (13.93, 41.69)\n",
      "Missing field/result... skipping.\n",
      "------------\n",
      "Retrieving Results for Nhulunbuy at coordinates (-12.23, 136.77)\n",
      "Closest hotel in Nhulunbuy is Walkabout Lodge & Tavern.\n",
      "------------\n"
     ]
    }
   ],
   "source": [
    "# find the closest hotel for each set of coordinates\n",
    "base_url = \"https://maps.googleapis.com/maps/api/place/nearbysearch/json\"\n",
    "  \n",
    " \n",
    "\n",
    "# use iterrows to iterate through pandas dataframe\n",
    "for index, row in hotel_df.iterrows():\n",
    "    lat = row[\"Lat\"]\n",
    "    lng = row[\"Lng\"]\n",
    "    city= row[\"City\"]\n",
    "\n",
    "    params = {\n",
    "    \"location\": f\"{lat}, {lng}\",\n",
    "    \"radius\": 5000,\n",
    "    'keyword': \"Hotel\",\n",
    "    \"key\": g_key,\n",
    "        }  \n",
    "\n",
    "# assemble url and make API request\n",
    "    print(f\"Retrieving Results for {city} at coordinates ({lat}, {lng})\")\n",
    "    response = requests.get(base_url, params=params).json()\n",
    "    \n",
    "# extract results\n",
    "    results = response['results']\n",
    "    \n",
    "    try:\n",
    "        print(f\"Closest hotel in {city} is {results[0]['name']}.\")\n",
    "        print(\"------------\")\n",
    "        hotel_df.loc[index, \"Hotel\"] = results[0][\"name\"]\n",
    "\n",
    "\n",
    "    except :\n",
    "        print(\"Missing field/result... skipping.\")\n",
    "        print(\"------------\")"
   ]
  },
  {
   "cell_type": "code",
   "execution_count": 31,
   "metadata": {},
   "outputs": [
    {
     "data": {
      "text/html": [
       "<div>\n",
       "<style scoped>\n",
       "    .dataframe tbody tr th:only-of-type {\n",
       "        vertical-align: middle;\n",
       "    }\n",
       "\n",
       "    .dataframe tbody tr th {\n",
       "        vertical-align: top;\n",
       "    }\n",
       "\n",
       "    .dataframe thead th {\n",
       "        text-align: right;\n",
       "    }\n",
       "</style>\n",
       "<table border=\"1\" class=\"dataframe\">\n",
       "  <thead>\n",
       "    <tr style=\"text-align: right;\">\n",
       "      <th></th>\n",
       "      <th>Unnamed: 0</th>\n",
       "      <th>City</th>\n",
       "      <th>Country</th>\n",
       "      <th>Lng</th>\n",
       "      <th>Lat</th>\n",
       "      <th>Maximum Temperature (C)</th>\n",
       "      <th>Humidity (%)</th>\n",
       "      <th>Wind Speed (km/h)</th>\n",
       "      <th>Cloudiness (%)</th>\n",
       "      <th>Hotel</th>\n",
       "    </tr>\n",
       "  </thead>\n",
       "  <tbody>\n",
       "    <tr>\n",
       "      <th>0</th>\n",
       "      <td>0</td>\n",
       "      <td>São Filipe</td>\n",
       "      <td>CV</td>\n",
       "      <td>-24.50</td>\n",
       "      <td>14.90</td>\n",
       "      <td>27.74</td>\n",
       "      <td>70</td>\n",
       "      <td>4.04</td>\n",
       "      <td>2</td>\n",
       "      <td>Hotel Ocean View &amp; Restaurante Seafood</td>\n",
       "    </tr>\n",
       "    <tr>\n",
       "      <th>10</th>\n",
       "      <td>10</td>\n",
       "      <td>Sittwe</td>\n",
       "      <td>MM</td>\n",
       "      <td>92.90</td>\n",
       "      <td>20.15</td>\n",
       "      <td>27.69</td>\n",
       "      <td>84</td>\n",
       "      <td>8.94</td>\n",
       "      <td>95</td>\n",
       "      <td>Yuzana Aung Hotel</td>\n",
       "    </tr>\n",
       "    <tr>\n",
       "      <th>20</th>\n",
       "      <td>20</td>\n",
       "      <td>Entre Rios</td>\n",
       "      <td>BR</td>\n",
       "      <td>-38.08</td>\n",
       "      <td>-11.94</td>\n",
       "      <td>30.45</td>\n",
       "      <td>49</td>\n",
       "      <td>4.06</td>\n",
       "      <td>13</td>\n",
       "      <td>Hotel Rio Center</td>\n",
       "    </tr>\n",
       "    <tr>\n",
       "      <th>31</th>\n",
       "      <td>31</td>\n",
       "      <td>Fort Myers Beach</td>\n",
       "      <td>US</td>\n",
       "      <td>-81.95</td>\n",
       "      <td>26.45</td>\n",
       "      <td>25.36</td>\n",
       "      <td>94</td>\n",
       "      <td>3.10</td>\n",
       "      <td>1</td>\n",
       "      <td>Hampton Inn &amp; Suites Fort Myers Beach/Sanibel ...</td>\n",
       "    </tr>\n",
       "    <tr>\n",
       "      <th>34</th>\n",
       "      <td>34</td>\n",
       "      <td>Malakal</td>\n",
       "      <td>SS</td>\n",
       "      <td>31.66</td>\n",
       "      <td>9.53</td>\n",
       "      <td>33.38</td>\n",
       "      <td>48</td>\n",
       "      <td>1.67</td>\n",
       "      <td>82</td>\n",
       "      <td>Nile Palace Hotel</td>\n",
       "    </tr>\n",
       "  </tbody>\n",
       "</table>\n",
       "</div>"
      ],
      "text/plain": [
       "    Unnamed: 0              City Country    Lng    Lat  \\\n",
       "0            0        São Filipe      CV -24.50  14.90   \n",
       "10          10            Sittwe      MM  92.90  20.15   \n",
       "20          20        Entre Rios      BR -38.08 -11.94   \n",
       "31          31  Fort Myers Beach      US -81.95  26.45   \n",
       "34          34           Malakal      SS  31.66   9.53   \n",
       "\n",
       "    Maximum Temperature (C)  Humidity (%)  Wind Speed (km/h)  Cloudiness (%)  \\\n",
       "0                     27.74            70               4.04               2   \n",
       "10                    27.69            84               8.94              95   \n",
       "20                    30.45            49               4.06              13   \n",
       "31                    25.36            94               3.10               1   \n",
       "34                    33.38            48               1.67              82   \n",
       "\n",
       "                                                Hotel  \n",
       "0              Hotel Ocean View & Restaurante Seafood  \n",
       "10                                  Yuzana Aung Hotel  \n",
       "20                                   Hotel Rio Center  \n",
       "31  Hampton Inn & Suites Fort Myers Beach/Sanibel ...  \n",
       "34                                  Nile Palace Hotel  "
      ]
     },
     "execution_count": 31,
     "metadata": {},
     "output_type": "execute_result"
    }
   ],
   "source": [
    "hotel_df.head()"
   ]
  },
  {
   "cell_type": "code",
   "execution_count": 32,
   "metadata": {},
   "outputs": [
    {
     "data": {
      "text/plain": [
       "(165, 10)"
      ]
     },
     "execution_count": 32,
     "metadata": {},
     "output_type": "execute_result"
    }
   ],
   "source": [
    "hotel_df.shape"
   ]
  },
  {
   "cell_type": "code",
   "execution_count": 33,
   "metadata": {},
   "outputs": [],
   "source": [
    "#Filter out rows where we did not find a hotel name."
   ]
  },
  {
   "cell_type": "code",
   "execution_count": 34,
   "metadata": {},
   "outputs": [],
   "source": [
    "hotel_df=hotel_df[hotel_df[\"Hotel\"] !=\"\"]"
   ]
  },
  {
   "cell_type": "code",
   "execution_count": 35,
   "metadata": {},
   "outputs": [
    {
     "data": {
      "text/plain": [
       "(136, 10)"
      ]
     },
     "execution_count": 35,
     "metadata": {},
     "output_type": "execute_result"
    }
   ],
   "source": [
    "hotel_df.shape"
   ]
  },
  {
   "cell_type": "code",
   "execution_count": 36,
   "metadata": {},
   "outputs": [],
   "source": [
    "# NOTE: Do not change any of the code in this cell\n",
    "\n",
    "# Using the template add the hotel marks to the heatmap\n",
    "info_box_template = \"\"\"\n",
    "<dl>\n",
    "<dt>Hotel Name</dt><dd>{Hotel}</dd>\n",
    "<dt>City</dt><dd>{City}</dd>\n",
    "<dt>Country</dt><dd>{Country}</dd>\n",
    "</dl>\n",
    "\"\"\"\n",
    "# Store the DataFrame Row\n",
    "# NOTE: be sure to update with your DataFrame name\n",
    "hotel_info = [info_box_template.format(**row) for index, row in hotel_df.iterrows()]\n",
    "locations = hotel_df[[\"Lat\", \"Lng\"]]"
   ]
  },
  {
   "cell_type": "code",
   "execution_count": 37,
   "metadata": {},
   "outputs": [],
   "source": [
    "# Add marker layer ontop of heat map\n",
    "markers = gmaps.marker_layer(locations,info_box_content=[info_box_template.format(**row) for index, row in hotel_df.iterrows()])\n",
    "fig.add_layer(markers)\n"
   ]
  },
  {
   "cell_type": "code",
   "execution_count": 38,
   "metadata": {},
   "outputs": [
    {
     "data": {
      "application/vnd.jupyter.widget-view+json": {
       "model_id": "f227c7518d354067994f1cfbff533ca7",
       "version_major": 2,
       "version_minor": 0
      },
      "text/plain": [
       "Figure(layout=FigureLayout(height='420px'))"
      ]
     },
     "metadata": {},
     "output_type": "display_data"
    }
   ],
   "source": [
    "fig"
   ]
  },
  {
   "cell_type": "code",
   "execution_count": null,
   "metadata": {},
   "outputs": [],
   "source": []
  }
 ],
 "metadata": {
  "kernelspec": {
   "display_name": "Python 3",
   "language": "python",
   "name": "python3"
  },
  "language_info": {
   "codemirror_mode": {
    "name": "ipython",
    "version": 3
   },
   "file_extension": ".py",
   "mimetype": "text/x-python",
   "name": "python",
   "nbconvert_exporter": "python",
   "pygments_lexer": "ipython3",
   "version": "3.6.10"
  },
  "latex_envs": {
   "LaTeX_envs_menu_present": true,
   "autoclose": false,
   "autocomplete": true,
   "bibliofile": "biblio.bib",
   "cite_by": "apalike",
   "current_citInitial": 1,
   "eqLabelWithNumbers": true,
   "eqNumInitial": 1,
   "hotkeys": {
    "equation": "Ctrl-E",
    "itemize": "Ctrl-I"
   },
   "labels_anchors": false,
   "latex_user_defs": false,
   "report_style_numbering": false,
   "user_envs_cfg": false
  }
 },
 "nbformat": 4,
 "nbformat_minor": 2
}
